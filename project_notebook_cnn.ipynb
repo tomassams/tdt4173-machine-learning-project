{
  "nbformat": 4,
  "nbformat_minor": 0,
  "metadata": {
    "colab": {
      "name": "Copy of TDT4173 project __ kvasir-dataset.ipynb",
      "provenance": [],
      "toc_visible": true,
      "include_colab_link": true
    },
    "kernelspec": {
      "name": "python3",
      "display_name": "Python 3"
    },
    "accelerator": "GPU"
  },
  "cells": [
    {
      "cell_type": "markdown",
      "metadata": {
        "id": "view-in-github",
        "colab_type": "text"
      },
      "source": [
        "<a href=\"https://colab.research.google.com/github/tomassams/tdt4173-machine-learning-project/blob/main/project_notebook_cnn.ipynb\" target=\"_parent\"><img src=\"https://colab.research.google.com/assets/colab-badge.svg\" alt=\"Open In Colab\"/></a>"
      ]
    },
    {
      "cell_type": "markdown",
      "metadata": {
        "id": "wsU1QHVNqj_I"
      },
      "source": [
        "\n",
        "----\n",
        "\n",
        "<div align=\"center\">\n",
        "\n",
        "<p align=\"center\">\n",
        "\n",
        "<h1> TDT4173 Project Assignment </h1>\n",
        "\n",
        "\n",
        "<h1> A comparison of KNN and CNN for image classification in the gastrointestinal tract</h1>\n",
        "\n",
        "<h2> CNN Implementation </h2>\n",
        "\n",
        "</p>\n",
        "\n",
        "</div>\n",
        "\n",
        "----\n"
      ]
    },
    {
      "cell_type": "markdown",
      "metadata": {
        "id": "P09dqkvnrG8e"
      },
      "source": [
        "*TDT4173 Machine Learning - NTNU, Fall 2020*\n",
        "\n",
        "This notebook is one of two notebooks containing code used in the group project assignment. It is intended for use in Google Colab, and should run without issues there. However, most cells and commands can likely also run locally with minor adjustments. Things like CLI commands in the beginning (wget, unzip, etc) might be different based on your operating system.\n",
        "\n",
        "The dataset used is the [Kvasir](https://datasets.simula.no/kvasir/) v2 dataset, containing classified images from the gastrointestinal tract.\n",
        "\n",
        "Note that some parts are computation heavy - e.g. model training in this notebook, and is preferably ran with GPU support. Colab environments are provided with GPU resources, this can be set in \"Runtime => Change runtime type\" in the top menu."
      ]
    },
    {
      "cell_type": "markdown",
      "metadata": {
        "id": "4yhdyBawJmSx"
      },
      "source": [
        "## 1 Setup and prerequisites"
      ]
    },
    {
      "cell_type": "markdown",
      "metadata": {
        "id": "d2hO4Ntlsr1j"
      },
      "source": [
        "If any of these imports return an error, you might have to install them with pip. It can be done in the command line, or by executing it in a notebook code cell. An export of the environment requirements can be found in **requirements.txt**."
      ]
    },
    {
      "cell_type": "code",
      "metadata": {
        "id": "y9yv5011yCUy"
      },
      "source": [
        "%matplotlib inline\n",
        "from matplotlib import pyplot as plt\n",
        "import os\n",
        "import shutil\n",
        "import pandas as pd\n",
        "import numpy as np\n",
        "import tensorflow as tf\n",
        "from tensorflow import keras\n",
        "from sklearn.metrics import confusion_matrix, classification_report\n",
        "from google.colab import files\n"
      ],
      "execution_count": 1,
      "outputs": []
    },
    {
      "cell_type": "code",
      "metadata": {
        "id": "pQPjrnUEePW7"
      },
      "source": [
        "\"\"\"\n",
        "\n",
        "    If the notebook is running in Colab, we want to download models and results\n",
        "    when they are ready so they don't get lost if Colab times out.\n",
        "\n",
        "    This global variable keeps track of that.\n",
        "\n",
        "\"\"\"\n",
        "RunningInCOLAB = 'google.colab' in str(get_ipython())"
      ],
      "execution_count": 2,
      "outputs": []
    },
    {
      "cell_type": "code",
      "metadata": {
        "id": "EeEEA_YxvP3m"
      },
      "source": [
        "\"\"\"\n",
        "\n",
        "    Verify we are running the correct Tensorflow version\n",
        "\n",
        "\"\"\"\n",
        "try:\n",
        "  # %tensorflow_version only exists in Colab.\n",
        "  %tensorflow_version 2.x\n",
        "except Exception:\n",
        "  pass"
      ],
      "execution_count": 3,
      "outputs": []
    },
    {
      "cell_type": "code",
      "metadata": {
        "id": "e4SgSfFivZg5",
        "outputId": "12407588-2102-4b7e-ee1a-3d60bcb3a48e",
        "colab": {
          "base_uri": "https://localhost:8080/"
        }
      },
      "source": [
        "\"\"\"\n",
        "\n",
        "    Verify that we are using a GPU runtime\n",
        "\n",
        "    If there is no GPU found, you can activate this in the Colab settings at \"Runtime => Change runtime type\".\n",
        "    If you are running this locally, GPU support might require setup of CUDA/CUDNN beforehand.\n",
        "\n",
        "    It is highly recommended to use a GPU while training the CNN models.\n",
        "\n",
        "\"\"\"\n",
        "device_name = tf.test.gpu_device_name()\n",
        "if device_name != '/device:GPU:0':\n",
        "  raise SystemError('GPU device not found')\n",
        "print('Found GPU at: {}'.format(device_name))"
      ],
      "execution_count": 4,
      "outputs": [
        {
          "output_type": "stream",
          "text": [
            "Found GPU at: /device:GPU:0\n"
          ],
          "name": "stdout"
        }
      ]
    },
    {
      "cell_type": "code",
      "metadata": {
        "id": "af3jUE8dgScS"
      },
      "source": [
        "\"\"\"\n",
        "\n",
        "    Set up our project folder structure\n",
        "\n",
        "\"\"\"\n",
        "def create_folder_unless_exists(path):\n",
        "    if not os.path.exists(path):\n",
        "        os.makedirs(path)\n",
        "\n",
        "create_folder_unless_exists('data/raw')\n",
        "create_folder_unless_exists('data/zip')\n",
        "create_folder_unless_exists('models')\n",
        "create_folder_unless_exists('results/cnn_simple')\n",
        "create_folder_unless_exists('results/cnn_resnet_tl')\n",
        "create_folder_unless_exists('results/cnn_resnet_tl_tuned')"
      ],
      "execution_count": 22,
      "outputs": []
    },
    {
      "cell_type": "code",
      "metadata": {
        "id": "I45YsjIQgr4q",
        "outputId": "f89f6a81-0837-4e4d-8416-10c0d0bfa5ea",
        "colab": {
          "base_uri": "https://localhost:8080/"
        }
      },
      "source": [
        "\"\"\"\n",
        "\n",
        "    Download and unzip the dataset\n",
        "\n",
        "    1. Downloads the zip-file with wget\n",
        "    2. Unzips it into the root folder\n",
        "    3. Moves it into the ./data/raw/ folder\n",
        "    4. Moves the original zip file to the ./data/zip/ folder\n",
        "\n",
        "    If you are not running in a Colab environment, you might need to do this manually.\n",
        "\n",
        "    Folder structure should look like this after:\n",
        "\n",
        "    |-- project root\n",
        "    |   |--> ...\n",
        "    |   |--> ...\n",
        "    |   |--> data\n",
        "    |        |--> zip\n",
        "    |             |--> kvasir-dataset-v2.zip\n",
        "    |        |--> raw\n",
        "    |             |--> dyed-lifted-polyps\n",
        "    |             |--> dyed-resection-margins\n",
        "    |             |--> esophagitis\n",
        "    |             |--> normal-cecum\n",
        "    |             |--> normal-pylorus\n",
        "    |             |--> normal-z-line\n",
        "    |             |--> polyps\n",
        "    |             |--> ulcerative-colitis\n",
        "\n",
        "\"\"\"\n",
        "!wget \"https://datasets.simula.no/kvasir/data/kvasir-dataset-v2.zip\"\n",
        "!unzip -qq kvasir-dataset-v2.zip\n",
        "!cp kvasir-dataset-v2/* data/raw -r\n",
        "!cp kvasir-dataset-v2.zip data/zip -r\n",
        "!rm kvasir-dataset-v2 -rf\n",
        "!rm kvasir-dataset-v2.zip"
      ],
      "execution_count": 6,
      "outputs": [
        {
          "output_type": "stream",
          "text": [
            "--2020-11-14 13:33:59--  https://datasets.simula.no/kvasir/data/kvasir-dataset-v2.zip\n",
            "Resolving datasets.simula.no (datasets.simula.no)... 128.39.36.14\n",
            "Connecting to datasets.simula.no (datasets.simula.no)|128.39.36.14|:443... connected.\n",
            "HTTP request sent, awaiting response... 200 OK\n",
            "Length: 2489312085 (2.3G) [application/zip]\n",
            "Saving to: ‘kvasir-dataset-v2.zip’\n",
            "\n",
            "kvasir-dataset-v2.z 100%[===================>]   2.32G  13.3MB/s    in 2m 42s  \n",
            "\n",
            "2020-11-14 13:36:42 (14.7 MB/s) - ‘kvasir-dataset-v2.zip’ saved [2489312085/2489312085]\n",
            "\n"
          ],
          "name": "stdout"
        }
      ]
    },
    {
      "cell_type": "code",
      "metadata": {
        "id": "woWgZDDlZc_u"
      },
      "source": [
        "\"\"\"\n",
        "\n",
        "    A helper utility to generate a pretty confusion matrix\n",
        "\n",
        "    Citiation\n",
        "    ---------\n",
        "    http://scikit-learn.org/stable/auto_examples/model_selection/plot_confusion_matrix.html\n",
        "\n",
        "\"\"\"\n",
        "def plot_confusion_matrix(cm,\n",
        "                          target_names,\n",
        "                          title='Confusion matrix',\n",
        "                          cmap=None,\n",
        "                          normalize=True,\n",
        "                          save_path=None):\n",
        "    \"\"\"\n",
        "    given a sklearn confusion matrix (cm), make a nice plot\n",
        "\n",
        "    Arguments\n",
        "    ---------\n",
        "    cm:           confusion matrix from sklearn.metrics.confusion_matrix\n",
        "\n",
        "    target_names: given classification classes such as [0, 1, 2]\n",
        "                  the class names, for example: ['high', 'medium', 'low']\n",
        "\n",
        "    title:        the text to display at the top of the matrix\n",
        "\n",
        "    cmap:         the gradient of the values displayed from matplotlib.pyplot.cm\n",
        "                  see http://matplotlib.org/examples/color/colormaps_reference.html\n",
        "                  plt.get_cmap('jet') or plt.cm.Blues\n",
        "\n",
        "    normalize:    If False, plot the raw numbers\n",
        "                  If True, plot the proportions\n",
        "\n",
        "    Usage\n",
        "    -----\n",
        "    plot_confusion_matrix(cm           = cm,                  # confusion matrix created by\n",
        "                                                              # sklearn.metrics.confusion_matrix\n",
        "                          normalize    = True,                # show proportions\n",
        "                          target_names = y_labels_vals,       # list of names of the classes\n",
        "                          title        = best_estimator_name) # title of graph\n",
        "\n",
        "    \"\"\"\n",
        "    import matplotlib.pyplot as plt\n",
        "    import numpy as np\n",
        "    import itertools\n",
        "\n",
        "    accuracy = np.trace(cm) / np.sum(cm).astype('float')\n",
        "    misclass = 1 - accuracy\n",
        "\n",
        "    if cmap is None:\n",
        "        cmap = plt.get_cmap('Blues')\n",
        "\n",
        "    plt.figure(figsize=(10, 8))\n",
        "    plt.imshow(cm, interpolation='nearest', cmap=cmap)\n",
        "    # plt.title(title)\n",
        "    plt.colorbar()\n",
        "    plt.rcParams.update({'font.size': 18})\n",
        "\n",
        "\n",
        "    \n",
        "    if target_names is not None:\n",
        "        tick_marks = np.arange(len(target_names))\n",
        "        plt.xticks(tick_marks, target_names, rotation=45, fontsize=18, ha=\"right\")\n",
        "        plt.yticks(tick_marks, target_names, fontsize=18)\n",
        "\n",
        "    if normalize:\n",
        "        cm = cm.astype('float') / cm.sum(axis=1)[:, np.newaxis]\n",
        "\n",
        "\n",
        "    thresh = cm.max() / 1.5 if normalize else cm.max() / 2\n",
        "    for i, j in itertools.product(range(cm.shape[0]), range(cm.shape[1])):\n",
        "        if normalize:\n",
        "            plt.text(j, i, \"{:0.4f}\".format(cm[i, j]),\n",
        "                     horizontalalignment=\"center\",\n",
        "                     color=\"white\" if cm[i, j] > thresh else \"black\")\n",
        "        else:\n",
        "            plt.text(j, i, \"{:,}\".format(cm[i, j]),\n",
        "                     horizontalalignment=\"center\",\n",
        "                     color=\"white\" if cm[i, j] > thresh else \"black\")\n",
        "\n",
        "\n",
        "    plt.tight_layout()\n",
        "    plt.autoscale()\n",
        "    plt.ylabel('True label', fontsize=16)\n",
        "    plt.xlabel('Predicted label\\naccuracy={:0.4f}; misclass={:0.4f}'.format(accuracy, misclass), fontsize=16)\n",
        "\n",
        "    if save_path:\n",
        "        plt.savefig(save_path, bbox_inches='tight')\n",
        "\n",
        "    plt.show()"
      ],
      "execution_count": 76,
      "outputs": []
    },
    {
      "cell_type": "code",
      "metadata": {
        "id": "qbswis9FBHG-"
      },
      "source": [
        "\"\"\"\n",
        "\n",
        "    Utility function to plot, save and download the confusion matrix\n",
        "\n",
        "\"\"\"\n",
        "def display_confusion_matrix(y_pred, y_true, target_names, save_path=None):\n",
        "    cm = confusion_matrix(y_true, y_pred)\n",
        "    plot_confusion_matrix(cm, target_names, normalize=False, save_path=save_path)\n",
        "\n",
        "    if RunningInCOLAB and save_path:\n",
        "        files.download(save_path)\n",
        "\n",
        "\"\"\"\n",
        "\n",
        "    Utility function to print, save and download the classification report\n",
        "\n",
        "\"\"\"\n",
        "def display_classification_report(y_pred, y_true, target_names, save_path=None):\n",
        "    cr = classification_report(y_true, y_pred, target_names=target_names, output_dict=True)\n",
        "    \n",
        "    df = pd.DataFrame(cr).transpose()\n",
        "    df = df.round(2)\n",
        "\n",
        "    print(df)\n",
        "    \n",
        "    if save_path:\n",
        "        df.to_csv(save_path, sep=';')\n",
        "    \n",
        "    if RunningInCOLAB and save_path:\n",
        "        files.download(save_path)"
      ],
      "execution_count": 77,
      "outputs": []
    },
    {
      "cell_type": "code",
      "metadata": {
        "id": "3FD2lR9QywgA"
      },
      "source": [
        "\"\"\"\n",
        "\n",
        "    Simple helper utility to plot training history metrics against validation\n",
        "\n",
        "\"\"\"\n",
        "def plot_history(history):\n",
        "\n",
        "    # loss vs val_loss\n",
        "    plt.plot(history.history['loss'], label='loss')\n",
        "    plt.plot(history.history['val_loss'], label = 'val_loss')\n",
        "    plt.xlabel('Epoch')\n",
        "    plt.ylabel('Loss')\n",
        "    plt.ylim([0, 1])\n",
        "    plt.legend(loc='right')\n",
        "    plt.show()\n",
        "\n",
        "    # acc vs val_acc\n",
        "    plt.plot(history.history['accuracy'], label='accuracy')\n",
        "    plt.plot(history.history['val_accuracy'], label = 'val_accuracy')\n",
        "    plt.xlabel('Epoch')\n",
        "    plt.ylabel('Accuracy')\n",
        "    plt.ylim([0, 1])\n",
        "    plt.legend(loc='right')\n",
        "    plt.show()"
      ],
      "execution_count": 9,
      "outputs": []
    },
    {
      "cell_type": "code",
      "metadata": {
        "id": "aEMxkkm3ghiv"
      },
      "source": [
        "\"\"\"\n",
        "\n",
        "    Even though Keras has provided an ImageDataGenerator which contains a \n",
        "    train/validation splitter, we actually want a train/validation/test split, \n",
        "    so lets do this manually.\n",
        "    \n",
        "\"\"\"\n",
        "def get_files_from_folder(path):\n",
        "    files = os.listdir(path)\n",
        "    return np.asarray(files)\n",
        "\n",
        "def split_image_dataset(raw_path, processed_path, split_ratio):\n",
        "    # make a copy from raw to processed\n",
        "    shutil.copytree(raw_path, processed_path)\n",
        "\n",
        "    # split files into train/test inside processed\n",
        "    train_path = os.path.join(processed_path, 'train')\n",
        "    test_path = os.path.join(processed_path,'test')\n",
        "\n",
        "    # get dirs\n",
        "    _, dirs, _ = next(os.walk(processed_path))\n",
        "\n",
        "    # calculates how many train data per class\n",
        "    data_counter_per_class = np.zeros((len(dirs)))\n",
        "    for i in range(len(dirs)):\n",
        "        path = os.path.join(processed_path, dirs[i])\n",
        "        files = get_files_from_folder(path)\n",
        "        data_counter_per_class[i] = len(files)\n",
        "    test_counter = np.round(data_counter_per_class * (1 - split_ratio))\n",
        "\n",
        "    print(f\"Total data per class: {data_counter_per_class}\")\n",
        "    print(f\"Test instances per class: {test_counter}\")\n",
        "\n",
        "    # transfers files\n",
        "    for i in range(len(dirs)):\n",
        "        files = get_files_from_folder(os.path.join(processed_path, dirs[i]))\n",
        "        train_path = os.path.join(processed_path, 'train' ,dirs[i])\n",
        "        test_path = os.path.join(processed_path, 'test' ,dirs[i])\n",
        "\n",
        "        if not os.path.exists(train_path):\n",
        "            os.makedirs(train_path)\n",
        "        if not os.path.exists(test_path):\n",
        "            os.makedirs(test_path)\n",
        "        \n",
        "        # moves data\n",
        "        for j in range(int(data_counter_per_class[i])):\n",
        "            src = os.path.join(processed_path, dirs[i], files[j])\n",
        "            if j < test_counter[i]:\n",
        "                dst = os.path.join(processed_path, 'test', dirs[i], files[j])\n",
        "            else:\n",
        "                dst = os.path.join(processed_path, 'train', dirs[i], files[j])\n",
        "            shutil.move(src, dst)\n",
        "\n",
        "        os.removedirs(os.path.join(processed_path, dirs[i]))"
      ],
      "execution_count": 8,
      "outputs": []
    },
    {
      "cell_type": "code",
      "metadata": {
        "id": "4vDdEMlpmo0_",
        "outputId": "643f9a40-7ccd-494f-f76a-da8eea2a0323",
        "colab": {
          "base_uri": "https://localhost:8080/"
        }
      },
      "source": [
        "\"\"\"\n",
        "    Split the dataset into 80/20 train/test and put it into 'data/processed'\n",
        "\"\"\"\n",
        "split_image_dataset('data/raw', 'data/processed', split_ratio=0.80)"
      ],
      "execution_count": 9,
      "outputs": [
        {
          "output_type": "stream",
          "text": [
            "Total data per class: [1000. 1000. 1000. 1000. 1000. 1000. 1000. 1000.]\n",
            "Test instances per class: [200. 200. 200. 200. 200. 200. 200. 200.]\n"
          ],
          "name": "stdout"
        }
      ]
    },
    {
      "cell_type": "code",
      "metadata": {
        "id": "V5OYeaSKeupJ"
      },
      "source": [
        "\"\"\"\n",
        "    Parameters that apply for all models and datagenerators\n",
        "\"\"\"\n",
        "train_path = 'data/processed/train'\n",
        "test_path = 'data/processed/test'\n",
        "batch_size = 32\n",
        "\n",
        "target_w = 256\n",
        "target_h = 256\n",
        "target_size = (target_w, target_h) \n",
        "target_dims = 3 # (RGB channels)"
      ],
      "execution_count": 10,
      "outputs": []
    },
    {
      "cell_type": "markdown",
      "metadata": {
        "id": "-PhNz-VZvMvQ"
      },
      "source": [
        "## 2 Convolutional Neural Network"
      ]
    },
    {
      "cell_type": "markdown",
      "metadata": {
        "id": "Yu-Q2Ii26w3p"
      },
      "source": [
        "### 2.1 Preprocessing"
      ]
    },
    {
      "cell_type": "code",
      "metadata": {
        "id": "x2JRpOsS3r9u",
        "outputId": "d22daf29-f4ed-4a21-915e-20581244fbae",
        "colab": {
          "base_uri": "https://localhost:8080/"
        }
      },
      "source": [
        "\"\"\"\n",
        "\n",
        "    Set up datagenerators for CNN model\n",
        "\n",
        "    Datagenerators handle image augmentation (shear, zoom, horizontal flips) as well as rescaling.\n",
        "    The datagenerator also has a built-in training/validation splitter, which creates a new 80/20 split.\n",
        "\n",
        "    In addition to that, we want a separate generator with our test set.\n",
        "\n",
        "    The dataset will be split as follows:\n",
        "    - Training set (64% - 80% of 80)\n",
        "    - Validation set (16% - 20% of 80)\n",
        "    - Test set (20%)\n",
        "\n",
        "\"\"\"\n",
        "\n",
        "\"\"\"\n",
        "    Datagenerator for training set\n",
        "\"\"\"\n",
        "cnn_train_idg = keras.preprocessing.image.ImageDataGenerator(rescale=1./255,\n",
        "    shear_range=0.2,\n",
        "    zoom_range=0.2,\n",
        "    horizontal_flip=True,\n",
        "    validation_split=0.2) # If defined, will split based on 'subset' in flow_from_directory()\n",
        "\n",
        "cnn_train_datagen = cnn_train_idg.flow_from_directory(\n",
        "    train_path,\n",
        "    target_size=target_size,\n",
        "    batch_size=batch_size,\n",
        "    class_mode='sparse',\n",
        "    shuffle=True,\n",
        "    subset='training') # Marks this as the training data\n",
        "\n",
        "cnn_val_datagen = cnn_train_idg.flow_from_directory(\n",
        "    train_path, \n",
        "    target_size=target_size,\n",
        "    batch_size=batch_size,\n",
        "    class_mode='sparse',\n",
        "    shuffle=False,\n",
        "    subset='validation') # Marks this as the validation data\n",
        "\n",
        "\"\"\"\n",
        "    Datagenerator for test set\n",
        "\"\"\"\n",
        "cnn_test_idg = keras.preprocessing.image.ImageDataGenerator(rescale=1./255)\n",
        "\n",
        "cnn_test_datagen = cnn_test_idg.flow_from_directory(\n",
        "    test_path, \n",
        "    target_size=target_size,\n",
        "    batch_size=batch_size,\n",
        "    class_mode='sparse',\n",
        "    shuffle=False)"
      ],
      "execution_count": 73,
      "outputs": [
        {
          "output_type": "stream",
          "text": [
            "Found 5120 images belonging to 8 classes.\n",
            "Found 1280 images belonging to 8 classes.\n",
            "Found 1600 images belonging to 8 classes.\n"
          ],
          "name": "stdout"
        }
      ]
    },
    {
      "cell_type": "markdown",
      "metadata": {
        "id": "MSHfIPQg6yXs"
      },
      "source": [
        "### 2.2 Build model"
      ]
    },
    {
      "cell_type": "code",
      "metadata": {
        "id": "PSIhSXjXwCId"
      },
      "source": [
        "\"\"\"\n",
        "\n",
        "    Function to build a simple CNN model layer by layer\n",
        "\n",
        "\"\"\"\n",
        "def build_simple_cnn():\n",
        "    model = keras.models.Sequential([\n",
        "        keras.layers.Conv2D(32, (3, 3), activation='relu', input_shape=(target_w, target_h, target_dims)),\n",
        "        keras.layers.MaxPooling2D((2, 2)),\n",
        "        keras.layers.Conv2D(64, (3, 3), activation='relu'),\n",
        "        keras.layers.MaxPooling2D((2, 2)),\n",
        "        keras.layers.Conv2D(64, (3, 3), activation='relu')\n",
        "    ])\n",
        "\n",
        "    model.add(keras.layers.Flatten())\n",
        "    model.add(keras.layers.Dense(64, activation='relu'))\n",
        "    model.add(keras.layers.Dense(8, activation='softmax'))\n",
        "\n",
        "    model.summary()\n",
        "\n",
        "    return model"
      ],
      "execution_count": null,
      "outputs": []
    },
    {
      "cell_type": "code",
      "metadata": {
        "id": "ufTUvzwxwC-r",
        "outputId": "0c1929d1-909e-4a33-824c-a2c041ee4e82",
        "colab": {
          "base_uri": "https://localhost:8080/"
        }
      },
      "source": [
        "\"\"\"\n",
        "\n",
        "    Actually build and compile the model\n",
        "\n",
        "\"\"\"\n",
        "simple_cnn = build_simple_cnn()\n",
        "\n",
        "simple_cnn.compile(\n",
        "    optimizer=keras.optimizers.Adam(0.001),\n",
        "    loss='sparse_categorical_crossentropy',\n",
        "    metrics=[ 'accuracy' ]\n",
        ")"
      ],
      "execution_count": null,
      "outputs": [
        {
          "output_type": "stream",
          "text": [
            "Model: \"sequential\"\n",
            "_________________________________________________________________\n",
            "Layer (type)                 Output Shape              Param #   \n",
            "=================================================================\n",
            "conv2d (Conv2D)              (None, 254, 254, 32)      896       \n",
            "_________________________________________________________________\n",
            "max_pooling2d (MaxPooling2D) (None, 127, 127, 32)      0         \n",
            "_________________________________________________________________\n",
            "conv2d_1 (Conv2D)            (None, 125, 125, 64)      18496     \n",
            "_________________________________________________________________\n",
            "max_pooling2d_1 (MaxPooling2 (None, 62, 62, 64)        0         \n",
            "_________________________________________________________________\n",
            "conv2d_2 (Conv2D)            (None, 60, 60, 64)        36928     \n",
            "_________________________________________________________________\n",
            "flatten (Flatten)            (None, 230400)            0         \n",
            "_________________________________________________________________\n",
            "dense (Dense)                (None, 64)                14745664  \n",
            "_________________________________________________________________\n",
            "dense_1 (Dense)              (None, 8)                 520       \n",
            "=================================================================\n",
            "Total params: 14,802,504\n",
            "Trainable params: 14,802,504\n",
            "Non-trainable params: 0\n",
            "_________________________________________________________________\n"
          ],
          "name": "stdout"
        }
      ]
    },
    {
      "cell_type": "markdown",
      "metadata": {
        "id": "zPLcJZfI6z9y"
      },
      "source": [
        "### 2.3 Train model"
      ]
    },
    {
      "cell_type": "code",
      "metadata": {
        "id": "pHaV8x1TwJzJ",
        "outputId": "117f4913-ec44-4d48-e7cf-f972c828e5a3",
        "colab": {
          "base_uri": "https://localhost:8080/",
          "height": 697
        }
      },
      "source": [
        "\"\"\"\n",
        "    Start fitting the model\n",
        "\"\"\"\n",
        "cnn_history = simple_cnn.fit(cnn_train_datagen, \n",
        "                        epochs=20,\n",
        "                        verbose=1, \n",
        "                        validation_data=cnn_val_datagen)\n",
        "\n",
        "simple_cnn.save('models/cnn_simple.hdf5')\n",
        "\n",
        "if RunningInCOLAB:\n",
        "    files.download('models/cnn_simple.hdf5')"
      ],
      "execution_count": null,
      "outputs": [
        {
          "output_type": "stream",
          "text": [
            "Epoch 1/20\n",
            "160/160 [==============================] - 165s 1s/step - loss: 1.1104 - accuracy: 0.5387 - val_loss: 0.8176 - val_accuracy: 0.6297\n",
            "Epoch 2/20\n",
            "160/160 [==============================] - 164s 1s/step - loss: 0.7543 - accuracy: 0.6541 - val_loss: 0.8155 - val_accuracy: 0.6266\n",
            "Epoch 3/20\n",
            "160/160 [==============================] - 164s 1s/step - loss: 0.7017 - accuracy: 0.6814 - val_loss: 0.7468 - val_accuracy: 0.6539\n",
            "Epoch 4/20\n",
            "160/160 [==============================] - 163s 1s/step - loss: 0.6653 - accuracy: 0.6982 - val_loss: 0.6840 - val_accuracy: 0.7125\n",
            "Epoch 5/20\n",
            "160/160 [==============================] - 163s 1s/step - loss: 0.6573 - accuracy: 0.6939 - val_loss: 0.7322 - val_accuracy: 0.6812\n",
            "Epoch 6/20\n",
            "160/160 [==============================] - 164s 1s/step - loss: 0.6811 - accuracy: 0.6920 - val_loss: 0.7155 - val_accuracy: 0.6953\n",
            "Epoch 7/20\n",
            "160/160 [==============================] - 165s 1s/step - loss: 0.6391 - accuracy: 0.7072 - val_loss: 0.6629 - val_accuracy: 0.7141\n",
            "Epoch 8/20\n",
            "160/160 [==============================] - 163s 1s/step - loss: 0.6210 - accuracy: 0.7234 - val_loss: 0.6552 - val_accuracy: 0.6945\n",
            "Epoch 9/20\n",
            "160/160 [==============================] - 163s 1s/step - loss: 0.5835 - accuracy: 0.7346 - val_loss: 0.6674 - val_accuracy: 0.7008\n",
            "Epoch 10/20\n",
            "160/160 [==============================] - 163s 1s/step - loss: 0.5758 - accuracy: 0.7381 - val_loss: 0.6742 - val_accuracy: 0.6984\n",
            "Epoch 11/20\n",
            "160/160 [==============================] - 164s 1s/step - loss: 0.5646 - accuracy: 0.7457 - val_loss: 0.6788 - val_accuracy: 0.7227\n",
            "Epoch 12/20\n",
            "160/160 [==============================] - 170s 1s/step - loss: 0.5552 - accuracy: 0.7467 - val_loss: 0.7842 - val_accuracy: 0.6391\n",
            "Epoch 13/20\n",
            "160/160 [==============================] - 174s 1s/step - loss: 0.5524 - accuracy: 0.7531 - val_loss: 0.6673 - val_accuracy: 0.7258\n",
            "Epoch 14/20\n",
            "160/160 [==============================] - 173s 1s/step - loss: 0.5591 - accuracy: 0.7502 - val_loss: 0.6232 - val_accuracy: 0.7297\n",
            "Epoch 15/20\n",
            "160/160 [==============================] - 167s 1s/step - loss: 0.5129 - accuracy: 0.7723 - val_loss: 0.6494 - val_accuracy: 0.7203\n",
            "Epoch 16/20\n",
            "160/160 [==============================] - 165s 1s/step - loss: 0.5388 - accuracy: 0.7611 - val_loss: 0.7643 - val_accuracy: 0.7141\n",
            "Epoch 17/20\n",
            "160/160 [==============================] - 167s 1s/step - loss: 0.5151 - accuracy: 0.7709 - val_loss: 0.6958 - val_accuracy: 0.7117\n",
            "Epoch 18/20\n",
            "160/160 [==============================] - 173s 1s/step - loss: 0.4899 - accuracy: 0.7840 - val_loss: 0.6359 - val_accuracy: 0.7320\n",
            "Epoch 19/20\n",
            "160/160 [==============================] - 175s 1s/step - loss: 0.4853 - accuracy: 0.7867 - val_loss: 0.6309 - val_accuracy: 0.7391\n",
            "Epoch 20/20\n",
            "160/160 [==============================] - 172s 1s/step - loss: 0.5109 - accuracy: 0.7695 - val_loss: 0.6786 - val_accuracy: 0.7367\n"
          ],
          "name": "stdout"
        },
        {
          "output_type": "display_data",
          "data": {
            "application/javascript": [
              "\n",
              "    async function download(id, filename, size) {\n",
              "      if (!google.colab.kernel.accessAllowed) {\n",
              "        return;\n",
              "      }\n",
              "      const div = document.createElement('div');\n",
              "      const label = document.createElement('label');\n",
              "      label.textContent = `Downloading \"${filename}\": `;\n",
              "      div.appendChild(label);\n",
              "      const progress = document.createElement('progress');\n",
              "      progress.max = size;\n",
              "      div.appendChild(progress);\n",
              "      document.body.appendChild(div);\n",
              "\n",
              "      const buffers = [];\n",
              "      let downloaded = 0;\n",
              "\n",
              "      const channel = await google.colab.kernel.comms.open(id);\n",
              "      // Send a message to notify the kernel that we're ready.\n",
              "      channel.send({})\n",
              "\n",
              "      for await (const message of channel.messages) {\n",
              "        // Send a message to notify the kernel that we're ready.\n",
              "        channel.send({})\n",
              "        if (message.buffers) {\n",
              "          for (const buffer of message.buffers) {\n",
              "            buffers.push(buffer);\n",
              "            downloaded += buffer.byteLength;\n",
              "            progress.value = downloaded;\n",
              "          }\n",
              "        }\n",
              "      }\n",
              "      const blob = new Blob(buffers, {type: 'application/binary'});\n",
              "      const a = document.createElement('a');\n",
              "      a.href = window.URL.createObjectURL(blob);\n",
              "      a.download = filename;\n",
              "      div.appendChild(a);\n",
              "      a.click();\n",
              "      div.remove();\n",
              "    }\n",
              "  "
            ],
            "text/plain": [
              "<IPython.core.display.Javascript object>"
            ]
          },
          "metadata": {
            "tags": []
          }
        },
        {
          "output_type": "display_data",
          "data": {
            "application/javascript": [
              "download(\"download_712e4293-4f7b-4e4d-a26e-afa9f115f68e\", \"simple_cnn.hdf5\", 177677736)"
            ],
            "text/plain": [
              "<IPython.core.display.Javascript object>"
            ]
          },
          "metadata": {
            "tags": []
          }
        }
      ]
    },
    {
      "cell_type": "markdown",
      "metadata": {
        "id": "Cv9zSMXn61fS"
      },
      "source": [
        "### 2.4 Evaluate model"
      ]
    },
    {
      "cell_type": "code",
      "metadata": {
        "id": "H9d3P5lWHxaV",
        "outputId": "16dd64dc-f6e3-4798-bcc0-e99d37040258",
        "colab": {
          "base_uri": "https://localhost:8080/"
        }
      },
      "source": [
        "\"\"\"\n",
        "    Use the model to predict on the unseen test set.\n",
        "\"\"\"\n",
        "cnn_predictions = simple_cnn.predict(cnn_test_datagen, verbose=1)"
      ],
      "execution_count": 74,
      "outputs": [
        {
          "output_type": "stream",
          "text": [
            "50/50 [==============================] - 23s 451ms/step\n"
          ],
          "name": "stdout"
        }
      ]
    },
    {
      "cell_type": "code",
      "metadata": {
        "id": "wqGeYo_Vc8K4",
        "outputId": "5c6b5220-c8fe-451d-9d41-d4656a0b751a",
        "colab": {
          "base_uri": "https://localhost:8080/",
          "height": 808
        }
      },
      "source": [
        "\"\"\"\n",
        "\n",
        "    Evaluate the prediction results.\n",
        "\n",
        "    Displays a Confusion Matrix and a Classification Report.\n",
        "    These are also saved to the 'results' folder.\n",
        "\n",
        "\"\"\"\n",
        "unique_labels = list(cnn_test_datagen.class_indices.keys())\n",
        "\n",
        "y_pred = np.argmax(cnn_predictions, axis=-1)\n",
        "y_true = cnn_test_datagen.classes[cnn_test_datagen.index_array]\n",
        "\n",
        "display_confusion_matrix(\n",
        "    y_pred=y_pred, \n",
        "    y_true=y_true, \n",
        "    target_names=unique_labels, \n",
        "    save_path='results/cnn_simple/cnn_simple_confusion_matrix.png'\n",
        ")\n",
        "\n",
        "display_classification_report(\n",
        "    y_pred=y_pred, \n",
        "    y_true=y_true, \n",
        "    target_names=unique_labels, \n",
        "    save_path='results/cnn_simple/cnn_simple_classification_report.csv'\n",
        ")"
      ],
      "execution_count": 78,
      "outputs": [
        {
          "output_type": "display_data",
          "data": {
            "image/png": "[encoded data removed]",
            "text/plain": [
              "<Figure size 720x576 with 2 Axes>"
            ]
          },
          "metadata": {
            "tags": [],
            "needs_background": "light"
          }
        },
        {
          "output_type": "display_data",
          "data": {
            "application/javascript": [
              "\n",
              "    async function download(id, filename, size) {\n",
              "      if (!google.colab.kernel.accessAllowed) {\n",
              "        return;\n",
              "      }\n",
              "      const div = document.createElement('div');\n",
              "      const label = document.createElement('label');\n",
              "      label.textContent = `Downloading \"${filename}\": `;\n",
              "      div.appendChild(label);\n",
              "      const progress = document.createElement('progress');\n",
              "      progress.max = size;\n",
              "      div.appendChild(progress);\n",
              "      document.body.appendChild(div);\n",
              "\n",
              "      const buffers = [];\n",
              "      let downloaded = 0;\n",
              "\n",
              "      const channel = await google.colab.kernel.comms.open(id);\n",
              "      // Send a message to notify the kernel that we're ready.\n",
              "      channel.send({})\n",
              "\n",
              "      for await (const message of channel.messages) {\n",
              "        // Send a message to notify the kernel that we're ready.\n",
              "        channel.send({})\n",
              "        if (message.buffers) {\n",
              "          for (const buffer of message.buffers) {\n",
              "            buffers.push(buffer);\n",
              "            downloaded += buffer.byteLength;\n",
              "            progress.value = downloaded;\n",
              "          }\n",
              "        }\n",
              "      }\n",
              "      const blob = new Blob(buffers, {type: 'application/binary'});\n",
              "      const a = document.createElement('a');\n",
              "      a.href = window.URL.createObjectURL(blob);\n",
              "      a.download = filename;\n",
              "      div.appendChild(a);\n",
              "      a.click();\n",
              "      div.remove();\n",
              "    }\n",
              "  "
            ],
            "text/plain": [
              "<IPython.core.display.Javascript object>"
            ]
          },
          "metadata": {
            "tags": []
          }
        },
        {
          "output_type": "display_data",
          "data": {
            "application/javascript": [
              "download(\"download_1edc70e0-f11b-44de-ab2d-37d4a9204cd3\", \"cnn_simple_confusion_matrix.png\", 84127)"
            ],
            "text/plain": [
              "<IPython.core.display.Javascript object>"
            ]
          },
          "metadata": {
            "tags": []
          }
        },
        {
          "output_type": "stream",
          "text": [
            "                        precision  recall  f1-score  support\n",
            "dyed-lifted-polyps           0.66    0.60      0.63   200.00\n",
            "dyed-resection-margins       0.65    0.71      0.68   200.00\n",
            "esophagitis                  0.86    0.52      0.65   200.00\n",
            "normal-cecum                 0.78    0.94      0.85   200.00\n",
            "normal-pylorus               0.87    0.97      0.92   200.00\n",
            "normal-z-line                0.67    0.86      0.76   200.00\n",
            "polyps                       0.77    0.66      0.71   200.00\n",
            "ulcerative-colitis           0.79    0.74      0.76   200.00\n",
            "accuracy                     0.75    0.75      0.75     0.75\n",
            "macro avg                    0.76    0.75      0.74  1600.00\n",
            "weighted avg                 0.76    0.75      0.74  1600.00\n"
          ],
          "name": "stdout"
        },
        {
          "output_type": "display_data",
          "data": {
            "application/javascript": [
              "\n",
              "    async function download(id, filename, size) {\n",
              "      if (!google.colab.kernel.accessAllowed) {\n",
              "        return;\n",
              "      }\n",
              "      const div = document.createElement('div');\n",
              "      const label = document.createElement('label');\n",
              "      label.textContent = `Downloading \"${filename}\": `;\n",
              "      div.appendChild(label);\n",
              "      const progress = document.createElement('progress');\n",
              "      progress.max = size;\n",
              "      div.appendChild(progress);\n",
              "      document.body.appendChild(div);\n",
              "\n",
              "      const buffers = [];\n",
              "      let downloaded = 0;\n",
              "\n",
              "      const channel = await google.colab.kernel.comms.open(id);\n",
              "      // Send a message to notify the kernel that we're ready.\n",
              "      channel.send({})\n",
              "\n",
              "      for await (const message of channel.messages) {\n",
              "        // Send a message to notify the kernel that we're ready.\n",
              "        channel.send({})\n",
              "        if (message.buffers) {\n",
              "          for (const buffer of message.buffers) {\n",
              "            buffers.push(buffer);\n",
              "            downloaded += buffer.byteLength;\n",
              "            progress.value = downloaded;\n",
              "          }\n",
              "        }\n",
              "      }\n",
              "      const blob = new Blob(buffers, {type: 'application/binary'});\n",
              "      const a = document.createElement('a');\n",
              "      a.href = window.URL.createObjectURL(blob);\n",
              "      a.download = filename;\n",
              "      div.appendChild(a);\n",
              "      a.click();\n",
              "      div.remove();\n",
              "    }\n",
              "  "
            ],
            "text/plain": [
              "<IPython.core.display.Javascript object>"
            ]
          },
          "metadata": {
            "tags": []
          }
        },
        {
          "output_type": "display_data",
          "data": {
            "application/javascript": [
              "download(\"download_b277929e-119f-40f5-8795-2292175b04fd\", \"cnn_simple_classification_report.csv\", 420)"
            ],
            "text/plain": [
              "<IPython.core.display.Javascript object>"
            ]
          },
          "metadata": {
            "tags": []
          }
        }
      ]
    },
    {
      "cell_type": "markdown",
      "metadata": {
        "id": "HHDlpspb6pPT"
      },
      "source": [
        "## 3 ResNet"
      ]
    },
    {
      "cell_type": "markdown",
      "metadata": {
        "id": "CRMp-xYP67FX"
      },
      "source": [
        "### 3.1 Preprocessing"
      ]
    },
    {
      "cell_type": "code",
      "metadata": {
        "id": "KcZGN4CBfDYr",
        "outputId": "82454d17-f9b3-4b31-ad2a-48fd1bd9639c",
        "colab": {
          "base_uri": "https://localhost:8080/"
        }
      },
      "source": [
        "\"\"\"\n",
        "\n",
        "    Set up datagenerators for ResNet50 model\n",
        "\n",
        "    Datagenerators handle image augmentation (shear, zoom, horizontal flips) as well as rescaling.\n",
        "    They also have built-in utility to replicate ResNet's original preprocessing steps.\n",
        "    The datagenerator also has a built-in training/validation splitter, which creates a new 80/20 split.\n",
        "\n",
        "    In addition to that, we want a separate generator with our test set.\n",
        "\n",
        "    The dataset will be split as follows:\n",
        "    - Training set (64% - 80% of 80)\n",
        "    - Validation set (16% - 20% of 80)\n",
        "    - Test set (20%)\n",
        "\n",
        "\"\"\"\n",
        "\n",
        "\"\"\"\n",
        "    Training set\n",
        "\"\"\"\n",
        "rn_train_idg = keras.preprocessing.image.ImageDataGenerator(preprocessing_function=keras.applications.resnet50.preprocess_input,\n",
        "    shear_range=0.2,\n",
        "    zoom_range=0.2,\n",
        "    horizontal_flip=True,\n",
        "    validation_split=0.2) # If defined, will split based on 'subset' in flow_from_directory()\n",
        "\n",
        "rn_train_datagen = rn_train_idg.flow_from_directory(\n",
        "    train_path,\n",
        "    target_size=target_size,\n",
        "    batch_size=batch_size,\n",
        "    class_mode='sparse',\n",
        "    shuffle=True,\n",
        "    subset='training') # Marks this as the training data\n",
        "\n",
        "rn_val_datagen = rn_train_idg.flow_from_directory(\n",
        "    train_path, \n",
        "    target_size=target_size,\n",
        "    batch_size=batch_size,\n",
        "    class_mode='sparse',\n",
        "    shuffle=False,\n",
        "    subset='validation') # Marks this as the validation data\n",
        "\n",
        "\"\"\"\n",
        "    Test set\n",
        "\"\"\"\n",
        "rn_test_idg = keras.preprocessing.image.ImageDataGenerator(preprocessing_function=keras.applications.resnet50.preprocess_input)\n",
        "\n",
        "rn_test_datagen = rn_test_idg.flow_from_directory(\n",
        "    test_path, \n",
        "    target_size=target_size,\n",
        "    batch_size=batch_size,\n",
        "    class_mode='sparse',\n",
        "    shuffle=False)"
      ],
      "execution_count": 11,
      "outputs": [
        {
          "output_type": "stream",
          "text": [
            "Found 5120 images belonging to 8 classes.\n",
            "Found 1280 images belonging to 8 classes.\n",
            "Found 1600 images belonging to 8 classes.\n"
          ],
          "name": "stdout"
        }
      ]
    },
    {
      "cell_type": "markdown",
      "metadata": {
        "id": "AICO664i68Ss"
      },
      "source": [
        "### 3.2 Build model"
      ]
    },
    {
      "cell_type": "code",
      "metadata": {
        "id": "iKFCDlBUJUQY"
      },
      "source": [
        "\"\"\"\n",
        "    Function to build the ResNet50 model\n",
        "\"\"\"\n",
        "def build_transfer_learning_model():\n",
        "  \n",
        "  # The ResNet50 is used as a base model\n",
        "  base_model = keras.applications.resnet.ResNet50(include_top=False, \n",
        "                                                  weights='imagenet', \n",
        "                                                  input_shape=(target_w, target_h, target_dims))\n",
        "  \n",
        "  # We need our BatchNormalization layers to be trainable, the rest should be frozen\n",
        "  for layer in base_model.layers:\n",
        "    if isinstance(layer, keras.layers.BatchNormalization):\n",
        "        layer.trainable = True\n",
        "    else:\n",
        "        layer.trainable = False\n",
        "\n",
        "  # Assemble our final model\n",
        "  model = keras.models.Sequential([\n",
        "                       base_model,\n",
        "                       keras.layers.GlobalAveragePooling2D(),\n",
        "                       keras.layers.Dropout(0.5),\n",
        "                       keras.layers.Dense(8, activation=\"softmax\")\n",
        "  ])\n",
        "  \n",
        "  model.summary()\n",
        "\n",
        "  return model"
      ],
      "execution_count": 14,
      "outputs": []
    },
    {
      "cell_type": "code",
      "metadata": {
        "id": "rxAveAwA5Cx_",
        "outputId": "f3933dd0-c9b9-4da2-bec8-e6bb64b2c23d",
        "colab": {
          "base_uri": "https://localhost:8080/"
        }
      },
      "source": [
        "\"\"\"\n",
        "\n",
        "    Build and compile our ResNet50 model\n",
        "\n",
        "    This model consists of frozen layers where only the BatchNormalization and output Dense layers are trainable.\n",
        "    We will unfreeze and fine-tune the entire model later after the first fitting.\n",
        "    \n",
        "\"\"\"\n",
        "rn_model = build_transfer_learning_model()\n",
        "\n",
        "rn_model.compile(\n",
        "    optimizer=keras.optimizers.Adam(0.0001),\n",
        "    loss='sparse_categorical_crossentropy',\n",
        "    metrics=[ 'accuracy' ]\n",
        ")"
      ],
      "execution_count": 15,
      "outputs": [
        {
          "output_type": "stream",
          "text": [
            "Downloading data from https://storage.googleapis.com/tensorflow/keras-applications/resnet/resnet50_weights_tf_dim_ordering_tf_kernels_notop.h5\n",
            "94773248/94765736 [==============================] - 0s 0us/step\n",
            "Model: \"sequential\"\n",
            "_________________________________________________________________\n",
            "Layer (type)                 Output Shape              Param #   \n",
            "=================================================================\n",
            "resnet50 (Functional)        (None, 8, 8, 2048)        23587712  \n",
            "_________________________________________________________________\n",
            "global_average_pooling2d (Gl (None, 2048)              0         \n",
            "_________________________________________________________________\n",
            "dropout (Dropout)            (None, 2048)              0         \n",
            "_________________________________________________________________\n",
            "dense (Dense)                (None, 8)                 16392     \n",
            "=================================================================\n",
            "Total params: 23,604,104\n",
            "Trainable params: 69,512\n",
            "Non-trainable params: 23,534,592\n",
            "_________________________________________________________________\n"
          ],
          "name": "stdout"
        }
      ]
    },
    {
      "cell_type": "markdown",
      "metadata": {
        "id": "yxdEj7QR69vS"
      },
      "source": [
        "### 3.3 Train model"
      ]
    },
    {
      "cell_type": "code",
      "metadata": {
        "id": "lWceWlIx5FLk",
        "outputId": "be9639c8-e4c4-40c4-e6d2-02ccd87597f2",
        "colab": {
          "base_uri": "https://localhost:8080/",
          "height": 1000
        }
      },
      "source": [
        "\"\"\"\n",
        "    Start training our ResNet50 model\n",
        "\n",
        "    This will also save the trained model file to our 'models' directory.\n",
        "\"\"\"\n",
        "rn_history = rn_model.fit(rn_train_datagen, \n",
        "                        epochs=30,\n",
        "                        verbose=1, \n",
        "                        validation_data=rn_val_datagen)\n",
        "\n",
        "rn_model.save('models/cnn_resnet_tl.hdf5')\n",
        "\n",
        "if RunningInCOLAB:\n",
        "    files.download('models/cnn_resnet_tl.hdf5')"
      ],
      "execution_count": 17,
      "outputs": [
        {
          "output_type": "stream",
          "text": [
            "Epoch 1/30\n",
            "160/160 [==============================] - 183s 1s/step - loss: 2.0441 - accuracy: 0.2658 - val_loss: 1.2939 - val_accuracy: 0.5312\n",
            "Epoch 2/30\n",
            "160/160 [==============================] - 182s 1s/step - loss: 1.3266 - accuracy: 0.5033 - val_loss: 0.8722 - val_accuracy: 0.7273\n",
            "Epoch 3/30\n",
            "160/160 [==============================] - 184s 1s/step - loss: 1.0007 - accuracy: 0.6268 - val_loss: 0.6915 - val_accuracy: 0.7617\n",
            "Epoch 4/30\n",
            "160/160 [==============================] - 187s 1s/step - loss: 0.8341 - accuracy: 0.6834 - val_loss: 0.5851 - val_accuracy: 0.7977\n",
            "Epoch 5/30\n",
            "160/160 [==============================] - 189s 1s/step - loss: 0.7268 - accuracy: 0.7135 - val_loss: 0.5146 - val_accuracy: 0.8125\n",
            "Epoch 6/30\n",
            "160/160 [==============================] - 192s 1s/step - loss: 0.6338 - accuracy: 0.7533 - val_loss: 0.4806 - val_accuracy: 0.8195\n",
            "Epoch 7/30\n",
            "160/160 [==============================] - 191s 1s/step - loss: 0.5828 - accuracy: 0.7711 - val_loss: 0.4614 - val_accuracy: 0.8250\n",
            "Epoch 8/30\n",
            "160/160 [==============================] - 190s 1s/step - loss: 0.5426 - accuracy: 0.7855 - val_loss: 0.4203 - val_accuracy: 0.8383\n",
            "Epoch 9/30\n",
            "160/160 [==============================] - 190s 1s/step - loss: 0.5027 - accuracy: 0.8074 - val_loss: 0.4040 - val_accuracy: 0.8453\n",
            "Epoch 10/30\n",
            "160/160 [==============================] - 193s 1s/step - loss: 0.4696 - accuracy: 0.8166 - val_loss: 0.3828 - val_accuracy: 0.8445\n",
            "Epoch 11/30\n",
            "160/160 [==============================] - 191s 1s/step - loss: 0.4523 - accuracy: 0.8236 - val_loss: 0.3667 - val_accuracy: 0.8555\n",
            "Epoch 12/30\n",
            "160/160 [==============================] - 190s 1s/step - loss: 0.4367 - accuracy: 0.8232 - val_loss: 0.3640 - val_accuracy: 0.8562\n",
            "Epoch 13/30\n",
            "160/160 [==============================] - 189s 1s/step - loss: 0.4136 - accuracy: 0.8266 - val_loss: 0.3545 - val_accuracy: 0.8531\n",
            "Epoch 14/30\n",
            "160/160 [==============================] - 193s 1s/step - loss: 0.4216 - accuracy: 0.8326 - val_loss: 0.3432 - val_accuracy: 0.8594\n",
            "Epoch 15/30\n",
            "160/160 [==============================] - 190s 1s/step - loss: 0.3735 - accuracy: 0.8551 - val_loss: 0.3323 - val_accuracy: 0.8703\n",
            "Epoch 16/30\n",
            "160/160 [==============================] - 192s 1s/step - loss: 0.3733 - accuracy: 0.8553 - val_loss: 0.3267 - val_accuracy: 0.8734\n",
            "Epoch 17/30\n",
            "160/160 [==============================] - 192s 1s/step - loss: 0.3680 - accuracy: 0.8553 - val_loss: 0.3193 - val_accuracy: 0.8687\n",
            "Epoch 18/30\n",
            "160/160 [==============================] - 188s 1s/step - loss: 0.3492 - accuracy: 0.8609 - val_loss: 0.3215 - val_accuracy: 0.8719\n",
            "Epoch 19/30\n",
            "160/160 [==============================] - 190s 1s/step - loss: 0.3535 - accuracy: 0.8557 - val_loss: 0.3214 - val_accuracy: 0.8695\n",
            "Epoch 20/30\n",
            "160/160 [==============================] - 190s 1s/step - loss: 0.3452 - accuracy: 0.8641 - val_loss: 0.3057 - val_accuracy: 0.8789\n",
            "Epoch 21/30\n",
            "160/160 [==============================] - 181s 1s/step - loss: 0.3327 - accuracy: 0.8656 - val_loss: 0.2917 - val_accuracy: 0.8758\n",
            "Epoch 22/30\n",
            "160/160 [==============================] - 180s 1s/step - loss: 0.3145 - accuracy: 0.8717 - val_loss: 0.2987 - val_accuracy: 0.8750\n",
            "Epoch 23/30\n",
            "160/160 [==============================] - 181s 1s/step - loss: 0.3161 - accuracy: 0.8758 - val_loss: 0.2824 - val_accuracy: 0.8852\n",
            "Epoch 24/30\n",
            "160/160 [==============================] - 181s 1s/step - loss: 0.3299 - accuracy: 0.8703 - val_loss: 0.2976 - val_accuracy: 0.8805\n",
            "Epoch 25/30\n",
            "160/160 [==============================] - 181s 1s/step - loss: 0.3027 - accuracy: 0.8818 - val_loss: 0.2914 - val_accuracy: 0.8891\n",
            "Epoch 26/30\n",
            "160/160 [==============================] - 180s 1s/step - loss: 0.3041 - accuracy: 0.8818 - val_loss: 0.2835 - val_accuracy: 0.8836\n",
            "Epoch 27/30\n",
            "160/160 [==============================] - 180s 1s/step - loss: 0.2845 - accuracy: 0.8842 - val_loss: 0.2759 - val_accuracy: 0.8922\n",
            "Epoch 28/30\n",
            "160/160 [==============================] - 179s 1s/step - loss: 0.2824 - accuracy: 0.8861 - val_loss: 0.2891 - val_accuracy: 0.8852\n",
            "Epoch 29/30\n",
            "160/160 [==============================] - 180s 1s/step - loss: 0.2796 - accuracy: 0.8924 - val_loss: 0.2655 - val_accuracy: 0.8938\n",
            "Epoch 30/30\n",
            "160/160 [==============================] - 180s 1s/step - loss: 0.2790 - accuracy: 0.8867 - val_loss: 0.2715 - val_accuracy: 0.8992\n"
          ],
          "name": "stdout"
        },
        {
          "output_type": "display_data",
          "data": {
            "application/javascript": [
              "\n",
              "    async function download(id, filename, size) {\n",
              "      if (!google.colab.kernel.accessAllowed) {\n",
              "        return;\n",
              "      }\n",
              "      const div = document.createElement('div');\n",
              "      const label = document.createElement('label');\n",
              "      label.textContent = `Downloading \"${filename}\": `;\n",
              "      div.appendChild(label);\n",
              "      const progress = document.createElement('progress');\n",
              "      progress.max = size;\n",
              "      div.appendChild(progress);\n",
              "      document.body.appendChild(div);\n",
              "\n",
              "      const buffers = [];\n",
              "      let downloaded = 0;\n",
              "\n",
              "      const channel = await google.colab.kernel.comms.open(id);\n",
              "      // Send a message to notify the kernel that we're ready.\n",
              "      channel.send({})\n",
              "\n",
              "      for await (const message of channel.messages) {\n",
              "        // Send a message to notify the kernel that we're ready.\n",
              "        channel.send({})\n",
              "        if (message.buffers) {\n",
              "          for (const buffer of message.buffers) {\n",
              "            buffers.push(buffer);\n",
              "            downloaded += buffer.byteLength;\n",
              "            progress.value = downloaded;\n",
              "          }\n",
              "        }\n",
              "      }\n",
              "      const blob = new Blob(buffers, {type: 'application/binary'});\n",
              "      const a = document.createElement('a');\n",
              "      a.href = window.URL.createObjectURL(blob);\n",
              "      a.download = filename;\n",
              "      div.appendChild(a);\n",
              "      a.click();\n",
              "      div.remove();\n",
              "    }\n",
              "  "
            ],
            "text/plain": [
              "<IPython.core.display.Javascript object>"
            ]
          },
          "metadata": {
            "tags": []
          }
        },
        {
          "output_type": "display_data",
          "data": {
            "application/javascript": [
              "download(\"download_70adc81b-654d-445e-a44a-f1d3614dc346\", \"cnn_resnet_tl.hdf5\", 95529912)"
            ],
            "text/plain": [
              "<IPython.core.display.Javascript object>"
            ]
          },
          "metadata": {
            "tags": []
          }
        }
      ]
    },
    {
      "cell_type": "code",
      "metadata": {
        "id": "_c6R6N1l4Gef",
        "outputId": "9673ad2f-ce78-4b31-d7ca-c85b5db2cffa",
        "colab": {
          "base_uri": "https://localhost:8080/",
          "height": 549
        }
      },
      "source": [
        "\"\"\"\n",
        "\n",
        "    Examine the training process\n",
        "\n",
        "\"\"\"\n",
        "plot_history(rn_history)"
      ],
      "execution_count": 18,
      "outputs": [
        {
          "output_type": "display_data",
          "data": {
            "image/png": "[encoded data removed]",
            "text/plain": [
              "<Figure size 432x288 with 1 Axes>"
            ]
          },
          "metadata": {
            "tags": [],
            "needs_background": "light"
          }
        },
        {
          "output_type": "display_data",
          "data": {
            "image/png": "[encoded data removed]",
            "text/plain": [
              "<Figure size 432x288 with 1 Axes>"
            ]
          },
          "metadata": {
            "tags": [],
            "needs_background": "light"
          }
        }
      ]
    },
    {
      "cell_type": "markdown",
      "metadata": {
        "id": "awTNrEYR6_NO"
      },
      "source": [
        "### 3.4 Evaluate model"
      ]
    },
    {
      "cell_type": "code",
      "metadata": {
        "id": "lfDf5H2j5LNi",
        "outputId": "4097ce75-cffb-41bc-faff-1017324efb7d",
        "colab": {
          "base_uri": "https://localhost:8080/"
        }
      },
      "source": [
        "\"\"\"\n",
        "    Use the model to predict on the unseen test set.\n",
        "\"\"\"\n",
        "rn_predictions = rn_model.predict(rn_test_datagen, verbose=1)"
      ],
      "execution_count": 80,
      "outputs": [
        {
          "output_type": "stream",
          "text": [
            "50/50 [==============================] - 25s 508ms/step\n"
          ],
          "name": "stdout"
        }
      ]
    },
    {
      "cell_type": "code",
      "metadata": {
        "id": "pSKz_A1nbQHU",
        "outputId": "696279f0-f9b9-4d7e-b0f2-5ab0e9e07cfd",
        "colab": {
          "base_uri": "https://localhost:8080/",
          "height": 808
        }
      },
      "source": [
        "\"\"\"\n",
        "\n",
        "    Evaluate the prediction results.\n",
        "\n",
        "    Displays a Confusion Matrix and a Classification Report.\n",
        "    These are also saved to the 'results' folder.\n",
        "\n",
        "\"\"\"\n",
        "unique_labels = list(rn_test_datagen.class_indices.keys())\n",
        "\n",
        "y_pred = np.argmax(rn_predictions, axis=-1)\n",
        "y_true = rn_test_datagen.classes[rn_test_datagen.index_array]\n",
        "\n",
        "display_confusion_matrix(\n",
        "    y_pred=y_pred, \n",
        "    y_true=y_true, \n",
        "    target_names=unique_labels, \n",
        "    save_path='results/cnn_resnet_tl/cnn_resnet_tl_confusion_matrix.png'\n",
        ")\n",
        "\n",
        "display_classification_report(\n",
        "    y_pred=y_pred, \n",
        "    y_true=y_true, \n",
        "    target_names=unique_labels, \n",
        "    save_path='results/cnn_resnet_tl/cnn_resnet_tl_classification_report.csv'\n",
        ")"
      ],
      "execution_count": 81,
      "outputs": [
        {
          "output_type": "display_data",
          "data": {
            "image/png": "[encoded data removed]",
            "text/plain": [
              "<Figure size 720x576 with 2 Axes>"
            ]
          },
          "metadata": {
            "tags": [],
            "needs_background": "light"
          }
        },
        {
          "output_type": "display_data",
          "data": {
            "application/javascript": [
              "\n",
              "    async function download(id, filename, size) {\n",
              "      if (!google.colab.kernel.accessAllowed) {\n",
              "        return;\n",
              "      }\n",
              "      const div = document.createElement('div');\n",
              "      const label = document.createElement('label');\n",
              "      label.textContent = `Downloading \"${filename}\": `;\n",
              "      div.appendChild(label);\n",
              "      const progress = document.createElement('progress');\n",
              "      progress.max = size;\n",
              "      div.appendChild(progress);\n",
              "      document.body.appendChild(div);\n",
              "\n",
              "      const buffers = [];\n",
              "      let downloaded = 0;\n",
              "\n",
              "      const channel = await google.colab.kernel.comms.open(id);\n",
              "      // Send a message to notify the kernel that we're ready.\n",
              "      channel.send({})\n",
              "\n",
              "      for await (const message of channel.messages) {\n",
              "        // Send a message to notify the kernel that we're ready.\n",
              "        channel.send({})\n",
              "        if (message.buffers) {\n",
              "          for (const buffer of message.buffers) {\n",
              "            buffers.push(buffer);\n",
              "            downloaded += buffer.byteLength;\n",
              "            progress.value = downloaded;\n",
              "          }\n",
              "        }\n",
              "      }\n",
              "      const blob = new Blob(buffers, {type: 'application/binary'});\n",
              "      const a = document.createElement('a');\n",
              "      a.href = window.URL.createObjectURL(blob);\n",
              "      a.download = filename;\n",
              "      div.appendChild(a);\n",
              "      a.click();\n",
              "      div.remove();\n",
              "    }\n",
              "  "
            ],
            "text/plain": [
              "<IPython.core.display.Javascript object>"
            ]
          },
          "metadata": {
            "tags": []
          }
        },
        {
          "output_type": "display_data",
          "data": {
            "application/javascript": [
              "download(\"download_ffd03b69-196d-4c9d-b06f-d4c72a3fe602\", \"cnn_resnet_tl_confusion_matrix.png\", 83824)"
            ],
            "text/plain": [
              "<IPython.core.display.Javascript object>"
            ]
          },
          "metadata": {
            "tags": []
          }
        },
        {
          "output_type": "stream",
          "text": [
            "                        precision  recall  f1-score  support\n",
            "dyed-lifted-polyps           0.88    0.94      0.91   200.00\n",
            "dyed-resection-margins       0.93    0.87      0.90   200.00\n",
            "esophagitis                  0.88    0.77      0.82   200.00\n",
            "normal-cecum                 0.92    0.97      0.94   200.00\n",
            "normal-pylorus               0.94    1.00      0.97   200.00\n",
            "normal-z-line                0.81    0.88      0.84   200.00\n",
            "polyps                       0.97    0.92      0.94   200.00\n",
            "ulcerative-colitis           0.97    0.96      0.96   200.00\n",
            "accuracy                     0.91    0.91      0.91     0.91\n",
            "macro avg                    0.91    0.91      0.91  1600.00\n",
            "weighted avg                 0.91    0.91      0.91  1600.00\n"
          ],
          "name": "stdout"
        },
        {
          "output_type": "display_data",
          "data": {
            "application/javascript": [
              "\n",
              "    async function download(id, filename, size) {\n",
              "      if (!google.colab.kernel.accessAllowed) {\n",
              "        return;\n",
              "      }\n",
              "      const div = document.createElement('div');\n",
              "      const label = document.createElement('label');\n",
              "      label.textContent = `Downloading \"${filename}\": `;\n",
              "      div.appendChild(label);\n",
              "      const progress = document.createElement('progress');\n",
              "      progress.max = size;\n",
              "      div.appendChild(progress);\n",
              "      document.body.appendChild(div);\n",
              "\n",
              "      const buffers = [];\n",
              "      let downloaded = 0;\n",
              "\n",
              "      const channel = await google.colab.kernel.comms.open(id);\n",
              "      // Send a message to notify the kernel that we're ready.\n",
              "      channel.send({})\n",
              "\n",
              "      for await (const message of channel.messages) {\n",
              "        // Send a message to notify the kernel that we're ready.\n",
              "        channel.send({})\n",
              "        if (message.buffers) {\n",
              "          for (const buffer of message.buffers) {\n",
              "            buffers.push(buffer);\n",
              "            downloaded += buffer.byteLength;\n",
              "            progress.value = downloaded;\n",
              "          }\n",
              "        }\n",
              "      }\n",
              "      const blob = new Blob(buffers, {type: 'application/binary'});\n",
              "      const a = document.createElement('a');\n",
              "      a.href = window.URL.createObjectURL(blob);\n",
              "      a.download = filename;\n",
              "      div.appendChild(a);\n",
              "      a.click();\n",
              "      div.remove();\n",
              "    }\n",
              "  "
            ],
            "text/plain": [
              "<IPython.core.display.Javascript object>"
            ]
          },
          "metadata": {
            "tags": []
          }
        },
        {
          "output_type": "display_data",
          "data": {
            "application/javascript": [
              "download(\"download_10f5621d-cf28-466d-8f12-9a8d4734b10f\", \"cnn_resnet_tl_classification_report.csv\", 419)"
            ],
            "text/plain": [
              "<IPython.core.display.Javascript object>"
            ]
          },
          "metadata": {
            "tags": []
          }
        }
      ]
    },
    {
      "cell_type": "markdown",
      "metadata": {
        "id": "5-oE9A4s7AcZ"
      },
      "source": [
        "### 3.5 Unfreeze and re-train model"
      ]
    },
    {
      "cell_type": "code",
      "metadata": {
        "id": "BuWToEG4wdVa",
        "outputId": "917c6451-3d05-475d-a4f4-c5a9d526361c",
        "colab": {
          "base_uri": "https://localhost:8080/",
          "height": 1000
        }
      },
      "source": [
        "\"\"\"\n",
        "    Unfreeze all layers\n",
        "\"\"\"\n",
        "rn_model.trainable = True\n",
        "\n",
        "\"\"\"\n",
        "    Compile model with a lower learning rate\n",
        "\"\"\"\n",
        "rn_model.compile(\n",
        "    optimizer=keras.optimizers.Adam(0.000001),  # Low learning rate\n",
        "    loss='sparse_categorical_crossentropy',\n",
        "    metrics=[ 'accuracy' ],\n",
        ")\n",
        "\n",
        "\"\"\"\n",
        "    Resume training\n",
        "\"\"\"\n",
        "rn_history_ft = rn_model.fit(rn_train_datagen, \n",
        "                        epochs=30,\n",
        "                        verbose=1, \n",
        "                        validation_data=rn_val_datagen)\n",
        "\n",
        "\n",
        "rn_model.save('models/cnn_resnet_tl_tuned.hdf5')\n",
        "\n",
        "if RunningInCOLAB:\n",
        "    files.download('models/cnn_resnet_tl_tuned.hdf5')"
      ],
      "execution_count": 20,
      "outputs": [
        {
          "output_type": "stream",
          "text": [
            "Epoch 1/30\n",
            "160/160 [==============================] - 216s 1s/step - loss: 0.2675 - accuracy: 0.8998 - val_loss: 0.2713 - val_accuracy: 0.8914\n",
            "Epoch 2/30\n",
            "160/160 [==============================] - 212s 1s/step - loss: 0.2590 - accuracy: 0.8982 - val_loss: 0.2665 - val_accuracy: 0.8938\n",
            "Epoch 3/30\n",
            "160/160 [==============================] - 211s 1s/step - loss: 0.2532 - accuracy: 0.8992 - val_loss: 0.2552 - val_accuracy: 0.8977\n",
            "Epoch 4/30\n",
            "160/160 [==============================] - 209s 1s/step - loss: 0.2457 - accuracy: 0.9033 - val_loss: 0.2611 - val_accuracy: 0.8914\n",
            "Epoch 5/30\n",
            "160/160 [==============================] - 207s 1s/step - loss: 0.2346 - accuracy: 0.9070 - val_loss: 0.2611 - val_accuracy: 0.8867\n",
            "Epoch 6/30\n",
            "160/160 [==============================] - 206s 1s/step - loss: 0.2361 - accuracy: 0.9039 - val_loss: 0.2558 - val_accuracy: 0.8906\n",
            "Epoch 7/30\n",
            "160/160 [==============================] - 206s 1s/step - loss: 0.2279 - accuracy: 0.9117 - val_loss: 0.2549 - val_accuracy: 0.8984\n",
            "Epoch 8/30\n",
            "160/160 [==============================] - 208s 1s/step - loss: 0.2110 - accuracy: 0.9203 - val_loss: 0.2422 - val_accuracy: 0.9000\n",
            "Epoch 9/30\n",
            "160/160 [==============================] - 212s 1s/step - loss: 0.2237 - accuracy: 0.9131 - val_loss: 0.2426 - val_accuracy: 0.9008\n",
            "Epoch 10/30\n",
            "160/160 [==============================] - 213s 1s/step - loss: 0.2185 - accuracy: 0.9162 - val_loss: 0.2530 - val_accuracy: 0.9031\n",
            "Epoch 11/30\n",
            "160/160 [==============================] - 214s 1s/step - loss: 0.2082 - accuracy: 0.9221 - val_loss: 0.2502 - val_accuracy: 0.8992\n",
            "Epoch 12/30\n",
            "160/160 [==============================] - 213s 1s/step - loss: 0.2022 - accuracy: 0.9207 - val_loss: 0.2434 - val_accuracy: 0.9023\n",
            "Epoch 13/30\n",
            "160/160 [==============================] - 212s 1s/step - loss: 0.2075 - accuracy: 0.9203 - val_loss: 0.2434 - val_accuracy: 0.9000\n",
            "Epoch 14/30\n",
            "160/160 [==============================] - 205s 1s/step - loss: 0.2044 - accuracy: 0.9209 - val_loss: 0.2488 - val_accuracy: 0.8961\n",
            "Epoch 15/30\n",
            "160/160 [==============================] - 199s 1s/step - loss: 0.1987 - accuracy: 0.9229 - val_loss: 0.2358 - val_accuracy: 0.9086\n",
            "Epoch 16/30\n",
            "160/160 [==============================] - 195s 1s/step - loss: 0.1924 - accuracy: 0.9268 - val_loss: 0.2490 - val_accuracy: 0.8984\n",
            "Epoch 17/30\n",
            "160/160 [==============================] - 194s 1s/step - loss: 0.1935 - accuracy: 0.9260 - val_loss: 0.2329 - val_accuracy: 0.9070\n",
            "Epoch 18/30\n",
            "160/160 [==============================] - 192s 1s/step - loss: 0.1798 - accuracy: 0.9281 - val_loss: 0.2385 - val_accuracy: 0.9047\n",
            "Epoch 19/30\n",
            "160/160 [==============================] - 193s 1s/step - loss: 0.1670 - accuracy: 0.9395 - val_loss: 0.2363 - val_accuracy: 0.9031\n",
            "Epoch 20/30\n",
            "160/160 [==============================] - 191s 1s/step - loss: 0.1799 - accuracy: 0.9320 - val_loss: 0.2459 - val_accuracy: 0.8992\n",
            "Epoch 21/30\n",
            "160/160 [==============================] - 191s 1s/step - loss: 0.1676 - accuracy: 0.9367 - val_loss: 0.2404 - val_accuracy: 0.8969\n",
            "Epoch 22/30\n",
            "160/160 [==============================] - 190s 1s/step - loss: 0.1678 - accuracy: 0.9332 - val_loss: 0.2313 - val_accuracy: 0.9062\n",
            "Epoch 23/30\n",
            "160/160 [==============================] - 192s 1s/step - loss: 0.1655 - accuracy: 0.9322 - val_loss: 0.2321 - val_accuracy: 0.9031\n",
            "Epoch 24/30\n",
            "160/160 [==============================] - 191s 1s/step - loss: 0.1661 - accuracy: 0.9336 - val_loss: 0.2344 - val_accuracy: 0.9117\n",
            "Epoch 25/30\n",
            "160/160 [==============================] - 190s 1s/step - loss: 0.1585 - accuracy: 0.9381 - val_loss: 0.2306 - val_accuracy: 0.9023\n",
            "Epoch 26/30\n",
            "160/160 [==============================] - 191s 1s/step - loss: 0.1618 - accuracy: 0.9393 - val_loss: 0.2307 - val_accuracy: 0.9031\n",
            "Epoch 27/30\n",
            "160/160 [==============================] - 190s 1s/step - loss: 0.1570 - accuracy: 0.9418 - val_loss: 0.2391 - val_accuracy: 0.9047\n",
            "Epoch 28/30\n",
            "160/160 [==============================] - 190s 1s/step - loss: 0.1546 - accuracy: 0.9389 - val_loss: 0.2306 - val_accuracy: 0.9078\n",
            "Epoch 29/30\n",
            "160/160 [==============================] - 189s 1s/step - loss: 0.1490 - accuracy: 0.9426 - val_loss: 0.2313 - val_accuracy: 0.9047\n",
            "Epoch 30/30\n",
            "160/160 [==============================] - 189s 1s/step - loss: 0.1464 - accuracy: 0.9422 - val_loss: 0.2276 - val_accuracy: 0.9117\n"
          ],
          "name": "stdout"
        },
        {
          "output_type": "display_data",
          "data": {
            "application/javascript": [
              "\n",
              "    async function download(id, filename, size) {\n",
              "      if (!google.colab.kernel.accessAllowed) {\n",
              "        return;\n",
              "      }\n",
              "      const div = document.createElement('div');\n",
              "      const label = document.createElement('label');\n",
              "      label.textContent = `Downloading \"${filename}\": `;\n",
              "      div.appendChild(label);\n",
              "      const progress = document.createElement('progress');\n",
              "      progress.max = size;\n",
              "      div.appendChild(progress);\n",
              "      document.body.appendChild(div);\n",
              "\n",
              "      const buffers = [];\n",
              "      let downloaded = 0;\n",
              "\n",
              "      const channel = await google.colab.kernel.comms.open(id);\n",
              "      // Send a message to notify the kernel that we're ready.\n",
              "      channel.send({})\n",
              "\n",
              "      for await (const message of channel.messages) {\n",
              "        // Send a message to notify the kernel that we're ready.\n",
              "        channel.send({})\n",
              "        if (message.buffers) {\n",
              "          for (const buffer of message.buffers) {\n",
              "            buffers.push(buffer);\n",
              "            downloaded += buffer.byteLength;\n",
              "            progress.value = downloaded;\n",
              "          }\n",
              "        }\n",
              "      }\n",
              "      const blob = new Blob(buffers, {type: 'application/binary'});\n",
              "      const a = document.createElement('a');\n",
              "      a.href = window.URL.createObjectURL(blob);\n",
              "      a.download = filename;\n",
              "      div.appendChild(a);\n",
              "      a.click();\n",
              "      div.remove();\n",
              "    }\n",
              "  "
            ],
            "text/plain": [
              "<IPython.core.display.Javascript object>"
            ]
          },
          "metadata": {
            "tags": []
          }
        },
        {
          "output_type": "display_data",
          "data": {
            "application/javascript": [
              "download(\"download_e043744b-c373-4dd0-bc4e-27a0c452c135\", \"cnn_resnet_tl_tuned_v2.hdf5\", 283623568)"
            ],
            "text/plain": [
              "<IPython.core.display.Javascript object>"
            ]
          },
          "metadata": {
            "tags": []
          }
        }
      ]
    },
    {
      "cell_type": "code",
      "metadata": {
        "id": "Uj94xyxfK1yA",
        "outputId": "037f256e-7b27-4c14-a623-fe144ea51d09",
        "colab": {
          "base_uri": "https://localhost:8080/",
          "height": 587
        }
      },
      "source": [
        "\"\"\"\n",
        "\n",
        "    Examine the training process\n",
        "\n",
        "\"\"\"\n",
        "plot_history(rn_history_ft)"
      ],
      "execution_count": 23,
      "outputs": [
        {
          "output_type": "display_data",
          "data": {
            "image/png": "[encoded data removed]",
            "text/plain": [
              "<Figure size 432x288 with 1 Axes>"
            ]
          },
          "metadata": {
            "tags": [],
            "needs_background": "light"
          }
        },
        {
          "output_type": "display_data",
          "data": {
            "image/png": "[encoded data removed]",
            "text/plain": [
              "<Figure size 432x288 with 1 Axes>"
            ]
          },
          "metadata": {
            "tags": [],
            "needs_background": "light"
          }
        }
      ]
    },
    {
      "cell_type": "markdown",
      "metadata": {
        "id": "5de5L5nS7Dux"
      },
      "source": [
        "### 3.6 Final model evaluation"
      ]
    },
    {
      "cell_type": "code",
      "metadata": {
        "id": "PW-0jqW-xGNn",
        "outputId": "27b3eb7a-9da1-447c-c596-ab0a4f19f41e",
        "colab": {
          "base_uri": "https://localhost:8080/"
        }
      },
      "source": [
        "\"\"\"\n",
        "    Use the model to predict on the unseen test set.\n",
        "\"\"\"\n",
        "rn_predictions = rn_model.predict(rn_test_datagen, verbose=1)"
      ],
      "execution_count": 83,
      "outputs": [
        {
          "output_type": "stream",
          "text": [
            "50/50 [==============================] - 26s 511ms/step\n"
          ],
          "name": "stdout"
        }
      ]
    },
    {
      "cell_type": "code",
      "metadata": {
        "id": "-7Rt5T0m_P15",
        "outputId": "e2c107b5-0519-4035-f932-f6f2557dae15",
        "colab": {
          "base_uri": "https://localhost:8080/",
          "height": 808
        }
      },
      "source": [
        "\"\"\"\n",
        "\n",
        "    Evaluate the prediction results.\n",
        "\n",
        "    Displays a Confusion Matrix and a Classification Report.\n",
        "    These are also saved to the 'results' folder.\n",
        "\n",
        "\"\"\"\n",
        "unique_labels = list(rn_test_datagen.class_indices.keys())\n",
        "\n",
        "y_pred = np.argmax(rn_predictions, axis=-1)\n",
        "y_true = rn_test_datagen.classes[rn_test_datagen.index_array]\n",
        "\n",
        "display_confusion_matrix(\n",
        "    y_pred=y_pred, \n",
        "    y_true=y_true, \n",
        "    target_names=unique_labels, \n",
        "    save_path='results/cnn_resnet_tl_tuned/cnn_resnet_tl_tuned_confusion_matrix.png'\n",
        ")\n",
        "\n",
        "display_classification_report(\n",
        "    y_pred=y_pred, \n",
        "    y_true=y_true, \n",
        "    target_names=unique_labels, \n",
        "    save_path='results/cnn_resnet_tl_tuned/cnn_resnet_tl_tuned_classification_report.csv'\n",
        ")"
      ],
      "execution_count": 84,
      "outputs": [
        {
          "output_type": "display_data",
          "data": {
            "image/png": "[encoded data removed]",
            "text/plain": [
              "<Figure size 720x576 with 2 Axes>"
            ]
          },
          "metadata": {
            "tags": [],
            "needs_background": "light"
          }
        },
        {
          "output_type": "display_data",
          "data": {
            "application/javascript": [
              "\n",
              "    async function download(id, filename, size) {\n",
              "      if (!google.colab.kernel.accessAllowed) {\n",
              "        return;\n",
              "      }\n",
              "      const div = document.createElement('div');\n",
              "      const label = document.createElement('label');\n",
              "      label.textContent = `Downloading \"${filename}\": `;\n",
              "      div.appendChild(label);\n",
              "      const progress = document.createElement('progress');\n",
              "      progress.max = size;\n",
              "      div.appendChild(progress);\n",
              "      document.body.appendChild(div);\n",
              "\n",
              "      const buffers = [];\n",
              "      let downloaded = 0;\n",
              "\n",
              "      const channel = await google.colab.kernel.comms.open(id);\n",
              "      // Send a message to notify the kernel that we're ready.\n",
              "      channel.send({})\n",
              "\n",
              "      for await (const message of channel.messages) {\n",
              "        // Send a message to notify the kernel that we're ready.\n",
              "        channel.send({})\n",
              "        if (message.buffers) {\n",
              "          for (const buffer of message.buffers) {\n",
              "            buffers.push(buffer);\n",
              "            downloaded += buffer.byteLength;\n",
              "            progress.value = downloaded;\n",
              "          }\n",
              "        }\n",
              "      }\n",
              "      const blob = new Blob(buffers, {type: 'application/binary'});\n",
              "      const a = document.createElement('a');\n",
              "      a.href = window.URL.createObjectURL(blob);\n",
              "      a.download = filename;\n",
              "      div.appendChild(a);\n",
              "      a.click();\n",
              "      div.remove();\n",
              "    }\n",
              "  "
            ],
            "text/plain": [
              "<IPython.core.display.Javascript object>"
            ]
          },
          "metadata": {
            "tags": []
          }
        },
        {
          "output_type": "display_data",
          "data": {
            "application/javascript": [
              "download(\"download_6e9a8070-e7a8-4ed3-b7bf-0f2f01fc9187\", \"cnn_resnet_tl_tuned_confusion_matrix.png\", 84033)"
            ],
            "text/plain": [
              "<IPython.core.display.Javascript object>"
            ]
          },
          "metadata": {
            "tags": []
          }
        },
        {
          "output_type": "stream",
          "text": [
            "                        precision  recall  f1-score  support\n",
            "dyed-lifted-polyps           0.89    0.96      0.93   200.00\n",
            "dyed-resection-margins       0.96    0.88      0.92   200.00\n",
            "esophagitis                  0.89    0.78      0.83   200.00\n",
            "normal-cecum                 0.92    0.98      0.95   200.00\n",
            "normal-pylorus               0.94    1.00      0.97   200.00\n",
            "normal-z-line                0.83    0.90      0.86   200.00\n",
            "polyps                       0.98    0.92      0.95   200.00\n",
            "ulcerative-colitis           0.97    0.96      0.96   200.00\n",
            "accuracy                     0.92    0.92      0.92     0.92\n",
            "macro avg                    0.92    0.92      0.92  1600.00\n",
            "weighted avg                 0.92    0.92      0.92  1600.00\n"
          ],
          "name": "stdout"
        },
        {
          "output_type": "display_data",
          "data": {
            "application/javascript": [
              "\n",
              "    async function download(id, filename, size) {\n",
              "      if (!google.colab.kernel.accessAllowed) {\n",
              "        return;\n",
              "      }\n",
              "      const div = document.createElement('div');\n",
              "      const label = document.createElement('label');\n",
              "      label.textContent = `Downloading \"${filename}\": `;\n",
              "      div.appendChild(label);\n",
              "      const progress = document.createElement('progress');\n",
              "      progress.max = size;\n",
              "      div.appendChild(progress);\n",
              "      document.body.appendChild(div);\n",
              "\n",
              "      const buffers = [];\n",
              "      let downloaded = 0;\n",
              "\n",
              "      const channel = await google.colab.kernel.comms.open(id);\n",
              "      // Send a message to notify the kernel that we're ready.\n",
              "      channel.send({})\n",
              "\n",
              "      for await (const message of channel.messages) {\n",
              "        // Send a message to notify the kernel that we're ready.\n",
              "        channel.send({})\n",
              "        if (message.buffers) {\n",
              "          for (const buffer of message.buffers) {\n",
              "            buffers.push(buffer);\n",
              "            downloaded += buffer.byteLength;\n",
              "            progress.value = downloaded;\n",
              "          }\n",
              "        }\n",
              "      }\n",
              "      const blob = new Blob(buffers, {type: 'application/binary'});\n",
              "      const a = document.createElement('a');\n",
              "      a.href = window.URL.createObjectURL(blob);\n",
              "      a.download = filename;\n",
              "      div.appendChild(a);\n",
              "      a.click();\n",
              "      div.remove();\n",
              "    }\n",
              "  "
            ],
            "text/plain": [
              "<IPython.core.display.Javascript object>"
            ]
          },
          "metadata": {
            "tags": []
          }
        },
        {
          "output_type": "display_data",
          "data": {
            "application/javascript": [
              "download(\"download_db53fb10-a09b-4a89-95f5-39ac1fb3552a\", \"cnn_resnet_tl_tuned_classification_report.csv\", 419)"
            ],
            "text/plain": [
              "<IPython.core.display.Javascript object>"
            ]
          },
          "metadata": {
            "tags": []
          }
        }
      ]
    },
    {
      "cell_type": "markdown",
      "metadata": {
        "id": "MEFF9NGT7w-m"
      },
      "source": [
        "## 4 Unsorted"
      ]
    },
    {
      "cell_type": "code",
      "metadata": {
        "id": "zDBZt4sa3xFJ"
      },
      "source": [
        "\"\"\"\n",
        "    Reset all datagenerators\n",
        "\n",
        "    Useful if we are re-running cells that call or depend on the generators.\n",
        "\"\"\"\n",
        "rn_train_datagen.reset()\n",
        "rn_test_datagen.reset()\n",
        "rn_val_datagen.reset()"
      ],
      "execution_count": null,
      "outputs": []
    },
    {
      "cell_type": "code",
      "metadata": {
        "id": "PlTeQClOXfDJ",
        "outputId": "8a09b7f3-b509-4626-b6dc-585fb6e17ed3",
        "colab": {
          "base_uri": "https://localhost:8080/"
        }
      },
      "source": [
        "\"\"\"\n",
        "    Double-checking class distribution\n",
        "\"\"\"\n",
        "def files_per_class(path):\n",
        "    files_per_class = []\n",
        "    for folder in os.listdir(path):\n",
        "        if not os.path.isfile(folder):\n",
        "                files_per_class.append(len(os.listdir(path + '/' + folder)))\n",
        "\n",
        "    print(files_per_class)\n",
        "\n",
        "files_per_class('data/processed/train')\n",
        "files_per_class('data/processed/test')\n"
      ],
      "execution_count": null,
      "outputs": [
        {
          "output_type": "stream",
          "text": [
            "[800, 800, 800, 800, 800, 800, 800, 800]\n",
            "[200, 200, 200, 200, 200, 200, 200, 200]\n"
          ],
          "name": "stdout"
        }
      ]
    },
    {
      "cell_type": "code",
      "metadata": {
        "id": "zBigm-tCuvJu"
      },
      "source": [
        "\"\"\"\n",
        "    \n",
        "    Print some (a lot) of the correctly and wrongly classified cases.\n",
        "    Might use some of these in the project report.\n",
        "\n",
        "\"\"\"\n",
        "\n",
        "# reverse k, v => v, k\n",
        "class_indices = {v: k for k, v in test_generator.class_indices.items()}\n",
        "\n",
        "for i in range(0,2000):\n",
        "    filepath = test_generator.filepaths[i]\n",
        "    filename = test_generator.filenames[i]\n",
        "    label_index = test_generator.classes[i]\n",
        "    prediction = np.argmax(rn_predictions, axis=-1)[i]\n",
        "\n",
        "    true_label = class_indices[label_index]\n",
        "    pred_label = class_indices[prediction]\n",
        "\n",
        "    # We are mainly interested in wrongly predicted cases, so save all of these\n",
        "    if label_index != prediction:\n",
        "        plt.figure(figsize=(8,6))\n",
        "        plt.axis(\"off\")\n",
        "        plt.title(f\"true: {true_label} / pred: {pred_label}\")\n",
        "        plt.imshow(cv2.cvtColor(cv2.imread(filepath), cv2.COLOR_BGR2RGB))\n",
        "        # plt.savefig(f\"/content/gdrive/My Drive/TDT4173/incorrect-{i}.png\")\n",
        "        plt.show()\n",
        "    # Some of the correctly predicted cases can be saved as well\n",
        "    else:\n",
        "        if i % 20 == 0:\n",
        "            plt.figure(figsize=(8,6))\n",
        "            plt.axis(\"off\")\n",
        "            plt.title(f\"true: {true_label} / pred: {pred_label}\")\n",
        "            plt.imshow(cv2.cvtColor(cv2.imread(filepath), cv2.COLOR_BGR2RGB))\n",
        "            # plt.savefig(f\"/content/gdrive/My Drive/TDT4173/correct-{i}.png\")\n",
        "            plt.show()\n"
      ],
      "execution_count": null,
      "outputs": []
    },
    {
      "cell_type": "code",
      "metadata": {
        "id": "LMKnFjv3Z2bq"
      },
      "source": [
        "\"\"\"\n",
        "\n",
        "    Exports the environment package dependencies to a text file, then downloads it.\n",
        "\n",
        "\"\"\"\n",
        "!pip freeze > requirements.txt\n",
        "\n",
        "if RunningInCOLAB:\n",
        "    files.download('requirements.txt')"
      ],
      "execution_count": null,
      "outputs": []
    }
  ]
}