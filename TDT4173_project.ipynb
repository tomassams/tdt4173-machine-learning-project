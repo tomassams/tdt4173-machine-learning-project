{
  "nbformat": 4,
  "nbformat_minor": 0,
  "metadata": {
    "colab": {
      "name": "TDT4173 project __ kvasir-dataset.ipynb",
      "provenance": [],
      "authorship_tag": "ABX9TyMm7egBZyvUhv9eW2C6IMEw",
      "include_colab_link": true
    },
    "kernelspec": {
      "name": "python3",
      "display_name": "Python 3"
    },
    "accelerator": "GPU"
  },
  "cells": [
    {
      "cell_type": "markdown",
      "metadata": {
        "id": "view-in-github",
        "colab_type": "text"
      },
      "source": [
        "<a href=\"https://colab.research.google.com/github/tomassams/tdt4173-machine-learning-project/blob/main/TDT4173_project.ipynb\" target=\"_parent\"><img src=\"https://colab.research.google.com/assets/colab-badge.svg\" alt=\"Open In Colab\"/></a>"
      ]
    },
    {
      "cell_type": "markdown",
      "metadata": {
        "id": "wsU1QHVNqj_I"
      },
      "source": [
        "# TDT4173 Project Assignment: A comparison of KNN and CNN for image classification\n"
      ]
    },
    {
      "cell_type": "markdown",
      "metadata": {
        "id": "P09dqkvnrG8e"
      },
      "source": [
        "This notebook contains the code used in the TDT4173 group project assignment at NTNU, fall 2020.\n",
        "\n",
        "You can run these code cells on your own if you want. Note that some parts are resource and computation intensive.\n",
        "\n",
        "It is recommended to run the CNN section on a computer with a GPU usage, or on a cloud provider that provides GPU (such as Google Colab)."
      ]
    },
    {
      "cell_type": "markdown",
      "metadata": {
        "id": "4yhdyBawJmSx"
      },
      "source": [
        "## 1 Setup\n"
      ]
    },
    {
      "cell_type": "markdown",
      "metadata": {
        "id": "d2hO4Ntlsr1j"
      },
      "source": [
        "\n",
        "### 1.1 Import libraries\n",
        "\n",
        "If any of these imports return an error, you might have to install them with pip. It can be done in the command line, or by executing it in a notebook code cell."
      ]
    },
    {
      "cell_type": "code",
      "metadata": {
        "id": "Qd6jDGDVulHJ"
      },
      "source": [
        "%matplotlib inline\n",
        "from matplotlib import pyplot as plt\n",
        "import cv2\n",
        "import pandas as pd\n",
        "import numpy as np\n",
        "from imutils import paths\n",
        "import os\n",
        "import imutils\n",
        "from sklearn.metrics import confusion_matrix, classification_report\n",
        "from sklearn.neighbors import KNeighborsClassifier\n",
        "from sklearn.model_selection import train_test_split\n",
        "import tensorflow as tf\n",
        "from tensorflow import keras\n",
        "import datetime, os"
      ],
      "execution_count": 1,
      "outputs": []
    },
    {
      "cell_type": "code",
      "metadata": {
        "id": "Nt4dMIiJsYuj"
      },
      "source": [
        "# Example on how to install pip packages inside a notebook, if above returns an error\n",
        "!pip install pandas"
      ],
      "execution_count": null,
      "outputs": []
    },
    {
      "cell_type": "code",
      "metadata": {
        "id": "woWgZDDlZc_u"
      },
      "source": [
        "# A helper utility to generate a pretty confusion matrix\n",
        "def plot_confusion_matrix(cm,\n",
        "                          target_names,\n",
        "                          title='Confusion matrix',\n",
        "                          cmap=None,\n",
        "                          normalize=True):\n",
        "    \"\"\"\n",
        "    given a sklearn confusion matrix (cm), make a nice plot\n",
        "\n",
        "    Arguments\n",
        "    ---------\n",
        "    cm:           confusion matrix from sklearn.metrics.confusion_matrix\n",
        "\n",
        "    target_names: given classification classes such as [0, 1, 2]\n",
        "                  the class names, for example: ['high', 'medium', 'low']\n",
        "\n",
        "    title:        the text to display at the top of the matrix\n",
        "\n",
        "    cmap:         the gradient of the values displayed from matplotlib.pyplot.cm\n",
        "                  see http://matplotlib.org/examples/color/colormaps_reference.html\n",
        "                  plt.get_cmap('jet') or plt.cm.Blues\n",
        "\n",
        "    normalize:    If False, plot the raw numbers\n",
        "                  If True, plot the proportions\n",
        "\n",
        "    Usage\n",
        "    -----\n",
        "    plot_confusion_matrix(cm           = cm,                  # confusion matrix created by\n",
        "                                                              # sklearn.metrics.confusion_matrix\n",
        "                          normalize    = True,                # show proportions\n",
        "                          target_names = y_labels_vals,       # list of names of the classes\n",
        "                          title        = best_estimator_name) # title of graph\n",
        "\n",
        "    Citiation\n",
        "    ---------\n",
        "    http://scikit-learn.org/stable/auto_examples/model_selection/plot_confusion_matrix.html\n",
        "\n",
        "    \"\"\"\n",
        "    import matplotlib.pyplot as plt\n",
        "    import numpy as np\n",
        "    import itertools\n",
        "\n",
        "    accuracy = np.trace(cm) / np.sum(cm).astype('float')\n",
        "    misclass = 1 - accuracy\n",
        "\n",
        "    if cmap is None:\n",
        "        cmap = plt.get_cmap('Blues')\n",
        "\n",
        "    plt.figure(figsize=(8, 6))\n",
        "    plt.imshow(cm, interpolation='nearest', cmap=cmap)\n",
        "    plt.title(title)\n",
        "    plt.colorbar()\n",
        "\n",
        "    if target_names is not None:\n",
        "        tick_marks = np.arange(len(target_names))\n",
        "        plt.xticks(tick_marks, target_names, rotation=90)\n",
        "        plt.yticks(tick_marks, target_names)\n",
        "\n",
        "    if normalize:\n",
        "        cm = cm.astype('float') / cm.sum(axis=1)[:, np.newaxis]\n",
        "\n",
        "\n",
        "    thresh = cm.max() / 1.5 if normalize else cm.max() / 2\n",
        "    for i, j in itertools.product(range(cm.shape[0]), range(cm.shape[1])):\n",
        "        if normalize:\n",
        "            plt.text(j, i, \"{:0.4f}\".format(cm[i, j]),\n",
        "                     horizontalalignment=\"center\",\n",
        "                     color=\"white\" if cm[i, j] > thresh else \"black\")\n",
        "        else:\n",
        "            plt.text(j, i, \"{:,}\".format(cm[i, j]),\n",
        "                     horizontalalignment=\"center\",\n",
        "                     color=\"white\" if cm[i, j] > thresh else \"black\")\n",
        "\n",
        "\n",
        "    plt.tight_layout()\n",
        "    plt.autoscale()\n",
        "    plt.ylabel('True label')\n",
        "    plt.xlabel('Predicted label\\naccuracy={:0.4f}; misclass={:0.4f}'.format(accuracy, misclass))\n",
        "    plt.show()"
      ],
      "execution_count": 16,
      "outputs": []
    },
    {
      "cell_type": "markdown",
      "metadata": {
        "id": "dOjOQlvZcy7f"
      },
      "source": [
        "### 1.2 Download the dataset\n",
        "We are using the 'kvasir' dataset from Simula. They provide a direct link on their website, so let us download it directly into our workspace with wget before unzipping it."
      ]
    },
    {
      "cell_type": "code",
      "metadata": {
        "id": "-9xqXAQXuCt5",
        "outputId": "6dc031b5-1edd-4283-9bfc-e630d40870ac",
        "colab": {
          "base_uri": "https://localhost:8080/"
        }
      },
      "source": [
        "!wget \"https://datasets.simula.no/kvasir/data/kvasir-dataset-v2.zip\"\n",
        "!unzip -qq kvasir-dataset-v2.zip\n",
        "!ls"
      ],
      "execution_count": 2,
      "outputs": [
        {
          "output_type": "stream",
          "text": [
            "--2020-11-06 09:18:22--  https://datasets.simula.no/kvasir/data/kvasir-dataset-v2.zip\n",
            "Resolving datasets.simula.no (datasets.simula.no)... 128.39.36.14\n",
            "Connecting to datasets.simula.no (datasets.simula.no)|128.39.36.14|:443... connected.\n",
            "HTTP request sent, awaiting response... 200 OK\n",
            "Length: 2489312085 (2.3G) [application/zip]\n",
            "Saving to: ‘kvasir-dataset-v2.zip’\n",
            "\n",
            "kvasir-dataset-v2.z 100%[===================>]   2.32G  16.3MB/s    in 2m 44s  \n",
            "\n",
            "2020-11-06 09:21:07 (14.5 MB/s) - ‘kvasir-dataset-v2.zip’ saved [2489312085/2489312085]\n",
            "\n",
            "kvasir-dataset-v2  kvasir-dataset-v2.zip  sample_data\n"
          ],
          "name": "stdout"
        }
      ]
    },
    {
      "cell_type": "markdown",
      "metadata": {
        "id": "_Ps8EdLJJr1x"
      },
      "source": [
        "## 2 K-Nearest Neighbor (KNN)"
      ]
    },
    {
      "cell_type": "markdown",
      "metadata": {
        "id": "FIVY8QTVJwYR"
      },
      "source": [
        "### 2.1 Preprocessing and feature extraction\n"
      ]
    },
    {
      "cell_type": "code",
      "metadata": {
        "id": "0m38pjHqunso",
        "outputId": "7ebd4631-e244-44a4-f6c9-2fe958aa1580",
        "colab": {
          "base_uri": "https://localhost:8080/"
        }
      },
      "source": [
        "# Collect all images into a list\n",
        "img_paths = list(paths.list_images('kvasir-dataset-v2'))\n",
        "\n",
        "# Print first 10 to see if they make sense\n",
        "img_paths[:10]"
      ],
      "execution_count": 3,
      "outputs": [
        {
          "output_type": "execute_result",
          "data": {
            "text/plain": [
              "['kvasir-dataset-v2/normal-pylorus/d601821a-15d7-4911-9ef8-733a67c7b5d4.jpg',\n",
              " 'kvasir-dataset-v2/normal-pylorus/78a69bb6-1145-47d6-a9d4-0a27360787c1.jpg',\n",
              " 'kvasir-dataset-v2/normal-pylorus/1c4f0cc4-1acd-4232-890a-82ca6744e7e8.jpg',\n",
              " 'kvasir-dataset-v2/normal-pylorus/625f06bd-5121-4639-a81f-300994ed4f8a.jpg',\n",
              " 'kvasir-dataset-v2/normal-pylorus/fa652daf-b8c0-4c06-9f1e-418a91cd18ce.jpg',\n",
              " 'kvasir-dataset-v2/normal-pylorus/8c32b2a5-a2ba-4dc3-be9b-421b085a6511.jpg',\n",
              " 'kvasir-dataset-v2/normal-pylorus/0b917df8-8d7a-4349-9c2e-eec9a20a8893.jpg',\n",
              " 'kvasir-dataset-v2/normal-pylorus/7e7abaec-4877-440f-8c37-771c98658140.jpg',\n",
              " 'kvasir-dataset-v2/normal-pylorus/1f020981-c403-4943-8e93-ef9ed118d32c.jpg',\n",
              " 'kvasir-dataset-v2/normal-pylorus/dd2357a6-25e2-4064-b308-b82ef7298be5.jpg']"
            ]
          },
          "metadata": {
            "tags": []
          },
          "execution_count": 3
        }
      ]
    },
    {
      "cell_type": "code",
      "metadata": {
        "id": "l_WcThr3wYG7"
      },
      "source": [
        "def image_to_feature_vector(image, size=(32, 32)):\n",
        "\t\"\"\"\n",
        "\t\tFeature extraction\n",
        "\t\tResize an image and flatten it into a list of raw pixels\n",
        "\t\"\"\"\n",
        "\treturn cv2.resize(image, size).flatten()\n",
        " \n",
        "def extract_color_histogram(image, bins=(8, 8, 8)):\n",
        "\t\"\"\"\n",
        "\t\tFeature extraction\n",
        "\t\tExtract a 3D color histogram in HSV color space\n",
        "\t\"\"\"\n",
        "\thsv = cv2.cvtColor(image, cv2.COLOR_BGR2HSV)\n",
        "\thist = cv2.calcHist([hsv], [0, 1, 2], None, bins,[0, 180, 0, 256, 0, 256])\n",
        "\n",
        "\t\n",
        "\tif imutils.is_cv2(): # special handling if OpenCV 2.4.X\n",
        "\t\thist = cv2.normalize(hist)\n",
        "\telse:\n",
        "\t\tcv2.normalize(hist, hist)\n",
        "\n",
        "\treturn hist.flatten()"
      ],
      "execution_count": 4,
      "outputs": []
    },
    {
      "cell_type": "code",
      "metadata": {
        "id": "1iTYSl3Q4RfO"
      },
      "source": [
        "# retrieve unique labels and their indices to use later\n",
        "unique_labels, unique_indices = np.unique(data_labels, return_index=True)"
      ],
      "execution_count": 7,
      "outputs": []
    },
    {
      "cell_type": "code",
      "metadata": {
        "id": "dkiNimoA6lAA"
      },
      "source": [
        "# show an example of each class with image + label\n",
        "for (i, index) in enumerate(unique_indices):\n",
        "    path = img_paths[index]\n",
        "    label = data_labels[index]\n",
        "\n",
        "    img = cv2.imread(path)\n",
        "    rgb_image = cv2.cvtColor(img, cv2.COLOR_BGR2RGB)\n",
        "\n",
        "    print(\"=============\")\n",
        "    print(label)\n",
        "    plt.imshow(rgb_image)\n",
        "    plt.show()\n",
        "    print(\"=============\")"
      ],
      "execution_count": null,
      "outputs": []
    },
    {
      "cell_type": "code",
      "metadata": {
        "id": "d_UJDtKEteBT"
      },
      "source": [
        "# Transform to numpy arrays\n",
        "data_raw_pixels = np.array(data_raw_pixels)\n",
        "data_color_histogram = np.array(data_color_histogram)\n",
        "data_labels = np.array(data_labels)"
      ],
      "execution_count": null,
      "outputs": []
    },
    {
      "cell_type": "code",
      "metadata": {
        "id": "ncfKtLWN4UlJ",
        "outputId": "e85065c3-c420-4c5c-a5ee-0585704c605b",
        "colab": {
          "base_uri": "https://localhost:8080/"
        }
      },
      "source": [
        "print(\"data_raw_pixels: {:.2f}MB\".format(data_raw_pixels.nbytes / (1024 * 1000.0)))\n",
        "print(\"data_color_histogram: {:.2f}MB\".format(data_color_histogram.nbytes / (1024 * 1000.0)))"
      ],
      "execution_count": null,
      "outputs": [
        {
          "output_type": "stream",
          "text": [
            "data_raw_pixels: 24.00MB\n",
            "data_color_histogram: 16.00MB\n"
          ],
          "name": "stdout"
        }
      ]
    },
    {
      "cell_type": "markdown",
      "metadata": {
        "id": "36yL7psbt5L2"
      },
      "source": [
        "### 2.2 Training\n",
        "\n",
        "We are making two models: one based on pixel intensities and one based on color histograms. The code below creates two train/test splits of our dataset with each of these features."
      ]
    },
    {
      "cell_type": "code",
      "metadata": {
        "id": "baqwEYzJthXh"
      },
      "source": [
        "# Train / Test splitting (100 => 75% train, 25% test)\n",
        "\n",
        "# pixel intensity features\n",
        "x_train_raw_pixels, x_test_raw_pixels, y_train_raw_pixels, y_test_raw_pixels = train_test_split(data_raw_pixels, data_labels, test_size=0.25, random_state=42)\n",
        "\n",
        "# color histogram features\n",
        "x_train_color_histogram, x_test_color_histogram, y_train_color_histogram, y_test_color_histogram = train_test_split(data_color_histogram, data_labels, test_size=0.25, random_state=42)"
      ],
      "execution_count": 11,
      "outputs": []
    },
    {
      "cell_type": "markdown",
      "metadata": {
        "id": "2Tsip0_qt3N5"
      },
      "source": [
        "#### Grid search\n",
        "Perform a grid search to find optimal parameters between the supplied options in the search grid"
      ]
    },
    {
      "cell_type": "code",
      "metadata": {
        "id": "jT5OhlM80QVV",
        "outputId": "3ea8e9ac-a6f5-4219-aac2-dd259c12305a",
        "colab": {
          "base_uri": "https://localhost:8080/"
        }
      },
      "source": [
        "from sklearn.model_selection import GridSearchCV\n",
        "\n",
        "# search for the best KNN model with these parameters\n",
        "grid_params = {\n",
        "    'n_neighbors': [3, 5, 11, 19],\n",
        "    'weights': ['uniform','distance'],\n",
        "    'metric': ['euclidean', 'manhattan']\n",
        "}\n",
        "\n",
        "# raw pixels\n",
        "print(\"Performing grid search on pixel intensity based features\")\n",
        "gs_rp = GridSearchCV(estimator=KNeighborsClassifier(), cv=3, param_grid=grid_params, verbose = 1, n_jobs = -1)\n",
        "gs_results_rp = gs_rp.fit(x_train_raw_pixels, y_train_raw_pixels)\n",
        "\n",
        "# color histogram\n",
        "print(\"Performing grid search on color histogram based features\")\n",
        "gs_ch = GridSearchCV(estimator=KNeighborsClassifier(), cv=3, param_grid=grid_params, verbose = 1, n_jobs = -1)\n",
        "gs_results_ch = gs_ch.fit(x_train_color_histogram, y_train_color_histogram)"
      ],
      "execution_count": null,
      "outputs": [
        {
          "output_type": "stream",
          "text": [
            "Performing grid search on pixel intensity based features\n",
            "Fitting 3 folds for each of 16 candidates, totalling 48 fits\n"
          ],
          "name": "stdout"
        },
        {
          "output_type": "stream",
          "text": [
            "[Parallel(n_jobs=-1)]: Using backend LokyBackend with 2 concurrent workers.\n",
            "[Parallel(n_jobs=-1)]: Done  48 out of  48 | elapsed: 28.2min finished\n"
          ],
          "name": "stderr"
        },
        {
          "output_type": "stream",
          "text": [
            "Performing grid search on color histogram based features\n",
            "Fitting 3 folds for each of 16 candidates, totalling 48 fits\n"
          ],
          "name": "stdout"
        },
        {
          "output_type": "stream",
          "text": [
            "[Parallel(n_jobs=-1)]: Using backend LokyBackend with 2 concurrent workers.\n",
            "[Parallel(n_jobs=-1)]: Done  48 out of  48 | elapsed:  3.0min finished\n"
          ],
          "name": "stderr"
        }
      ]
    },
    {
      "cell_type": "code",
      "metadata": {
        "id": "SXTsryLYYkI8"
      },
      "source": [
        "best_params_rp = gs_rp.best_params_ \n",
        "best_model_rp = gs_rp.best_estimator_\n",
        "best_score_rp = gs_rp.best_score_\n",
        "\n",
        "best_params_ch = gs_ch.best_params_ \n",
        "best_model_ch = gs_ch.best_estimator_\n",
        "best_score_ch = gs_ch.best_score_"
      ],
      "execution_count": null,
      "outputs": []
    },
    {
      "cell_type": "code",
      "metadata": {
        "id": "y_v6Vibc4g3o",
        "outputId": "334895ff-f4fc-41b0-a892-0c027a0f782c",
        "colab": {
          "base_uri": "https://localhost:8080/"
        }
      },
      "source": [
        "print(\"Training results\")\n",
        "print(f\"Best performing raw pixels model got {best_score_rp*100:.2f}% acc with params: {best_params_rp}\")\n",
        "print(f\"Best performing color histogram model got {best_score_ch*100:.2f}% acc with params: {best_params_ch}\")"
      ],
      "execution_count": null,
      "outputs": [
        {
          "output_type": "stream",
          "text": [
            "Training results\n",
            "Best performing raw pixels model got 64.02% acc with params: {'metric': 'manhattan', 'n_neighbors': 11, 'weights': 'distance'}\n",
            "Best performing color histogram model got 67.02% acc with params: {'metric': 'manhattan', 'n_neighbors': 11, 'weights': 'distance'}\n"
          ],
          "name": "stdout"
        }
      ]
    },
    {
      "cell_type": "code",
      "metadata": {
        "id": "3pxpOYl161HX",
        "outputId": "b7642b15-cc5f-4bde-e904-ef1b42b80691",
        "colab": {
          "base_uri": "https://localhost:8080/",
          "height": 527
        }
      },
      "source": [
        "# Grid Search results for Raw Pixel feature model:\n",
        "pd.DataFrame(gs_rp.cv_results_).sort_values('rank_test_score')"
      ],
      "execution_count": null,
      "outputs": [
        {
          "output_type": "execute_result",
          "data": {
            "text/html": [
              "<div>\n",
              "<style scoped>\n",
              "    .dataframe tbody tr th:only-of-type {\n",
              "        vertical-align: middle;\n",
              "    }\n",
              "\n",
              "    .dataframe tbody tr th {\n",
              "        vertical-align: top;\n",
              "    }\n",
              "\n",
              "    .dataframe thead th {\n",
              "        text-align: right;\n",
              "    }\n",
              "</style>\n",
              "<table border=\"1\" class=\"dataframe\">\n",
              "  <thead>\n",
              "    <tr style=\"text-align: right;\">\n",
              "      <th></th>\n",
              "      <th>mean_fit_time</th>\n",
              "      <th>std_fit_time</th>\n",
              "      <th>mean_score_time</th>\n",
              "      <th>std_score_time</th>\n",
              "      <th>param_metric</th>\n",
              "      <th>param_n_neighbors</th>\n",
              "      <th>param_weights</th>\n",
              "      <th>params</th>\n",
              "      <th>split0_test_score</th>\n",
              "      <th>split1_test_score</th>\n",
              "      <th>split2_test_score</th>\n",
              "      <th>mean_test_score</th>\n",
              "      <th>std_test_score</th>\n",
              "      <th>rank_test_score</th>\n",
              "    </tr>\n",
              "  </thead>\n",
              "  <tbody>\n",
              "    <tr>\n",
              "      <th>13</th>\n",
              "      <td>2.544077</td>\n",
              "      <td>0.032554</td>\n",
              "      <td>74.200160</td>\n",
              "      <td>0.260340</td>\n",
              "      <td>manhattan</td>\n",
              "      <td>11</td>\n",
              "      <td>distance</td>\n",
              "      <td>{'metric': 'manhattan', 'n_neighbors': 11, 'we...</td>\n",
              "      <td>0.6420</td>\n",
              "      <td>0.6395</td>\n",
              "      <td>0.6390</td>\n",
              "      <td>0.640167</td>\n",
              "      <td>0.001312</td>\n",
              "      <td>1</td>\n",
              "    </tr>\n",
              "    <tr>\n",
              "      <th>7</th>\n",
              "      <td>2.594589</td>\n",
              "      <td>0.015621</td>\n",
              "      <td>63.240058</td>\n",
              "      <td>1.541044</td>\n",
              "      <td>euclidean</td>\n",
              "      <td>19</td>\n",
              "      <td>distance</td>\n",
              "      <td>{'metric': 'euclidean', 'n_neighbors': 19, 'we...</td>\n",
              "      <td>0.6365</td>\n",
              "      <td>0.6435</td>\n",
              "      <td>0.6390</td>\n",
              "      <td>0.639667</td>\n",
              "      <td>0.002896</td>\n",
              "      <td>2</td>\n",
              "    </tr>\n",
              "    <tr>\n",
              "      <th>15</th>\n",
              "      <td>2.551551</td>\n",
              "      <td>0.022670</td>\n",
              "      <td>74.742094</td>\n",
              "      <td>1.039645</td>\n",
              "      <td>manhattan</td>\n",
              "      <td>19</td>\n",
              "      <td>distance</td>\n",
              "      <td>{'metric': 'manhattan', 'n_neighbors': 19, 'we...</td>\n",
              "      <td>0.6390</td>\n",
              "      <td>0.6380</td>\n",
              "      <td>0.6335</td>\n",
              "      <td>0.636833</td>\n",
              "      <td>0.002392</td>\n",
              "      <td>3</td>\n",
              "    </tr>\n",
              "    <tr>\n",
              "      <th>5</th>\n",
              "      <td>2.597260</td>\n",
              "      <td>0.002344</td>\n",
              "      <td>62.312092</td>\n",
              "      <td>1.534487</td>\n",
              "      <td>euclidean</td>\n",
              "      <td>11</td>\n",
              "      <td>distance</td>\n",
              "      <td>{'metric': 'euclidean', 'n_neighbors': 11, 'we...</td>\n",
              "      <td>0.6300</td>\n",
              "      <td>0.6345</td>\n",
              "      <td>0.6460</td>\n",
              "      <td>0.636833</td>\n",
              "      <td>0.006737</td>\n",
              "      <td>4</td>\n",
              "    </tr>\n",
              "    <tr>\n",
              "      <th>4</th>\n",
              "      <td>2.596529</td>\n",
              "      <td>0.047375</td>\n",
              "      <td>62.321743</td>\n",
              "      <td>1.653916</td>\n",
              "      <td>euclidean</td>\n",
              "      <td>11</td>\n",
              "      <td>uniform</td>\n",
              "      <td>{'metric': 'euclidean', 'n_neighbors': 11, 'we...</td>\n",
              "      <td>0.6270</td>\n",
              "      <td>0.6365</td>\n",
              "      <td>0.6455</td>\n",
              "      <td>0.636333</td>\n",
              "      <td>0.007554</td>\n",
              "      <td>5</td>\n",
              "    </tr>\n",
              "    <tr>\n",
              "      <th>12</th>\n",
              "      <td>2.526253</td>\n",
              "      <td>0.015754</td>\n",
              "      <td>74.351858</td>\n",
              "      <td>0.331818</td>\n",
              "      <td>manhattan</td>\n",
              "      <td>11</td>\n",
              "      <td>uniform</td>\n",
              "      <td>{'metric': 'manhattan', 'n_neighbors': 11, 'we...</td>\n",
              "      <td>0.6375</td>\n",
              "      <td>0.6340</td>\n",
              "      <td>0.6360</td>\n",
              "      <td>0.635833</td>\n",
              "      <td>0.001434</td>\n",
              "      <td>6</td>\n",
              "    </tr>\n",
              "    <tr>\n",
              "      <th>6</th>\n",
              "      <td>2.589758</td>\n",
              "      <td>0.029389</td>\n",
              "      <td>63.381824</td>\n",
              "      <td>1.577557</td>\n",
              "      <td>euclidean</td>\n",
              "      <td>19</td>\n",
              "      <td>uniform</td>\n",
              "      <td>{'metric': 'euclidean', 'n_neighbors': 19, 'we...</td>\n",
              "      <td>0.6360</td>\n",
              "      <td>0.6375</td>\n",
              "      <td>0.6340</td>\n",
              "      <td>0.635833</td>\n",
              "      <td>0.001434</td>\n",
              "      <td>7</td>\n",
              "    </tr>\n",
              "    <tr>\n",
              "      <th>11</th>\n",
              "      <td>2.569968</td>\n",
              "      <td>0.053459</td>\n",
              "      <td>72.612305</td>\n",
              "      <td>0.329436</td>\n",
              "      <td>manhattan</td>\n",
              "      <td>5</td>\n",
              "      <td>distance</td>\n",
              "      <td>{'metric': 'manhattan', 'n_neighbors': 5, 'wei...</td>\n",
              "      <td>0.6380</td>\n",
              "      <td>0.6310</td>\n",
              "      <td>0.6340</td>\n",
              "      <td>0.634333</td>\n",
              "      <td>0.002867</td>\n",
              "      <td>8</td>\n",
              "    </tr>\n",
              "    <tr>\n",
              "      <th>14</th>\n",
              "      <td>2.554544</td>\n",
              "      <td>0.008219</td>\n",
              "      <td>75.626287</td>\n",
              "      <td>0.365751</td>\n",
              "      <td>manhattan</td>\n",
              "      <td>19</td>\n",
              "      <td>uniform</td>\n",
              "      <td>{'metric': 'manhattan', 'n_neighbors': 19, 'we...</td>\n",
              "      <td>0.6405</td>\n",
              "      <td>0.6340</td>\n",
              "      <td>0.6275</td>\n",
              "      <td>0.634000</td>\n",
              "      <td>0.005307</td>\n",
              "      <td>9</td>\n",
              "    </tr>\n",
              "    <tr>\n",
              "      <th>3</th>\n",
              "      <td>2.599715</td>\n",
              "      <td>0.013633</td>\n",
              "      <td>61.453233</td>\n",
              "      <td>1.607778</td>\n",
              "      <td>euclidean</td>\n",
              "      <td>5</td>\n",
              "      <td>distance</td>\n",
              "      <td>{'metric': 'euclidean', 'n_neighbors': 5, 'wei...</td>\n",
              "      <td>0.6295</td>\n",
              "      <td>0.6350</td>\n",
              "      <td>0.6335</td>\n",
              "      <td>0.632667</td>\n",
              "      <td>0.002321</td>\n",
              "      <td>10</td>\n",
              "    </tr>\n",
              "    <tr>\n",
              "      <th>10</th>\n",
              "      <td>2.543256</td>\n",
              "      <td>0.033712</td>\n",
              "      <td>72.667390</td>\n",
              "      <td>0.324182</td>\n",
              "      <td>manhattan</td>\n",
              "      <td>5</td>\n",
              "      <td>uniform</td>\n",
              "      <td>{'metric': 'manhattan', 'n_neighbors': 5, 'wei...</td>\n",
              "      <td>0.6370</td>\n",
              "      <td>0.6325</td>\n",
              "      <td>0.6235</td>\n",
              "      <td>0.631000</td>\n",
              "      <td>0.005612</td>\n",
              "      <td>11</td>\n",
              "    </tr>\n",
              "    <tr>\n",
              "      <th>9</th>\n",
              "      <td>2.540834</td>\n",
              "      <td>0.006112</td>\n",
              "      <td>71.826838</td>\n",
              "      <td>0.503570</td>\n",
              "      <td>manhattan</td>\n",
              "      <td>3</td>\n",
              "      <td>distance</td>\n",
              "      <td>{'metric': 'manhattan', 'n_neighbors': 3, 'wei...</td>\n",
              "      <td>0.6370</td>\n",
              "      <td>0.6270</td>\n",
              "      <td>0.6265</td>\n",
              "      <td>0.630167</td>\n",
              "      <td>0.004836</td>\n",
              "      <td>12</td>\n",
              "    </tr>\n",
              "    <tr>\n",
              "      <th>2</th>\n",
              "      <td>2.605429</td>\n",
              "      <td>0.004046</td>\n",
              "      <td>61.199905</td>\n",
              "      <td>1.695175</td>\n",
              "      <td>euclidean</td>\n",
              "      <td>5</td>\n",
              "      <td>uniform</td>\n",
              "      <td>{'metric': 'euclidean', 'n_neighbors': 5, 'wei...</td>\n",
              "      <td>0.6230</td>\n",
              "      <td>0.6350</td>\n",
              "      <td>0.6275</td>\n",
              "      <td>0.628500</td>\n",
              "      <td>0.004950</td>\n",
              "      <td>13</td>\n",
              "    </tr>\n",
              "    <tr>\n",
              "      <th>8</th>\n",
              "      <td>2.563862</td>\n",
              "      <td>0.042628</td>\n",
              "      <td>71.668095</td>\n",
              "      <td>0.478230</td>\n",
              "      <td>manhattan</td>\n",
              "      <td>3</td>\n",
              "      <td>uniform</td>\n",
              "      <td>{'metric': 'manhattan', 'n_neighbors': 3, 'wei...</td>\n",
              "      <td>0.6355</td>\n",
              "      <td>0.6255</td>\n",
              "      <td>0.6195</td>\n",
              "      <td>0.626833</td>\n",
              "      <td>0.006600</td>\n",
              "      <td>14</td>\n",
              "    </tr>\n",
              "    <tr>\n",
              "      <th>1</th>\n",
              "      <td>2.608969</td>\n",
              "      <td>0.027685</td>\n",
              "      <td>60.474575</td>\n",
              "      <td>1.979111</td>\n",
              "      <td>euclidean</td>\n",
              "      <td>3</td>\n",
              "      <td>distance</td>\n",
              "      <td>{'metric': 'euclidean', 'n_neighbors': 3, 'wei...</td>\n",
              "      <td>0.6190</td>\n",
              "      <td>0.6215</td>\n",
              "      <td>0.6230</td>\n",
              "      <td>0.621167</td>\n",
              "      <td>0.001650</td>\n",
              "      <td>15</td>\n",
              "    </tr>\n",
              "    <tr>\n",
              "      <th>0</th>\n",
              "      <td>2.901104</td>\n",
              "      <td>0.234043</td>\n",
              "      <td>60.561071</td>\n",
              "      <td>1.979720</td>\n",
              "      <td>euclidean</td>\n",
              "      <td>3</td>\n",
              "      <td>uniform</td>\n",
              "      <td>{'metric': 'euclidean', 'n_neighbors': 3, 'wei...</td>\n",
              "      <td>0.6185</td>\n",
              "      <td>0.6180</td>\n",
              "      <td>0.6175</td>\n",
              "      <td>0.618000</td>\n",
              "      <td>0.000408</td>\n",
              "      <td>16</td>\n",
              "    </tr>\n",
              "  </tbody>\n",
              "</table>\n",
              "</div>"
            ],
            "text/plain": [
              "    mean_fit_time  std_fit_time  ...  std_test_score  rank_test_score\n",
              "13       2.544077      0.032554  ...        0.001312                1\n",
              "7        2.594589      0.015621  ...        0.002896                2\n",
              "15       2.551551      0.022670  ...        0.002392                3\n",
              "5        2.597260      0.002344  ...        0.006737                4\n",
              "4        2.596529      0.047375  ...        0.007554                5\n",
              "12       2.526253      0.015754  ...        0.001434                6\n",
              "6        2.589758      0.029389  ...        0.001434                7\n",
              "11       2.569968      0.053459  ...        0.002867                8\n",
              "14       2.554544      0.008219  ...        0.005307                9\n",
              "3        2.599715      0.013633  ...        0.002321               10\n",
              "10       2.543256      0.033712  ...        0.005612               11\n",
              "9        2.540834      0.006112  ...        0.004836               12\n",
              "2        2.605429      0.004046  ...        0.004950               13\n",
              "8        2.563862      0.042628  ...        0.006600               14\n",
              "1        2.608969      0.027685  ...        0.001650               15\n",
              "0        2.901104      0.234043  ...        0.000408               16\n",
              "\n",
              "[16 rows x 14 columns]"
            ]
          },
          "metadata": {
            "tags": []
          },
          "execution_count": 135
        }
      ]
    },
    {
      "cell_type": "code",
      "metadata": {
        "id": "vscIAbsI8Mx-",
        "outputId": "d972fd72-6acc-49dd-abec-5d403f80482f",
        "colab": {
          "base_uri": "https://localhost:8080/",
          "height": 527
        }
      },
      "source": [
        "# Grid Search results for Color Histogram feature model:\n",
        "pd.DataFrame(gs_ch.cv_results_).sort_values('rank_test_score')"
      ],
      "execution_count": null,
      "outputs": [
        {
          "output_type": "execute_result",
          "data": {
            "text/html": [
              "<div>\n",
              "<style scoped>\n",
              "    .dataframe tbody tr th:only-of-type {\n",
              "        vertical-align: middle;\n",
              "    }\n",
              "\n",
              "    .dataframe tbody tr th {\n",
              "        vertical-align: top;\n",
              "    }\n",
              "\n",
              "    .dataframe thead th {\n",
              "        text-align: right;\n",
              "    }\n",
              "</style>\n",
              "<table border=\"1\" class=\"dataframe\">\n",
              "  <thead>\n",
              "    <tr style=\"text-align: right;\">\n",
              "      <th></th>\n",
              "      <th>mean_fit_time</th>\n",
              "      <th>std_fit_time</th>\n",
              "      <th>mean_score_time</th>\n",
              "      <th>std_score_time</th>\n",
              "      <th>param_metric</th>\n",
              "      <th>param_n_neighbors</th>\n",
              "      <th>param_weights</th>\n",
              "      <th>params</th>\n",
              "      <th>split0_test_score</th>\n",
              "      <th>split1_test_score</th>\n",
              "      <th>split2_test_score</th>\n",
              "      <th>mean_test_score</th>\n",
              "      <th>std_test_score</th>\n",
              "      <th>rank_test_score</th>\n",
              "    </tr>\n",
              "  </thead>\n",
              "  <tbody>\n",
              "    <tr>\n",
              "      <th>13</th>\n",
              "      <td>0.379775</td>\n",
              "      <td>0.010058</td>\n",
              "      <td>8.568651</td>\n",
              "      <td>0.153316</td>\n",
              "      <td>manhattan</td>\n",
              "      <td>11</td>\n",
              "      <td>distance</td>\n",
              "      <td>{'metric': 'manhattan', 'n_neighbors': 11, 'we...</td>\n",
              "      <td>0.6660</td>\n",
              "      <td>0.6670</td>\n",
              "      <td>0.6775</td>\n",
              "      <td>0.670167</td>\n",
              "      <td>0.005201</td>\n",
              "      <td>1</td>\n",
              "    </tr>\n",
              "    <tr>\n",
              "      <th>15</th>\n",
              "      <td>0.378010</td>\n",
              "      <td>0.006615</td>\n",
              "      <td>9.039115</td>\n",
              "      <td>0.165881</td>\n",
              "      <td>manhattan</td>\n",
              "      <td>19</td>\n",
              "      <td>distance</td>\n",
              "      <td>{'metric': 'manhattan', 'n_neighbors': 19, 'we...</td>\n",
              "      <td>0.6685</td>\n",
              "      <td>0.6600</td>\n",
              "      <td>0.6765</td>\n",
              "      <td>0.668333</td>\n",
              "      <td>0.006737</td>\n",
              "      <td>2</td>\n",
              "    </tr>\n",
              "    <tr>\n",
              "      <th>12</th>\n",
              "      <td>0.379588</td>\n",
              "      <td>0.011406</td>\n",
              "      <td>8.656617</td>\n",
              "      <td>0.112531</td>\n",
              "      <td>manhattan</td>\n",
              "      <td>11</td>\n",
              "      <td>uniform</td>\n",
              "      <td>{'metric': 'manhattan', 'n_neighbors': 11, 'we...</td>\n",
              "      <td>0.6610</td>\n",
              "      <td>0.6640</td>\n",
              "      <td>0.6730</td>\n",
              "      <td>0.666000</td>\n",
              "      <td>0.005099</td>\n",
              "      <td>3</td>\n",
              "    </tr>\n",
              "    <tr>\n",
              "      <th>14</th>\n",
              "      <td>0.391945</td>\n",
              "      <td>0.006139</td>\n",
              "      <td>9.120114</td>\n",
              "      <td>0.152800</td>\n",
              "      <td>manhattan</td>\n",
              "      <td>19</td>\n",
              "      <td>uniform</td>\n",
              "      <td>{'metric': 'manhattan', 'n_neighbors': 19, 'we...</td>\n",
              "      <td>0.6625</td>\n",
              "      <td>0.6545</td>\n",
              "      <td>0.6750</td>\n",
              "      <td>0.664000</td>\n",
              "      <td>0.008436</td>\n",
              "      <td>4</td>\n",
              "    </tr>\n",
              "    <tr>\n",
              "      <th>11</th>\n",
              "      <td>0.386826</td>\n",
              "      <td>0.016497</td>\n",
              "      <td>7.971267</td>\n",
              "      <td>0.111561</td>\n",
              "      <td>manhattan</td>\n",
              "      <td>5</td>\n",
              "      <td>distance</td>\n",
              "      <td>{'metric': 'manhattan', 'n_neighbors': 5, 'wei...</td>\n",
              "      <td>0.6575</td>\n",
              "      <td>0.6520</td>\n",
              "      <td>0.6805</td>\n",
              "      <td>0.663333</td>\n",
              "      <td>0.012345</td>\n",
              "      <td>5</td>\n",
              "    </tr>\n",
              "    <tr>\n",
              "      <th>10</th>\n",
              "      <td>0.372455</td>\n",
              "      <td>0.009597</td>\n",
              "      <td>8.041387</td>\n",
              "      <td>0.116553</td>\n",
              "      <td>manhattan</td>\n",
              "      <td>5</td>\n",
              "      <td>uniform</td>\n",
              "      <td>{'metric': 'manhattan', 'n_neighbors': 5, 'wei...</td>\n",
              "      <td>0.6600</td>\n",
              "      <td>0.6515</td>\n",
              "      <td>0.6710</td>\n",
              "      <td>0.660833</td>\n",
              "      <td>0.007983</td>\n",
              "      <td>6</td>\n",
              "    </tr>\n",
              "    <tr>\n",
              "      <th>9</th>\n",
              "      <td>0.369118</td>\n",
              "      <td>0.002204</td>\n",
              "      <td>7.715083</td>\n",
              "      <td>0.123599</td>\n",
              "      <td>manhattan</td>\n",
              "      <td>3</td>\n",
              "      <td>distance</td>\n",
              "      <td>{'metric': 'manhattan', 'n_neighbors': 3, 'wei...</td>\n",
              "      <td>0.6475</td>\n",
              "      <td>0.6510</td>\n",
              "      <td>0.6690</td>\n",
              "      <td>0.655833</td>\n",
              "      <td>0.009419</td>\n",
              "      <td>7</td>\n",
              "    </tr>\n",
              "    <tr>\n",
              "      <th>8</th>\n",
              "      <td>0.380231</td>\n",
              "      <td>0.004060</td>\n",
              "      <td>7.726374</td>\n",
              "      <td>0.129553</td>\n",
              "      <td>manhattan</td>\n",
              "      <td>3</td>\n",
              "      <td>uniform</td>\n",
              "      <td>{'metric': 'manhattan', 'n_neighbors': 3, 'wei...</td>\n",
              "      <td>0.6510</td>\n",
              "      <td>0.6495</td>\n",
              "      <td>0.6650</td>\n",
              "      <td>0.655167</td>\n",
              "      <td>0.006980</td>\n",
              "      <td>8</td>\n",
              "    </tr>\n",
              "    <tr>\n",
              "      <th>5</th>\n",
              "      <td>0.380559</td>\n",
              "      <td>0.008382</td>\n",
              "      <td>5.914199</td>\n",
              "      <td>0.069052</td>\n",
              "      <td>euclidean</td>\n",
              "      <td>11</td>\n",
              "      <td>distance</td>\n",
              "      <td>{'metric': 'euclidean', 'n_neighbors': 11, 'we...</td>\n",
              "      <td>0.6450</td>\n",
              "      <td>0.6505</td>\n",
              "      <td>0.6580</td>\n",
              "      <td>0.651167</td>\n",
              "      <td>0.005328</td>\n",
              "      <td>9</td>\n",
              "    </tr>\n",
              "    <tr>\n",
              "      <th>7</th>\n",
              "      <td>0.378289</td>\n",
              "      <td>0.004878</td>\n",
              "      <td>6.346813</td>\n",
              "      <td>0.046606</td>\n",
              "      <td>euclidean</td>\n",
              "      <td>19</td>\n",
              "      <td>distance</td>\n",
              "      <td>{'metric': 'euclidean', 'n_neighbors': 19, 'we...</td>\n",
              "      <td>0.6540</td>\n",
              "      <td>0.6385</td>\n",
              "      <td>0.6600</td>\n",
              "      <td>0.650833</td>\n",
              "      <td>0.009058</td>\n",
              "      <td>10</td>\n",
              "    </tr>\n",
              "    <tr>\n",
              "      <th>4</th>\n",
              "      <td>0.377453</td>\n",
              "      <td>0.000698</td>\n",
              "      <td>5.952754</td>\n",
              "      <td>0.036319</td>\n",
              "      <td>euclidean</td>\n",
              "      <td>11</td>\n",
              "      <td>uniform</td>\n",
              "      <td>{'metric': 'euclidean', 'n_neighbors': 11, 'we...</td>\n",
              "      <td>0.6455</td>\n",
              "      <td>0.6475</td>\n",
              "      <td>0.6555</td>\n",
              "      <td>0.649500</td>\n",
              "      <td>0.004320</td>\n",
              "      <td>11</td>\n",
              "    </tr>\n",
              "    <tr>\n",
              "      <th>6</th>\n",
              "      <td>0.387697</td>\n",
              "      <td>0.013376</td>\n",
              "      <td>6.459523</td>\n",
              "      <td>0.071530</td>\n",
              "      <td>euclidean</td>\n",
              "      <td>19</td>\n",
              "      <td>uniform</td>\n",
              "      <td>{'metric': 'euclidean', 'n_neighbors': 19, 'we...</td>\n",
              "      <td>0.6495</td>\n",
              "      <td>0.6335</td>\n",
              "      <td>0.6535</td>\n",
              "      <td>0.645500</td>\n",
              "      <td>0.008641</td>\n",
              "      <td>12</td>\n",
              "    </tr>\n",
              "    <tr>\n",
              "      <th>3</th>\n",
              "      <td>0.371379</td>\n",
              "      <td>0.005360</td>\n",
              "      <td>5.307112</td>\n",
              "      <td>0.029148</td>\n",
              "      <td>euclidean</td>\n",
              "      <td>5</td>\n",
              "      <td>distance</td>\n",
              "      <td>{'metric': 'euclidean', 'n_neighbors': 5, 'wei...</td>\n",
              "      <td>0.6375</td>\n",
              "      <td>0.6390</td>\n",
              "      <td>0.6570</td>\n",
              "      <td>0.644500</td>\n",
              "      <td>0.008860</td>\n",
              "      <td>13</td>\n",
              "    </tr>\n",
              "    <tr>\n",
              "      <th>2</th>\n",
              "      <td>0.385264</td>\n",
              "      <td>0.005142</td>\n",
              "      <td>5.400403</td>\n",
              "      <td>0.037027</td>\n",
              "      <td>euclidean</td>\n",
              "      <td>5</td>\n",
              "      <td>uniform</td>\n",
              "      <td>{'metric': 'euclidean', 'n_neighbors': 5, 'wei...</td>\n",
              "      <td>0.6390</td>\n",
              "      <td>0.6380</td>\n",
              "      <td>0.6510</td>\n",
              "      <td>0.642667</td>\n",
              "      <td>0.005907</td>\n",
              "      <td>14</td>\n",
              "    </tr>\n",
              "    <tr>\n",
              "      <th>1</th>\n",
              "      <td>0.376463</td>\n",
              "      <td>0.004283</td>\n",
              "      <td>4.981756</td>\n",
              "      <td>0.026674</td>\n",
              "      <td>euclidean</td>\n",
              "      <td>3</td>\n",
              "      <td>distance</td>\n",
              "      <td>{'metric': 'euclidean', 'n_neighbors': 3, 'wei...</td>\n",
              "      <td>0.6250</td>\n",
              "      <td>0.6345</td>\n",
              "      <td>0.6310</td>\n",
              "      <td>0.630167</td>\n",
              "      <td>0.003923</td>\n",
              "      <td>15</td>\n",
              "    </tr>\n",
              "    <tr>\n",
              "      <th>0</th>\n",
              "      <td>0.380331</td>\n",
              "      <td>0.015876</td>\n",
              "      <td>5.081349</td>\n",
              "      <td>0.031634</td>\n",
              "      <td>euclidean</td>\n",
              "      <td>3</td>\n",
              "      <td>uniform</td>\n",
              "      <td>{'metric': 'euclidean', 'n_neighbors': 3, 'wei...</td>\n",
              "      <td>0.6210</td>\n",
              "      <td>0.6325</td>\n",
              "      <td>0.6265</td>\n",
              "      <td>0.626667</td>\n",
              "      <td>0.004696</td>\n",
              "      <td>16</td>\n",
              "    </tr>\n",
              "  </tbody>\n",
              "</table>\n",
              "</div>"
            ],
            "text/plain": [
              "    mean_fit_time  std_fit_time  ...  std_test_score  rank_test_score\n",
              "13       0.379775      0.010058  ...        0.005201                1\n",
              "15       0.378010      0.006615  ...        0.006737                2\n",
              "12       0.379588      0.011406  ...        0.005099                3\n",
              "14       0.391945      0.006139  ...        0.008436                4\n",
              "11       0.386826      0.016497  ...        0.012345                5\n",
              "10       0.372455      0.009597  ...        0.007983                6\n",
              "9        0.369118      0.002204  ...        0.009419                7\n",
              "8        0.380231      0.004060  ...        0.006980                8\n",
              "5        0.380559      0.008382  ...        0.005328                9\n",
              "7        0.378289      0.004878  ...        0.009058               10\n",
              "4        0.377453      0.000698  ...        0.004320               11\n",
              "6        0.387697      0.013376  ...        0.008641               12\n",
              "3        0.371379      0.005360  ...        0.008860               13\n",
              "2        0.385264      0.005142  ...        0.005907               14\n",
              "1        0.376463      0.004283  ...        0.003923               15\n",
              "0        0.380331      0.015876  ...        0.004696               16\n",
              "\n",
              "[16 rows x 14 columns]"
            ]
          },
          "metadata": {
            "tags": []
          },
          "execution_count": 136
        }
      ]
    },
    {
      "cell_type": "markdown",
      "metadata": {
        "id": "53M0v_o45YCv"
      },
      "source": [
        "### 2.3 Testing and evaluation\n",
        "\n",
        "In this section we evaluate the model against unseen instances of our dataset (our remaining 25%)\n",
        "\n"
      ]
    },
    {
      "cell_type": "code",
      "metadata": {
        "id": "sHSwNkXWaMI0"
      },
      "source": [
        "# Make predictions on test data\n",
        "predictions_rp = best_model_rp.predict(x_test_raw_pixels)\n",
        "predictions_ch = best_model_ch.predict(x_test_color_histogram)"
      ],
      "execution_count": null,
      "outputs": []
    },
    {
      "cell_type": "markdown",
      "metadata": {
        "id": "a5MMPrzs5r_h"
      },
      "source": [
        "#### 2.3.1 Evaluate raw pixel model"
      ]
    },
    {
      "cell_type": "code",
      "metadata": {
        "id": "HiPFaDeYbpBX",
        "outputId": "223d2ba3-d4ed-4634-94ca-b62edd2b0e44",
        "colab": {
          "base_uri": "https://localhost:8080/",
          "height": 875
        }
      },
      "source": [
        "rp_cm = confusion_matrix(y_test_raw_pixels, predictions_rp)\n",
        "rp_cr = classification_report(y_test_raw_pixels, predictions_rp, target_names=unique_labels)\n",
        "print(rp_cr)\n",
        "print(rp_cm)\n",
        "plot_confusion_matrix(rp_cm, unique_labels, normalize=False)"
      ],
      "execution_count": null,
      "outputs": [
        {
          "output_type": "stream",
          "text": [
            "                        precision    recall  f1-score   support\n",
            "\n",
            "    dyed-lifted-polyps       0.56      0.23      0.33       260\n",
            "dyed-resection-margins       0.59      0.59      0.59       246\n",
            "           esophagitis       0.81      0.56      0.67       254\n",
            "          normal-cecum       0.57      0.96      0.71       250\n",
            "        normal-pylorus       0.84      0.88      0.86       245\n",
            "         normal-z-line       0.58      0.79      0.67       225\n",
            "                polyps       0.49      0.35      0.41       278\n",
            "    ulcerative-colitis       0.61      0.71      0.65       242\n",
            "\n",
            "              accuracy                           0.63      2000\n",
            "             macro avg       0.63      0.64      0.61      2000\n",
            "          weighted avg       0.63      0.63      0.61      2000\n",
            "\n",
            "[[ 61 101   0  37   0   0  48  13]\n",
            " [ 47 146   1  24   0   0  18  10]\n",
            " [  0   0 143   0   8 103   0   0]\n",
            " [  0   0   0 241   0   0   1   8]\n",
            " [  0   0   9   0 216  20   0   0]\n",
            " [  0   0  22   0  25 178   0   0]\n",
            " [  0   0   1  92   2   5  97  81]\n",
            " [  0   0   0  31   6   0  33 172]]\n"
          ],
          "name": "stdout"
        },
        {
          "output_type": "display_data",
          "data": {
            "image/png": "[encoded data removed]",
            "text/plain": [
              "<Figure size 576x432 with 2 Axes>"
            ]
          },
          "metadata": {
            "tags": [],
            "needs_background": "light"
          }
        }
      ]
    },
    {
      "cell_type": "markdown",
      "metadata": {
        "id": "Ail5PT9I6T6O"
      },
      "source": [
        "#### 2.3.2 Evaluate color histogram model"
      ]
    },
    {
      "cell_type": "code",
      "metadata": {
        "id": "0AxEYAzJ6WN5",
        "outputId": "d9831cdc-edae-41b2-9fa4-ada1df186b9b",
        "colab": {
          "base_uri": "https://localhost:8080/",
          "height": 875
        }
      },
      "source": [
        "ch_cm = confusion_matrix(y_test_color_histogram, predictions_ch)\n",
        "ch_cr = classification_report(y_test_color_histogram, predictions_ch, target_names=unique_labels)\n",
        "print(ch_cr)\n",
        "print(ch_cm)\n",
        "plot_confusion_matrix(ch_cm, unique_labels, normalize=False)"
      ],
      "execution_count": null,
      "outputs": [
        {
          "output_type": "stream",
          "text": [
            "                        precision    recall  f1-score   support\n",
            "\n",
            "    dyed-lifted-polyps       0.69      0.55      0.61       260\n",
            "dyed-resection-margins       0.68      0.66      0.67       246\n",
            "           esophagitis       0.76      0.57      0.65       254\n",
            "          normal-cecum       0.62      0.86      0.72       250\n",
            "        normal-pylorus       0.88      0.96      0.92       245\n",
            "         normal-z-line       0.60      0.76      0.67       225\n",
            "                polyps       0.65      0.51      0.57       278\n",
            "    ulcerative-colitis       0.61      0.62      0.61       242\n",
            "\n",
            "              accuracy                           0.68      2000\n",
            "             macro avg       0.69      0.69      0.68      2000\n",
            "          weighted avg       0.69      0.68      0.68      2000\n",
            "\n",
            "[[142  77   2  16   0   2  12   9]\n",
            " [ 61 163   0  11   0   0   5   6]\n",
            " [  0   0 144   0   5 105   0   0]\n",
            " [  0   0   0 216   0   0  15  19]\n",
            " [  0   0   1   0 234   8   0   2]\n",
            " [  0   0  43   0  11 171   0   0]\n",
            " [  1   0   0  64   9   1 142  61]\n",
            " [  1   0   0  43   6   0  43 149]]\n"
          ],
          "name": "stdout"
        },
        {
          "output_type": "display_data",
          "data": {
            "image/png": "[encoded data removed]",
            "text/plain": [
              "<Figure size 576x432 with 2 Axes>"
            ]
          },
          "metadata": {
            "tags": [],
            "needs_background": "light"
          }
        }
      ]
    },
    {
      "cell_type": "markdown",
      "metadata": {
        "id": "-PhNz-VZvMvQ"
      },
      "source": [
        "## 3 Convolutional Neural Networks (CNN)"
      ]
    },
    {
      "cell_type": "markdown",
      "metadata": {
        "id": "GHTyKf6tKdYr"
      },
      "source": [
        "### 3.1 Enable GPU\n",
        "\n",
        "This part should use GPU for processing. \n",
        "\n",
        "The following blocks verify that we are indeed using a GPU / that a GPU has been found by Tensorflow."
      ]
    },
    {
      "cell_type": "code",
      "metadata": {
        "id": "EeEEA_YxvP3m"
      },
      "source": [
        "try:\n",
        "  # %tensorflow_version only exists in Colab.\n",
        "  %tensorflow_version 2.x\n",
        "except Exception:\n",
        "  pass\n",
        "\n",
        "# Load the TensorBoard notebook extension\n",
        "%load_ext tensorboard"
      ],
      "execution_count": 17,
      "outputs": []
    },
    {
      "cell_type": "code",
      "metadata": {
        "id": "e4SgSfFivZg5",
        "outputId": "0419ef86-df19-4dc0-f0c1-b98cfcf1993a",
        "colab": {
          "base_uri": "https://localhost:8080/"
        }
      },
      "source": [
        "# Verify we are using GPU\n",
        "device_name = tf.test.gpu_device_name()\n",
        "if device_name != '/device:GPU:0':\n",
        "  raise SystemError('GPU device not found')\n",
        "print('Found GPU at: {}'.format(device_name))"
      ],
      "execution_count": 18,
      "outputs": [
        {
          "output_type": "stream",
          "text": [
            "Found GPU at: /device:GPU:0\n"
          ],
          "name": "stdout"
        }
      ]
    },
    {
      "cell_type": "markdown",
      "metadata": {
        "id": "JvAtYWk-KksR"
      },
      "source": [
        "### 3.1 Preprocessing\n",
        "\n",
        "In this part we set up our datagenerators, which handle our train/test split as well as our image augmentation and scaling."
      ]
    },
    {
      "cell_type": "code",
      "metadata": {
        "id": "21YHJlDaveaD",
        "outputId": "fe827df2-afaf-48e3-bfa3-7dff02e284d7",
        "colab": {
          "base_uri": "https://localhost:8080/"
        }
      },
      "source": [
        "path = 'kvasir-dataset-v2'\n",
        "batch_size = 32\n",
        "target_w = 256\n",
        "target_h = 256\n",
        "target_size = (target_w, target_h) \n",
        "target_dims = 3 #(rgb)\n",
        "\n",
        "datagen = keras.preprocessing.image.ImageDataGenerator(rescale=1./255,\n",
        "    shear_range=0.2,\n",
        "    zoom_range=0.2,\n",
        "    horizontal_flip=True,\n",
        "    validation_split=0.25)\n",
        "\n",
        "train_generator = datagen.flow_from_directory(\n",
        "    path,\n",
        "    target_size=target_size,\n",
        "    batch_size=batch_size,\n",
        "    class_mode='sparse',\n",
        "    subset='training') # set as training data\n",
        "\n",
        "test_generator = datagen.flow_from_directory(\n",
        "    path, \n",
        "    target_size=target_size,\n",
        "    batch_size=batch_size,\n",
        "    class_mode='sparse',\n",
        "    subset='validation',\n",
        "    shuffle=False) # set as validation data"
      ],
      "execution_count": 19,
      "outputs": [
        {
          "output_type": "stream",
          "text": [
            "Found 6000 images belonging to 8 classes.\n",
            "Found 2000 images belonging to 8 classes.\n"
          ],
          "name": "stdout"
        }
      ]
    },
    {
      "cell_type": "markdown",
      "metadata": {
        "id": "0VsdBR50wUvE"
      },
      "source": [
        "### 3.2 Simple CNN"
      ]
    },
    {
      "cell_type": "markdown",
      "metadata": {
        "id": "7LeqepOjxO7X"
      },
      "source": [
        "#### 3.2.1 Build Model"
      ]
    },
    {
      "cell_type": "code",
      "metadata": {
        "id": "PSIhSXjXwCId"
      },
      "source": [
        "# Build a simple CNN model layer by layer\n",
        "# reference: https://www.tensorflow.org/tutorials/images/cnn\n",
        "def build_simple_cnn():\n",
        "    model = keras.models.Sequential([\n",
        "        keras.layers.Conv2D(32, (3, 3), activation='relu', input_shape=(target_w, target_h, target_dims)),\n",
        "        keras.layers.MaxPooling2D((2, 2)),\n",
        "        keras.layers.Conv2D(64, (3, 3), activation='relu'),\n",
        "        keras.layers.MaxPooling2D((2, 2)),\n",
        "        keras.layers.Conv2D(64, (3, 3), activation='relu')\n",
        "    ])\n",
        "\n",
        "    model.add(keras.layers.Flatten())\n",
        "    model.add(keras.layers.Dense(64, activation='relu'))\n",
        "    model.add(keras.layers.Dense(8, activation='softmax'))\n",
        "\n",
        "    model.summary()\n",
        "\n",
        "    return model"
      ],
      "execution_count": null,
      "outputs": []
    },
    {
      "cell_type": "code",
      "metadata": {
        "id": "ufTUvzwxwC-r",
        "outputId": "47eaafee-cad4-4274-9e1c-9a1b7699b7eb",
        "colab": {
          "base_uri": "https://localhost:8080/"
        }
      },
      "source": [
        "# Build and compile the model\n",
        "simple_cnn = build_simple_cnn()\n",
        "\n",
        "simple_cnn.compile(\n",
        "    optimizer='adam',\n",
        "    loss='sparse_categorical_crossentropy',\n",
        "    metrics=[ 'accuracy' ]\n",
        ")"
      ],
      "execution_count": null,
      "outputs": [
        {
          "output_type": "stream",
          "text": [
            "Model: \"sequential\"\n",
            "_________________________________________________________________\n",
            "Layer (type)                 Output Shape              Param #   \n",
            "=================================================================\n",
            "conv2d (Conv2D)              (None, 254, 254, 32)      896       \n",
            "_________________________________________________________________\n",
            "max_pooling2d (MaxPooling2D) (None, 127, 127, 32)      0         \n",
            "_________________________________________________________________\n",
            "conv2d_1 (Conv2D)            (None, 125, 125, 64)      18496     \n",
            "_________________________________________________________________\n",
            "max_pooling2d_1 (MaxPooling2 (None, 62, 62, 64)        0         \n",
            "_________________________________________________________________\n",
            "conv2d_2 (Conv2D)            (None, 60, 60, 64)        36928     \n",
            "_________________________________________________________________\n",
            "flatten (Flatten)            (None, 230400)            0         \n",
            "_________________________________________________________________\n",
            "dense (Dense)                (None, 64)                14745664  \n",
            "_________________________________________________________________\n",
            "dense_1 (Dense)              (None, 8)                 520       \n",
            "=================================================================\n",
            "Total params: 14,802,504\n",
            "Trainable params: 14,802,504\n",
            "Non-trainable params: 0\n",
            "_________________________________________________________________\n"
          ],
          "name": "stdout"
        }
      ]
    },
    {
      "cell_type": "markdown",
      "metadata": {
        "id": "ZwPO6vz-Ko_M"
      },
      "source": [
        "#### 3.2.2 Training"
      ]
    },
    {
      "cell_type": "code",
      "metadata": {
        "id": "pHaV8x1TwJzJ",
        "outputId": "923a336f-6e45-4eaf-b940-9680e0e99dd2",
        "colab": {
          "base_uri": "https://localhost:8080/"
        }
      },
      "source": [
        "simple_cnn_best_weights_checkpoint = tf.keras.callbacks.ModelCheckpoint(filepath='cnn_simple_best.hdf5', verbose=1, save_best_only=True)\n",
        "\n",
        "# Train (fit) the model\n",
        "simple_cnn_hist = simple_cnn.fit_generator(train_generator, \n",
        "                        epochs=10,\n",
        "                        verbose=1, \n",
        "                        callbacks=simple_cnn_best_weights_checkpoint,\n",
        "                        validation_data=test_generator)"
      ],
      "execution_count": null,
      "outputs": [
        {
          "output_type": "stream",
          "text": [
            "WARNING:tensorflow:From <ipython-input-9-cc0bccaa85c0>:8: Model.fit_generator (from tensorflow.python.keras.engine.training) is deprecated and will be removed in a future version.\n",
            "Instructions for updating:\n",
            "Please use Model.fit, which supports generators.\n",
            "Epoch 1/10\n",
            "  2/188 [..............................] - ETA: 10s - loss: 3.1640 - accuracy: 0.1875WARNING:tensorflow:Callbacks method `on_train_batch_end` is slow compared to the batch time (batch time: 0.0408s vs `on_train_batch_end` time: 0.0704s). Check your callbacks.\n",
            "188/188 [==============================] - ETA: 0s - loss: 1.0164 - accuracy: 0.5677\n",
            "Epoch 00001: val_loss improved from inf to 0.80112, saving model to cnn_simple_best.hdf5\n",
            "188/188 [==============================] - 215s 1s/step - loss: 1.0164 - accuracy: 0.5677 - val_loss: 0.8011 - val_accuracy: 0.6415\n",
            "Epoch 2/10\n",
            "188/188 [==============================] - ETA: 0s - loss: 0.7527 - accuracy: 0.6548\n",
            "Epoch 00002: val_loss improved from 0.80112 to 0.77287, saving model to cnn_simple_best.hdf5\n",
            "188/188 [==============================] - 210s 1s/step - loss: 0.7527 - accuracy: 0.6548 - val_loss: 0.7729 - val_accuracy: 0.6405\n",
            "Epoch 3/10\n",
            "188/188 [==============================] - ETA: 0s - loss: 0.7008 - accuracy: 0.6773\n",
            "Epoch 00003: val_loss improved from 0.77287 to 0.70836, saving model to cnn_simple_best.hdf5\n",
            "188/188 [==============================] - 224s 1s/step - loss: 0.7008 - accuracy: 0.6773 - val_loss: 0.7084 - val_accuracy: 0.6935\n",
            "Epoch 4/10\n",
            "188/188 [==============================] - ETA: 0s - loss: 0.6485 - accuracy: 0.7037\n",
            "Epoch 00004: val_loss improved from 0.70836 to 0.69859, saving model to cnn_simple_best.hdf5\n",
            "188/188 [==============================] - 229s 1s/step - loss: 0.6485 - accuracy: 0.7037 - val_loss: 0.6986 - val_accuracy: 0.6800\n",
            "Epoch 5/10\n",
            "188/188 [==============================] - ETA: 0s - loss: 0.6283 - accuracy: 0.7058\n",
            "Epoch 00005: val_loss did not improve from 0.69859\n",
            "188/188 [==============================] - 232s 1s/step - loss: 0.6283 - accuracy: 0.7058 - val_loss: 0.7847 - val_accuracy: 0.6595\n",
            "Epoch 6/10\n",
            "188/188 [==============================] - ETA: 0s - loss: 0.5937 - accuracy: 0.7260\n",
            "Epoch 00006: val_loss improved from 0.69859 to 0.62266, saving model to cnn_simple_best.hdf5\n",
            "188/188 [==============================] - 233s 1s/step - loss: 0.5937 - accuracy: 0.7260 - val_loss: 0.6227 - val_accuracy: 0.7265\n",
            "Epoch 7/10\n",
            "188/188 [==============================] - ETA: 0s - loss: 0.5829 - accuracy: 0.7325\n",
            "Epoch 00007: val_loss did not improve from 0.62266\n",
            "188/188 [==============================] - 225s 1s/step - loss: 0.5829 - accuracy: 0.7325 - val_loss: 0.6264 - val_accuracy: 0.7140\n",
            "Epoch 8/10\n",
            "188/188 [==============================] - ETA: 0s - loss: 0.5503 - accuracy: 0.7497\n",
            "Epoch 00008: val_loss did not improve from 0.62266\n",
            "188/188 [==============================] - 220s 1s/step - loss: 0.5503 - accuracy: 0.7497 - val_loss: 0.6559 - val_accuracy: 0.7085\n",
            "Epoch 9/10\n",
            "188/188 [==============================] - ETA: 0s - loss: 0.5733 - accuracy: 0.7400\n",
            "Epoch 00009: val_loss did not improve from 0.62266\n",
            "188/188 [==============================] - 217s 1s/step - loss: 0.5733 - accuracy: 0.7400 - val_loss: 0.6536 - val_accuracy: 0.6975\n",
            "Epoch 10/10\n",
            "188/188 [==============================] - ETA: 0s - loss: 0.5490 - accuracy: 0.7542\n",
            "Epoch 00010: val_loss did not improve from 0.62266\n",
            "188/188 [==============================] - 218s 1s/step - loss: 0.5490 - accuracy: 0.7542 - val_loss: 0.6486 - val_accuracy: 0.7065\n"
          ],
          "name": "stdout"
        }
      ]
    },
    {
      "cell_type": "markdown",
      "metadata": {
        "id": "ECgIpGT-KsDC"
      },
      "source": [
        "#### 3.2.3 Testing and evaluation"
      ]
    },
    {
      "cell_type": "code",
      "metadata": {
        "id": "RG30iNWtBFM-",
        "outputId": "d9840fa0-f4c1-4b0b-c685-3e74ed13f499",
        "colab": {
          "base_uri": "https://localhost:8080/"
        }
      },
      "source": [
        "# Make predictions\n",
        "test_generator.reset()\n",
        "simple_cnn_predictions = simple_cnn.predict_generator(test_generator, verbose=1)"
      ],
      "execution_count": null,
      "outputs": [
        {
          "output_type": "stream",
          "text": [
            "WARNING:tensorflow:From <ipython-input-10-4bb1c639e49c>:6: Model.predict_generator (from tensorflow.python.keras.engine.training) is deprecated and will be removed in a future version.\n",
            "Instructions for updating:\n",
            "Please use Model.predict, which supports generators.\n",
            "63/63 [==============================] - 52s 833ms/step\n"
          ],
          "name": "stdout"
        }
      ]
    },
    {
      "cell_type": "code",
      "metadata": {
        "id": "L8XPcDbc_SIP",
        "outputId": "1ed111f5-a3bf-4747-a074-7a3ee7ac39af",
        "colab": {
          "base_uri": "https://localhost:8080/",
          "height": 911
        }
      },
      "source": [
        "# Create and display confusion matrix and classification report\n",
        "target_names = ['dyed_lifted_polyps', 'dyed_resection_margins', 'esophagitis', 'normal_cecum', 'normal_pylorus', 'normal_z_line', 'polyps', 'ulcerative-colitis']\n",
        "\n",
        "y_pred = np.argmax(simple_cnn_predictions, axis=-1)\n",
        "y_true = test_generator.classes[test_generator.index_array]\n",
        "\n",
        "conf_matr = confusion_matrix(y_true, y_pred)\n",
        "\n",
        "plot_confusion_matrix(conf_matr, target_names, normalize=False)\n",
        "\n",
        "print('Classification Report')\n",
        "print(classification_report(y_true, y_pred, target_names=target_names))\n",
        "\n",
        "print('Raw Confusion Matrix')\n",
        "print(conf_matr)"
      ],
      "execution_count": null,
      "outputs": [
        {
          "output_type": "display_data",
          "data": {
            "image/png": "[encoded data removed]",
            "text/plain": [
              "<Figure size 576x432 with 2 Axes>"
            ]
          },
          "metadata": {
            "tags": [],
            "needs_background": "light"
          }
        },
        {
          "output_type": "stream",
          "text": [
            "Classification Report\n",
            "                        precision    recall  f1-score   support\n",
            "\n",
            "    dyed_lifted_polyps       0.74      0.32      0.45       250\n",
            "dyed_resection_margins       0.58      0.90      0.71       250\n",
            "           esophagitis       0.70      0.70      0.70       250\n",
            "          normal_cecum       0.72      0.94      0.81       250\n",
            "        normal_pylorus       0.91      0.89      0.90       250\n",
            "         normal_z_line       0.67      0.74      0.71       250\n",
            "                polyps       0.67      0.57      0.62       250\n",
            "    ulcerative-colitis       0.77      0.60      0.67       250\n",
            "\n",
            "              accuracy                           0.71      2000\n",
            "             macro avg       0.72      0.71      0.70      2000\n",
            "          weighted avg       0.72      0.71      0.70      2000\n",
            "\n",
            "Raw Confusion Matrix\n",
            "[[ 81 161   0   2   0   0   5   1]\n",
            " [ 26 224   0   0   0   0   0   0]\n",
            " [  0   0 175   0   0  75   0   0]\n",
            " [  0   0   0 234   0   0  14   2]\n",
            " [  0   0  10   0 223  15   0   2]\n",
            " [  0   0  63   0   1 186   0   0]\n",
            " [  2   0   1  54  10   0 143  40]\n",
            " [  1   0   1  36  11   0  52 149]]\n"
          ],
          "name": "stdout"
        }
      ]
    },
    {
      "cell_type": "markdown",
      "metadata": {
        "id": "Lky3I6g7w1dE"
      },
      "source": [
        "### 3.3 ResNet50"
      ]
    },
    {
      "cell_type": "markdown",
      "metadata": {
        "id": "A_EeGuHmxInm"
      },
      "source": [
        "#### 3.3.1 Build Model"
      ]
    },
    {
      "cell_type": "code",
      "metadata": {
        "id": "iKFCDlBUJUQY"
      },
      "source": [
        "# Build a CNN model with transfer learning, using ResNet50 as the base model\n",
        "def build_transfer_learning_model():\n",
        "  \n",
        "  # The ResNet\n",
        "  base_model = keras.applications.resnet.ResNet50(include_top=False, \n",
        "                                                  weights='imagenet', \n",
        "                                                  input_shape=(target_w, target_h, target_dims))\n",
        "  \n",
        "  # We need our BatchNormalization layers to be trainable, the rest should be frozen\n",
        "  for layer in base_model.layers:\n",
        "    if isinstance(layer, keras.layers.BatchNormalization):\n",
        "        layer.trainable = True\n",
        "    else:\n",
        "        layer.trainable = False\n",
        "\n",
        "  # Put together our model\n",
        "  model = keras.models.Sequential([\n",
        "                       base_model,\n",
        "                       keras.layers.GlobalAveragePooling2D(),\n",
        "                       keras.layers.Dropout(0.5),\n",
        "                       keras.layers.Dense(8, activation=\"softmax\")\n",
        "  ])\n",
        "  \n",
        "  model.summary()\n",
        "\n",
        "  return model"
      ],
      "execution_count": null,
      "outputs": []
    },
    {
      "cell_type": "code",
      "metadata": {
        "id": "I1mno3w3I6D2",
        "outputId": "1dda2c2c-7ec0-436c-9976-2b2c50407e07",
        "colab": {
          "base_uri": "https://localhost:8080/"
        }
      },
      "source": [
        "# Build and compile the model\n",
        "rn_model = build_transfer_learning_model()\n",
        "\n",
        "rn_model.compile(\n",
        "    optimizer='adam',\n",
        "    loss='sparse_categorical_crossentropy',\n",
        "    metrics=[ 'accuracy' ]\n",
        ")"
      ],
      "execution_count": null,
      "outputs": [
        {
          "output_type": "stream",
          "text": [
            "Model: \"sequential_1\"\n",
            "_________________________________________________________________\n",
            "Layer (type)                 Output Shape              Param #   \n",
            "=================================================================\n",
            "resnet50 (Functional)        (None, 8, 8, 2048)        23587712  \n",
            "_________________________________________________________________\n",
            "global_average_pooling2d (Gl (None, 2048)              0         \n",
            "_________________________________________________________________\n",
            "dropout (Dropout)            (None, 2048)              0         \n",
            "_________________________________________________________________\n",
            "dense_2 (Dense)              (None, 8)                 16392     \n",
            "=================================================================\n",
            "Total params: 23,604,104\n",
            "Trainable params: 69,512\n",
            "Non-trainable params: 23,534,592\n",
            "_________________________________________________________________\n"
          ],
          "name": "stdout"
        }
      ]
    },
    {
      "cell_type": "markdown",
      "metadata": {
        "id": "ZEz4s4OfxwPF"
      },
      "source": [
        "#### 3.3.2 Training"
      ]
    },
    {
      "cell_type": "code",
      "metadata": {
        "id": "OD1AsLs7K8EO",
        "outputId": "2db562a0-09f0-4e58-dafc-908235a0f683",
        "colab": {
          "base_uri": "https://localhost:8080/"
        }
      },
      "source": [
        "train_generator.reset()\n",
        "test_generator.reset()\n",
        "\n",
        "rn_history = rn_model.fit_generator(train_generator, \n",
        "                        epochs=20,\n",
        "                        verbose=1, \n",
        "                        validation_data=test_generator)"
      ],
      "execution_count": null,
      "outputs": [
        {
          "output_type": "stream",
          "text": [
            "Epoch 1/20\n",
            "188/188 [==============================] - ETA: 0s - loss: 0.7917 - accuracy: 0.6917\n",
            "Epoch 00001: val_loss improved from inf to 3.27066, saving model to rn_model_best_first.hdf5\n",
            "188/188 [==============================] - 262s 1s/step - loss: 0.7917 - accuracy: 0.6917 - val_loss: 3.2707 - val_accuracy: 0.1250\n",
            "Epoch 2/20\n",
            "188/188 [==============================] - ETA: 0s - loss: 0.4388 - accuracy: 0.8293\n",
            "Epoch 00002: val_loss did not improve from 3.27066\n",
            "188/188 [==============================] - 256s 1s/step - loss: 0.4388 - accuracy: 0.8293 - val_loss: 4.3963 - val_accuracy: 0.1250\n",
            "Epoch 3/20\n",
            "188/188 [==============================] - ETA: 0s - loss: 0.3561 - accuracy: 0.8598\n",
            "Epoch 00003: val_loss did not improve from 3.27066\n",
            "188/188 [==============================] - 254s 1s/step - loss: 0.3561 - accuracy: 0.8598 - val_loss: 4.3579 - val_accuracy: 0.2270\n",
            "Epoch 4/20\n",
            "188/188 [==============================] - ETA: 0s - loss: 0.3185 - accuracy: 0.8767\n",
            "Epoch 00004: val_loss did not improve from 3.27066\n",
            "188/188 [==============================] - 248s 1s/step - loss: 0.3185 - accuracy: 0.8767 - val_loss: 3.5977 - val_accuracy: 0.3700\n",
            "Epoch 5/20\n",
            "188/188 [==============================] - ETA: 0s - loss: 0.2937 - accuracy: 0.8875\n",
            "Epoch 00005: val_loss improved from 3.27066 to 0.88756, saving model to rn_model_best_first.hdf5\n",
            "188/188 [==============================] - 244s 1s/step - loss: 0.2937 - accuracy: 0.8875 - val_loss: 0.8876 - val_accuracy: 0.7080\n",
            "Epoch 6/20\n",
            "188/188 [==============================] - ETA: 0s - loss: 0.2598 - accuracy: 0.8978\n",
            "Epoch 00006: val_loss improved from 0.88756 to 0.33462, saving model to rn_model_best_first.hdf5\n",
            "188/188 [==============================] - 245s 1s/step - loss: 0.2598 - accuracy: 0.8978 - val_loss: 0.3346 - val_accuracy: 0.8750\n",
            "Epoch 7/20\n",
            "188/188 [==============================] - ETA: 0s - loss: 0.2592 - accuracy: 0.8980\n",
            "Epoch 00007: val_loss did not improve from 0.33462\n",
            "188/188 [==============================] - 243s 1s/step - loss: 0.2592 - accuracy: 0.8980 - val_loss: 0.3361 - val_accuracy: 0.8815\n",
            "Epoch 8/20\n",
            "188/188 [==============================] - ETA: 0s - loss: 0.2399 - accuracy: 0.9055\n",
            "Epoch 00008: val_loss improved from 0.33462 to 0.28396, saving model to rn_model_best_first.hdf5\n",
            "188/188 [==============================] - 243s 1s/step - loss: 0.2399 - accuracy: 0.9055 - val_loss: 0.2840 - val_accuracy: 0.8930\n",
            "Epoch 9/20\n",
            "188/188 [==============================] - ETA: 0s - loss: 0.2163 - accuracy: 0.9128\n",
            "Epoch 00009: val_loss improved from 0.28396 to 0.28134, saving model to rn_model_best_first.hdf5\n",
            "188/188 [==============================] - 243s 1s/step - loss: 0.2163 - accuracy: 0.9128 - val_loss: 0.2813 - val_accuracy: 0.8915\n",
            "Epoch 10/20\n",
            "188/188 [==============================] - ETA: 0s - loss: 0.2174 - accuracy: 0.9162\n",
            "Epoch 00010: val_loss did not improve from 0.28134\n",
            "188/188 [==============================] - 242s 1s/step - loss: 0.2174 - accuracy: 0.9162 - val_loss: 0.2883 - val_accuracy: 0.9000\n",
            "Epoch 11/20\n",
            "188/188 [==============================] - ETA: 0s - loss: 0.2108 - accuracy: 0.9172\n",
            "Epoch 00011: val_loss did not improve from 0.28134\n",
            "188/188 [==============================] - 240s 1s/step - loss: 0.2108 - accuracy: 0.9172 - val_loss: 0.3045 - val_accuracy: 0.8970\n",
            "Epoch 12/20\n",
            "188/188 [==============================] - ETA: 0s - loss: 0.1957 - accuracy: 0.9207\n",
            "Epoch 00012: val_loss did not improve from 0.28134\n",
            "188/188 [==============================] - 239s 1s/step - loss: 0.1957 - accuracy: 0.9207 - val_loss: 0.2876 - val_accuracy: 0.8950\n",
            "Epoch 13/20\n",
            "188/188 [==============================] - ETA: 0s - loss: 0.1786 - accuracy: 0.9293\n",
            "Epoch 00013: val_loss did not improve from 0.28134\n",
            "188/188 [==============================] - 240s 1s/step - loss: 0.1786 - accuracy: 0.9293 - val_loss: 0.2889 - val_accuracy: 0.8950\n",
            "Epoch 14/20\n",
            "188/188 [==============================] - ETA: 0s - loss: 0.1868 - accuracy: 0.9272\n",
            "Epoch 00014: val_loss did not improve from 0.28134\n",
            "188/188 [==============================] - 239s 1s/step - loss: 0.1868 - accuracy: 0.9272 - val_loss: 0.2867 - val_accuracy: 0.9065\n",
            "Epoch 15/20\n",
            "188/188 [==============================] - ETA: 0s - loss: 0.1706 - accuracy: 0.9355\n",
            "Epoch 00015: val_loss did not improve from 0.28134\n",
            "188/188 [==============================] - 237s 1s/step - loss: 0.1706 - accuracy: 0.9355 - val_loss: 0.2932 - val_accuracy: 0.9000\n",
            "Epoch 16/20\n",
            "188/188 [==============================] - ETA: 0s - loss: 0.1492 - accuracy: 0.9413\n",
            "Epoch 00016: val_loss did not improve from 0.28134\n",
            "188/188 [==============================] - 238s 1s/step - loss: 0.1492 - accuracy: 0.9413 - val_loss: 0.3100 - val_accuracy: 0.9010\n",
            "Epoch 17/20\n",
            "188/188 [==============================] - ETA: 0s - loss: 0.1629 - accuracy: 0.9352\n",
            "Epoch 00017: val_loss did not improve from 0.28134\n",
            "188/188 [==============================] - 240s 1s/step - loss: 0.1629 - accuracy: 0.9352 - val_loss: 0.2834 - val_accuracy: 0.8975\n",
            "Epoch 18/20\n",
            "188/188 [==============================] - ETA: 0s - loss: 0.1533 - accuracy: 0.9412\n",
            "Epoch 00018: val_loss improved from 0.28134 to 0.27692, saving model to rn_model_best_first.hdf5\n",
            "188/188 [==============================] - 239s 1s/step - loss: 0.1533 - accuracy: 0.9412 - val_loss: 0.2769 - val_accuracy: 0.9090\n",
            "Epoch 19/20\n",
            "188/188 [==============================] - ETA: 0s - loss: 0.1383 - accuracy: 0.9438\n",
            "Epoch 00019: val_loss did not improve from 0.27692\n",
            "188/188 [==============================] - 240s 1s/step - loss: 0.1383 - accuracy: 0.9438 - val_loss: 0.2956 - val_accuracy: 0.9060\n",
            "Epoch 20/20\n",
            "188/188 [==============================] - ETA: 0s - loss: 0.1395 - accuracy: 0.9452\n",
            "Epoch 00020: val_loss did not improve from 0.27692\n",
            "188/188 [==============================] - 237s 1s/step - loss: 0.1395 - accuracy: 0.9452 - val_loss: 0.3158 - val_accuracy: 0.9000\n"
          ],
          "name": "stdout"
        }
      ]
    },
    {
      "cell_type": "markdown",
      "metadata": {
        "id": "edtxAS8zx35A"
      },
      "source": [
        "#### 3.3.3 Testing and evaluation"
      ]
    },
    {
      "cell_type": "code",
      "metadata": {
        "id": "aPRQNfBcLDEI",
        "outputId": "cee6e9c8-c92b-48de-b72c-1d51325b4222",
        "colab": {
          "base_uri": "https://localhost:8080/"
        }
      },
      "source": [
        "test_generator.reset()\n",
        "rn_predictions = rn_model.predict_generator(test_generator, verbose=1)"
      ],
      "execution_count": null,
      "outputs": [
        {
          "output_type": "stream",
          "text": [
            "63/63 [==============================] - 53s 835ms/step\n"
          ],
          "name": "stdout"
        }
      ]
    },
    {
      "cell_type": "code",
      "metadata": {
        "id": "ft_sNT5pLGG7",
        "outputId": "7a350a13-c75e-4b05-a6ce-82f2ba584d14",
        "colab": {
          "base_uri": "https://localhost:8080/",
          "height": 911
        }
      },
      "source": [
        "#####\n",
        "# ResNet 1st iteration\n",
        "#####\n",
        "# Create and display confusion matrix and classification report\n",
        "target_names = ['dyed_lifted_polyps', 'dyed_resection_margins', 'esophagitis', 'normal_cecum', 'normal_pylorus', 'normal_z_line', 'polyps', 'ulcerative-colitis']\n",
        "\n",
        "y_pred = np.argmax(rn_predictions, axis=-1)\n",
        "y_true = test_generator.classes[test_generator.index_array]\n",
        "\n",
        "conf_matr = confusion_matrix(y_true, y_pred)\n",
        "\n",
        "plot_confusion_matrix(conf_matr, target_names, normalize=False)\n",
        "\n",
        "print('Classification Report')\n",
        "print(classification_report(y_true, y_pred, target_names=target_names))\n",
        "\n",
        "print('Raw Confusion Matrix')\n",
        "print(conf_matr)"
      ],
      "execution_count": null,
      "outputs": [
        {
          "output_type": "display_data",
          "data": {
            "image/png": "[encoded data removed]",
            "text/plain": [
              "<Figure size 576x432 with 2 Axes>"
            ]
          },
          "metadata": {
            "tags": [],
            "needs_background": "light"
          }
        },
        {
          "output_type": "stream",
          "text": [
            "Classification Report\n",
            "                        precision    recall  f1-score   support\n",
            "\n",
            "    dyed_lifted_polyps       0.91      0.91      0.91       250\n",
            "dyed_resection_margins       0.94      0.92      0.93       250\n",
            "           esophagitis       0.87      0.72      0.79       250\n",
            "          normal_cecum       0.89      0.99      0.93       250\n",
            "        normal_pylorus       0.97      0.99      0.98       250\n",
            "         normal_z_line       0.75      0.88      0.81       250\n",
            "                polyps       0.96      0.85      0.90       250\n",
            "    ulcerative-colitis       0.92      0.94      0.93       250\n",
            "\n",
            "              accuracy                           0.90      2000\n",
            "             macro avg       0.90      0.90      0.90      2000\n",
            "          weighted avg       0.90      0.90      0.90      2000\n",
            "\n",
            "Raw Confusion Matrix\n",
            "[[228  15   0   2   0   0   3   2]\n",
            " [ 20 229   0   1   0   0   0   0]\n",
            " [  0   0 179   0   0  70   0   1]\n",
            " [  0   0   0 247   0   0   1   2]\n",
            " [  0   0   1   0 247   1   0   1]\n",
            " [  0   0  26   0   4 220   0   0]\n",
            " [  2   0   0  18   3   1 213  13]\n",
            " [  0   0   0  11   1   0   4 234]]\n"
          ],
          "name": "stdout"
        }
      ]
    },
    {
      "cell_type": "markdown",
      "metadata": {
        "id": "qPzVTRWlyEey"
      },
      "source": [
        "#### 3.3.4 Unfreeze and fine-tune"
      ]
    },
    {
      "cell_type": "code",
      "metadata": {
        "id": "pWCG2LPPrJQA",
        "outputId": "b6be3f14-7121-468d-a395-775b3a461537",
        "colab": {
          "base_uri": "https://localhost:8080/",
          "height": 974
        }
      },
      "source": [
        "rn_model.trainable = True\n",
        "\n",
        "rn_model.compile(\n",
        "    optimizer=keras.optimizers.Adam(1e-5),  # Low learning rate\n",
        "    loss='sparse_categorical_crossentropy',\n",
        "    metrics=[ 'accuracy' ],\n",
        ")\n",
        "\n",
        "best_weights_checkpoint_2 = tf.keras.callbacks.ModelCheckpoint(filepath='rn_model_best_second.hdf5', verbose=1, save_best_only=True)\n",
        "\n",
        "train_generator.reset()\n",
        "test_generator.reset()\n",
        "rn_history_2 = rn_model.fit_generator(train_generator, \n",
        "                        epochs=10,\n",
        "                        verbose=1, \n",
        "                        callbacks=best_weights_checkpoint_2,\n",
        "                        validation_data=test_generator)"
      ],
      "execution_count": null,
      "outputs": [
        {
          "output_type": "stream",
          "text": [
            "Epoch 1/10\n",
            "  2/188 [..............................] - ETA: 1:14 - loss: 0.2299 - accuracy: 0.9219WARNING:tensorflow:Callbacks method `on_train_batch_end` is slow compared to the batch time (batch time: 0.3178s vs `on_train_batch_end` time: 0.4854s). Check your callbacks.\n",
            "188/188 [==============================] - ETA: 0s - loss: 0.1337 - accuracy: 0.9462\n",
            "Epoch 00001: val_loss improved from inf to 0.27660, saving model to rn_model_best_second.hdf5\n",
            "188/188 [==============================] - 269s 1s/step - loss: 0.1337 - accuracy: 0.9462 - val_loss: 0.2766 - val_accuracy: 0.9055\n",
            "Epoch 2/10\n",
            "188/188 [==============================] - ETA: 0s - loss: 0.1231 - accuracy: 0.9523\n",
            "Epoch 00002: val_loss did not improve from 0.27660\n",
            "188/188 [==============================] - 262s 1s/step - loss: 0.1231 - accuracy: 0.9523 - val_loss: 0.2967 - val_accuracy: 0.9025\n",
            "Epoch 3/10\n",
            "188/188 [==============================] - ETA: 0s - loss: 0.1108 - accuracy: 0.9580\n",
            "Epoch 00003: val_loss improved from 0.27660 to 0.27145, saving model to rn_model_best_second.hdf5\n",
            "188/188 [==============================] - 259s 1s/step - loss: 0.1108 - accuracy: 0.9580 - val_loss: 0.2714 - val_accuracy: 0.9145\n",
            "Epoch 4/10\n",
            "188/188 [==============================] - ETA: 0s - loss: 0.0981 - accuracy: 0.9645\n",
            "Epoch 00004: val_loss did not improve from 0.27145\n",
            "188/188 [==============================] - 256s 1s/step - loss: 0.0981 - accuracy: 0.9645 - val_loss: 0.2984 - val_accuracy: 0.9070\n",
            "Epoch 5/10\n",
            "188/188 [==============================] - ETA: 0s - loss: 0.0788 - accuracy: 0.9680\n",
            "Epoch 00005: val_loss did not improve from 0.27145\n",
            "188/188 [==============================] - 256s 1s/step - loss: 0.0788 - accuracy: 0.9680 - val_loss: 0.2867 - val_accuracy: 0.9100\n",
            "Epoch 6/10\n",
            "188/188 [==============================] - ETA: 0s - loss: 0.0664 - accuracy: 0.9738\n",
            "Epoch 00006: val_loss did not improve from 0.27145\n",
            "188/188 [==============================] - 253s 1s/step - loss: 0.0664 - accuracy: 0.9738 - val_loss: 0.2764 - val_accuracy: 0.9075\n",
            "Epoch 7/10\n",
            "188/188 [==============================] - ETA: 0s - loss: 0.0653 - accuracy: 0.9762\n",
            "Epoch 00007: val_loss did not improve from 0.27145\n",
            "188/188 [==============================] - 252s 1s/step - loss: 0.0653 - accuracy: 0.9762 - val_loss: 0.2980 - val_accuracy: 0.9120\n",
            "Epoch 8/10\n",
            "188/188 [==============================] - ETA: 0s - loss: 0.0514 - accuracy: 0.9805\n",
            "Epoch 00008: val_loss did not improve from 0.27145\n",
            "188/188 [==============================] - 251s 1s/step - loss: 0.0514 - accuracy: 0.9805 - val_loss: 0.2981 - val_accuracy: 0.9110\n",
            "Epoch 9/10\n",
            " 30/188 [===>..........................] - ETA: 2:45 - loss: 0.0515 - accuracy: 0.9833"
          ],
          "name": "stdout"
        },
        {
          "output_type": "error",
          "ename": "KeyboardInterrupt",
          "evalue": "ignored",
          "traceback": [
            "\u001b[0;31m---------------------------------------------------------------------------\u001b[0m",
            "\u001b[0;31mKeyboardInterrupt\u001b[0m                         Traceback (most recent call last)",
            "\u001b[0;32m<ipython-input-21-680b9ec8cd5b>\u001b[0m in \u001b[0;36m<module>\u001b[0;34m()\u001b[0m\n\u001b[1;32m     15\u001b[0m                         \u001b[0mverbose\u001b[0m\u001b[0;34m=\u001b[0m\u001b[0;36m1\u001b[0m\u001b[0;34m,\u001b[0m\u001b[0;34m\u001b[0m\u001b[0;34m\u001b[0m\u001b[0m\n\u001b[1;32m     16\u001b[0m                         \u001b[0mcallbacks\u001b[0m\u001b[0;34m=\u001b[0m\u001b[0mbest_weights_checkpoint_2\u001b[0m\u001b[0;34m,\u001b[0m\u001b[0;34m\u001b[0m\u001b[0;34m\u001b[0m\u001b[0m\n\u001b[0;32m---> 17\u001b[0;31m                         validation_data=test_generator)\n\u001b[0m",
            "\u001b[0;32m/usr/local/lib/python3.6/dist-packages/tensorflow/python/util/deprecation.py\u001b[0m in \u001b[0;36mnew_func\u001b[0;34m(*args, **kwargs)\u001b[0m\n\u001b[1;32m    322\u001b[0m               \u001b[0;34m'in a future version'\u001b[0m \u001b[0;32mif\u001b[0m \u001b[0mdate\u001b[0m \u001b[0;32mis\u001b[0m \u001b[0;32mNone\u001b[0m \u001b[0;32melse\u001b[0m \u001b[0;34m(\u001b[0m\u001b[0;34m'after %s'\u001b[0m \u001b[0;34m%\u001b[0m \u001b[0mdate\u001b[0m\u001b[0;34m)\u001b[0m\u001b[0;34m,\u001b[0m\u001b[0;34m\u001b[0m\u001b[0;34m\u001b[0m\u001b[0m\n\u001b[1;32m    323\u001b[0m               instructions)\n\u001b[0;32m--> 324\u001b[0;31m       \u001b[0;32mreturn\u001b[0m \u001b[0mfunc\u001b[0m\u001b[0;34m(\u001b[0m\u001b[0;34m*\u001b[0m\u001b[0margs\u001b[0m\u001b[0;34m,\u001b[0m \u001b[0;34m**\u001b[0m\u001b[0mkwargs\u001b[0m\u001b[0;34m)\u001b[0m\u001b[0;34m\u001b[0m\u001b[0;34m\u001b[0m\u001b[0m\n\u001b[0m\u001b[1;32m    325\u001b[0m     return tf_decorator.make_decorator(\n\u001b[1;32m    326\u001b[0m         \u001b[0mfunc\u001b[0m\u001b[0;34m,\u001b[0m \u001b[0mnew_func\u001b[0m\u001b[0;34m,\u001b[0m \u001b[0;34m'deprecated'\u001b[0m\u001b[0;34m,\u001b[0m\u001b[0;34m\u001b[0m\u001b[0;34m\u001b[0m\u001b[0m\n",
            "\u001b[0;32m/usr/local/lib/python3.6/dist-packages/tensorflow/python/keras/engine/training.py\u001b[0m in \u001b[0;36mfit_generator\u001b[0;34m(self, generator, steps_per_epoch, epochs, verbose, callbacks, validation_data, validation_steps, validation_freq, class_weight, max_queue_size, workers, use_multiprocessing, shuffle, initial_epoch)\u001b[0m\n\u001b[1;32m   1827\u001b[0m         \u001b[0muse_multiprocessing\u001b[0m\u001b[0;34m=\u001b[0m\u001b[0muse_multiprocessing\u001b[0m\u001b[0;34m,\u001b[0m\u001b[0;34m\u001b[0m\u001b[0;34m\u001b[0m\u001b[0m\n\u001b[1;32m   1828\u001b[0m         \u001b[0mshuffle\u001b[0m\u001b[0;34m=\u001b[0m\u001b[0mshuffle\u001b[0m\u001b[0;34m,\u001b[0m\u001b[0;34m\u001b[0m\u001b[0;34m\u001b[0m\u001b[0m\n\u001b[0;32m-> 1829\u001b[0;31m         initial_epoch=initial_epoch)\n\u001b[0m\u001b[1;32m   1830\u001b[0m \u001b[0;34m\u001b[0m\u001b[0m\n\u001b[1;32m   1831\u001b[0m   @deprecation.deprecated(\n",
            "\u001b[0;32m/usr/local/lib/python3.6/dist-packages/tensorflow/python/keras/engine/training.py\u001b[0m in \u001b[0;36m_method_wrapper\u001b[0;34m(self, *args, **kwargs)\u001b[0m\n\u001b[1;32m    106\u001b[0m   \u001b[0;32mdef\u001b[0m \u001b[0m_method_wrapper\u001b[0m\u001b[0;34m(\u001b[0m\u001b[0mself\u001b[0m\u001b[0;34m,\u001b[0m \u001b[0;34m*\u001b[0m\u001b[0margs\u001b[0m\u001b[0;34m,\u001b[0m \u001b[0;34m**\u001b[0m\u001b[0mkwargs\u001b[0m\u001b[0;34m)\u001b[0m\u001b[0;34m:\u001b[0m\u001b[0;34m\u001b[0m\u001b[0;34m\u001b[0m\u001b[0m\n\u001b[1;32m    107\u001b[0m     \u001b[0;32mif\u001b[0m \u001b[0;32mnot\u001b[0m \u001b[0mself\u001b[0m\u001b[0;34m.\u001b[0m\u001b[0m_in_multi_worker_mode\u001b[0m\u001b[0;34m(\u001b[0m\u001b[0;34m)\u001b[0m\u001b[0;34m:\u001b[0m  \u001b[0;31m# pylint: disable=protected-access\u001b[0m\u001b[0;34m\u001b[0m\u001b[0;34m\u001b[0m\u001b[0m\n\u001b[0;32m--> 108\u001b[0;31m       \u001b[0;32mreturn\u001b[0m \u001b[0mmethod\u001b[0m\u001b[0;34m(\u001b[0m\u001b[0mself\u001b[0m\u001b[0;34m,\u001b[0m \u001b[0;34m*\u001b[0m\u001b[0margs\u001b[0m\u001b[0;34m,\u001b[0m \u001b[0;34m**\u001b[0m\u001b[0mkwargs\u001b[0m\u001b[0;34m)\u001b[0m\u001b[0;34m\u001b[0m\u001b[0;34m\u001b[0m\u001b[0m\n\u001b[0m\u001b[1;32m    109\u001b[0m \u001b[0;34m\u001b[0m\u001b[0m\n\u001b[1;32m    110\u001b[0m     \u001b[0;31m# Running inside `run_distribute_coordinator` already.\u001b[0m\u001b[0;34m\u001b[0m\u001b[0;34m\u001b[0m\u001b[0;34m\u001b[0m\u001b[0m\n",
            "\u001b[0;32m/usr/local/lib/python3.6/dist-packages/tensorflow/python/keras/engine/training.py\u001b[0m in \u001b[0;36mfit\u001b[0;34m(self, x, y, batch_size, epochs, verbose, callbacks, validation_split, validation_data, shuffle, class_weight, sample_weight, initial_epoch, steps_per_epoch, validation_steps, validation_batch_size, validation_freq, max_queue_size, workers, use_multiprocessing)\u001b[0m\n\u001b[1;32m   1096\u001b[0m                 batch_size=batch_size):\n\u001b[1;32m   1097\u001b[0m               \u001b[0mcallbacks\u001b[0m\u001b[0;34m.\u001b[0m\u001b[0mon_train_batch_begin\u001b[0m\u001b[0;34m(\u001b[0m\u001b[0mstep\u001b[0m\u001b[0;34m)\u001b[0m\u001b[0;34m\u001b[0m\u001b[0;34m\u001b[0m\u001b[0m\n\u001b[0;32m-> 1098\u001b[0;31m               \u001b[0mtmp_logs\u001b[0m \u001b[0;34m=\u001b[0m \u001b[0mtrain_function\u001b[0m\u001b[0;34m(\u001b[0m\u001b[0miterator\u001b[0m\u001b[0;34m)\u001b[0m\u001b[0;34m\u001b[0m\u001b[0;34m\u001b[0m\u001b[0m\n\u001b[0m\u001b[1;32m   1099\u001b[0m               \u001b[0;32mif\u001b[0m \u001b[0mdata_handler\u001b[0m\u001b[0;34m.\u001b[0m\u001b[0mshould_sync\u001b[0m\u001b[0;34m:\u001b[0m\u001b[0;34m\u001b[0m\u001b[0;34m\u001b[0m\u001b[0m\n\u001b[1;32m   1100\u001b[0m                 \u001b[0mcontext\u001b[0m\u001b[0;34m.\u001b[0m\u001b[0masync_wait\u001b[0m\u001b[0;34m(\u001b[0m\u001b[0;34m)\u001b[0m\u001b[0;34m\u001b[0m\u001b[0;34m\u001b[0m\u001b[0m\n",
            "\u001b[0;32m/usr/local/lib/python3.6/dist-packages/tensorflow/python/eager/def_function.py\u001b[0m in \u001b[0;36m__call__\u001b[0;34m(self, *args, **kwds)\u001b[0m\n\u001b[1;32m    778\u001b[0m       \u001b[0;32melse\u001b[0m\u001b[0;34m:\u001b[0m\u001b[0;34m\u001b[0m\u001b[0;34m\u001b[0m\u001b[0m\n\u001b[1;32m    779\u001b[0m         \u001b[0mcompiler\u001b[0m \u001b[0;34m=\u001b[0m \u001b[0;34m\"nonXla\"\u001b[0m\u001b[0;34m\u001b[0m\u001b[0;34m\u001b[0m\u001b[0m\n\u001b[0;32m--> 780\u001b[0;31m         \u001b[0mresult\u001b[0m \u001b[0;34m=\u001b[0m \u001b[0mself\u001b[0m\u001b[0;34m.\u001b[0m\u001b[0m_call\u001b[0m\u001b[0;34m(\u001b[0m\u001b[0;34m*\u001b[0m\u001b[0margs\u001b[0m\u001b[0;34m,\u001b[0m \u001b[0;34m**\u001b[0m\u001b[0mkwds\u001b[0m\u001b[0;34m)\u001b[0m\u001b[0;34m\u001b[0m\u001b[0;34m\u001b[0m\u001b[0m\n\u001b[0m\u001b[1;32m    781\u001b[0m \u001b[0;34m\u001b[0m\u001b[0m\n\u001b[1;32m    782\u001b[0m       \u001b[0mnew_tracing_count\u001b[0m \u001b[0;34m=\u001b[0m \u001b[0mself\u001b[0m\u001b[0;34m.\u001b[0m\u001b[0m_get_tracing_count\u001b[0m\u001b[0;34m(\u001b[0m\u001b[0;34m)\u001b[0m\u001b[0;34m\u001b[0m\u001b[0;34m\u001b[0m\u001b[0m\n",
            "\u001b[0;32m/usr/local/lib/python3.6/dist-packages/tensorflow/python/eager/def_function.py\u001b[0m in \u001b[0;36m_call\u001b[0;34m(self, *args, **kwds)\u001b[0m\n\u001b[1;32m    805\u001b[0m       \u001b[0;31m# In this case we have created variables on the first call, so we run the\u001b[0m\u001b[0;34m\u001b[0m\u001b[0;34m\u001b[0m\u001b[0;34m\u001b[0m\u001b[0m\n\u001b[1;32m    806\u001b[0m       \u001b[0;31m# defunned version which is guaranteed to never create variables.\u001b[0m\u001b[0;34m\u001b[0m\u001b[0;34m\u001b[0m\u001b[0;34m\u001b[0m\u001b[0m\n\u001b[0;32m--> 807\u001b[0;31m       \u001b[0;32mreturn\u001b[0m \u001b[0mself\u001b[0m\u001b[0;34m.\u001b[0m\u001b[0m_stateless_fn\u001b[0m\u001b[0;34m(\u001b[0m\u001b[0;34m*\u001b[0m\u001b[0margs\u001b[0m\u001b[0;34m,\u001b[0m \u001b[0;34m**\u001b[0m\u001b[0mkwds\u001b[0m\u001b[0;34m)\u001b[0m  \u001b[0;31m# pylint: disable=not-callable\u001b[0m\u001b[0;34m\u001b[0m\u001b[0;34m\u001b[0m\u001b[0m\n\u001b[0m\u001b[1;32m    808\u001b[0m     \u001b[0;32melif\u001b[0m \u001b[0mself\u001b[0m\u001b[0;34m.\u001b[0m\u001b[0m_stateful_fn\u001b[0m \u001b[0;32mis\u001b[0m \u001b[0;32mnot\u001b[0m \u001b[0;32mNone\u001b[0m\u001b[0;34m:\u001b[0m\u001b[0;34m\u001b[0m\u001b[0;34m\u001b[0m\u001b[0m\n\u001b[1;32m    809\u001b[0m       \u001b[0;31m# Release the lock early so that multiple threads can perform the call\u001b[0m\u001b[0;34m\u001b[0m\u001b[0;34m\u001b[0m\u001b[0;34m\u001b[0m\u001b[0m\n",
            "\u001b[0;32m/usr/local/lib/python3.6/dist-packages/tensorflow/python/eager/function.py\u001b[0m in \u001b[0;36m__call__\u001b[0;34m(self, *args, **kwargs)\u001b[0m\n\u001b[1;32m   2827\u001b[0m     \u001b[0;32mwith\u001b[0m \u001b[0mself\u001b[0m\u001b[0;34m.\u001b[0m\u001b[0m_lock\u001b[0m\u001b[0;34m:\u001b[0m\u001b[0;34m\u001b[0m\u001b[0;34m\u001b[0m\u001b[0m\n\u001b[1;32m   2828\u001b[0m       \u001b[0mgraph_function\u001b[0m\u001b[0;34m,\u001b[0m \u001b[0margs\u001b[0m\u001b[0;34m,\u001b[0m \u001b[0mkwargs\u001b[0m \u001b[0;34m=\u001b[0m \u001b[0mself\u001b[0m\u001b[0;34m.\u001b[0m\u001b[0m_maybe_define_function\u001b[0m\u001b[0;34m(\u001b[0m\u001b[0margs\u001b[0m\u001b[0;34m,\u001b[0m \u001b[0mkwargs\u001b[0m\u001b[0;34m)\u001b[0m\u001b[0;34m\u001b[0m\u001b[0;34m\u001b[0m\u001b[0m\n\u001b[0;32m-> 2829\u001b[0;31m     \u001b[0;32mreturn\u001b[0m \u001b[0mgraph_function\u001b[0m\u001b[0;34m.\u001b[0m\u001b[0m_filtered_call\u001b[0m\u001b[0;34m(\u001b[0m\u001b[0margs\u001b[0m\u001b[0;34m,\u001b[0m \u001b[0mkwargs\u001b[0m\u001b[0;34m)\u001b[0m  \u001b[0;31m# pylint: disable=protected-access\u001b[0m\u001b[0;34m\u001b[0m\u001b[0;34m\u001b[0m\u001b[0m\n\u001b[0m\u001b[1;32m   2830\u001b[0m \u001b[0;34m\u001b[0m\u001b[0m\n\u001b[1;32m   2831\u001b[0m   \u001b[0;34m@\u001b[0m\u001b[0mproperty\u001b[0m\u001b[0;34m\u001b[0m\u001b[0;34m\u001b[0m\u001b[0m\n",
            "\u001b[0;32m/usr/local/lib/python3.6/dist-packages/tensorflow/python/eager/function.py\u001b[0m in \u001b[0;36m_filtered_call\u001b[0;34m(self, args, kwargs, cancellation_manager)\u001b[0m\n\u001b[1;32m   1846\u001b[0m                            resource_variable_ops.BaseResourceVariable))],\n\u001b[1;32m   1847\u001b[0m         \u001b[0mcaptured_inputs\u001b[0m\u001b[0;34m=\u001b[0m\u001b[0mself\u001b[0m\u001b[0;34m.\u001b[0m\u001b[0mcaptured_inputs\u001b[0m\u001b[0;34m,\u001b[0m\u001b[0;34m\u001b[0m\u001b[0;34m\u001b[0m\u001b[0m\n\u001b[0;32m-> 1848\u001b[0;31m         cancellation_manager=cancellation_manager)\n\u001b[0m\u001b[1;32m   1849\u001b[0m \u001b[0;34m\u001b[0m\u001b[0m\n\u001b[1;32m   1850\u001b[0m   \u001b[0;32mdef\u001b[0m \u001b[0m_call_flat\u001b[0m\u001b[0;34m(\u001b[0m\u001b[0mself\u001b[0m\u001b[0;34m,\u001b[0m \u001b[0margs\u001b[0m\u001b[0;34m,\u001b[0m \u001b[0mcaptured_inputs\u001b[0m\u001b[0;34m,\u001b[0m \u001b[0mcancellation_manager\u001b[0m\u001b[0;34m=\u001b[0m\u001b[0;32mNone\u001b[0m\u001b[0;34m)\u001b[0m\u001b[0;34m:\u001b[0m\u001b[0;34m\u001b[0m\u001b[0;34m\u001b[0m\u001b[0m\n",
            "\u001b[0;32m/usr/local/lib/python3.6/dist-packages/tensorflow/python/eager/function.py\u001b[0m in \u001b[0;36m_call_flat\u001b[0;34m(self, args, captured_inputs, cancellation_manager)\u001b[0m\n\u001b[1;32m   1922\u001b[0m       \u001b[0;31m# No tape is watching; skip to running the function.\u001b[0m\u001b[0;34m\u001b[0m\u001b[0;34m\u001b[0m\u001b[0;34m\u001b[0m\u001b[0m\n\u001b[1;32m   1923\u001b[0m       return self._build_call_outputs(self._inference_function.call(\n\u001b[0;32m-> 1924\u001b[0;31m           ctx, args, cancellation_manager=cancellation_manager))\n\u001b[0m\u001b[1;32m   1925\u001b[0m     forward_backward = self._select_forward_and_backward_functions(\n\u001b[1;32m   1926\u001b[0m         \u001b[0margs\u001b[0m\u001b[0;34m,\u001b[0m\u001b[0;34m\u001b[0m\u001b[0;34m\u001b[0m\u001b[0m\n",
            "\u001b[0;32m/usr/local/lib/python3.6/dist-packages/tensorflow/python/eager/function.py\u001b[0m in \u001b[0;36mcall\u001b[0;34m(self, ctx, args, cancellation_manager)\u001b[0m\n\u001b[1;32m    548\u001b[0m               \u001b[0minputs\u001b[0m\u001b[0;34m=\u001b[0m\u001b[0margs\u001b[0m\u001b[0;34m,\u001b[0m\u001b[0;34m\u001b[0m\u001b[0;34m\u001b[0m\u001b[0m\n\u001b[1;32m    549\u001b[0m               \u001b[0mattrs\u001b[0m\u001b[0;34m=\u001b[0m\u001b[0mattrs\u001b[0m\u001b[0;34m,\u001b[0m\u001b[0;34m\u001b[0m\u001b[0;34m\u001b[0m\u001b[0m\n\u001b[0;32m--> 550\u001b[0;31m               ctx=ctx)\n\u001b[0m\u001b[1;32m    551\u001b[0m         \u001b[0;32melse\u001b[0m\u001b[0;34m:\u001b[0m\u001b[0;34m\u001b[0m\u001b[0;34m\u001b[0m\u001b[0m\n\u001b[1;32m    552\u001b[0m           outputs = execute.execute_with_cancellation(\n",
            "\u001b[0;32m/usr/local/lib/python3.6/dist-packages/tensorflow/python/eager/execute.py\u001b[0m in \u001b[0;36mquick_execute\u001b[0;34m(op_name, num_outputs, inputs, attrs, ctx, name)\u001b[0m\n\u001b[1;32m     58\u001b[0m     \u001b[0mctx\u001b[0m\u001b[0;34m.\u001b[0m\u001b[0mensure_initialized\u001b[0m\u001b[0;34m(\u001b[0m\u001b[0;34m)\u001b[0m\u001b[0;34m\u001b[0m\u001b[0;34m\u001b[0m\u001b[0m\n\u001b[1;32m     59\u001b[0m     tensors = pywrap_tfe.TFE_Py_Execute(ctx._handle, device_name, op_name,\n\u001b[0;32m---> 60\u001b[0;31m                                         inputs, attrs, num_outputs)\n\u001b[0m\u001b[1;32m     61\u001b[0m   \u001b[0;32mexcept\u001b[0m \u001b[0mcore\u001b[0m\u001b[0;34m.\u001b[0m\u001b[0m_NotOkStatusException\u001b[0m \u001b[0;32mas\u001b[0m \u001b[0me\u001b[0m\u001b[0;34m:\u001b[0m\u001b[0;34m\u001b[0m\u001b[0;34m\u001b[0m\u001b[0m\n\u001b[1;32m     62\u001b[0m     \u001b[0;32mif\u001b[0m \u001b[0mname\u001b[0m \u001b[0;32mis\u001b[0m \u001b[0;32mnot\u001b[0m \u001b[0;32mNone\u001b[0m\u001b[0;34m:\u001b[0m\u001b[0;34m\u001b[0m\u001b[0;34m\u001b[0m\u001b[0m\n",
            "\u001b[0;31mKeyboardInterrupt\u001b[0m: "
          ]
        }
      ]
    },
    {
      "cell_type": "markdown",
      "metadata": {
        "id": "mgUJLrf-yK45"
      },
      "source": [
        "#### 3.3.5 Testing and evaluation"
      ]
    },
    {
      "cell_type": "code",
      "metadata": {
        "id": "9uuzs99YUAuc",
        "outputId": "19c390fe-a89a-494e-edce-f9c562d4a758",
        "colab": {
          "base_uri": "https://localhost:8080/",
          "height": 928
        }
      },
      "source": [
        "#####\n",
        "# Resnet fine-tuned\n",
        "#####\n",
        "test_generator.reset()\n",
        "rn_predictions = rn_model.predict_generator(test_generator, verbose=1)\n",
        "\n",
        "# Create and display confusion matrix and classification report\n",
        "target_names = ['dyed_lifted_polyps', 'dyed_resection_margins', 'esophagitis', 'normal_cecum', 'normal_pylorus', 'normal_z_line', 'polyps', 'ulcerative-colitis']\n",
        "\n",
        "y_pred = np.argmax(rn_predictions, axis=-1)\n",
        "y_true = test_generator.classes[test_generator.index_array]\n",
        "\n",
        "conf_matr = confusion_matrix(y_true, y_pred)\n",
        "\n",
        "plot_confusion_matrix(conf_matr, target_names, normalize=False)\n",
        "\n",
        "print('Classification Report')\n",
        "print(classification_report(y_true, y_pred, target_names=target_names))\n",
        "\n",
        "print('Raw Confusion Matrix')\n",
        "print(conf_matr)"
      ],
      "execution_count": null,
      "outputs": [
        {
          "output_type": "stream",
          "text": [
            "63/63 [==============================] - 55s 875ms/step\n"
          ],
          "name": "stdout"
        },
        {
          "output_type": "display_data",
          "data": {
            "image/png": "[encoded data removed]",
            "text/plain": [
              "<Figure size 576x432 with 2 Axes>"
            ]
          },
          "metadata": {
            "tags": [],
            "needs_background": "light"
          }
        },
        {
          "output_type": "stream",
          "text": [
            "Classification Report\n",
            "                        precision    recall  f1-score   support\n",
            "\n",
            "    dyed_lifted_polyps       0.94      0.91      0.92       250\n",
            "dyed_resection_margins       0.93      0.95      0.94       250\n",
            "           esophagitis       0.82      0.82      0.82       250\n",
            "          normal_cecum       0.91      0.97      0.94       250\n",
            "        normal_pylorus       0.98      0.99      0.98       250\n",
            "         normal_z_line       0.82      0.82      0.82       250\n",
            "                polyps       0.95      0.90      0.92       250\n",
            "    ulcerative-colitis       0.94      0.93      0.93       250\n",
            "\n",
            "              accuracy                           0.91      2000\n",
            "             macro avg       0.91      0.91      0.91      2000\n",
            "          weighted avg       0.91      0.91      0.91      2000\n",
            "\n",
            "Raw Confusion Matrix\n",
            "[[227  18   0   0   0   0   3   2]\n",
            " [ 12 238   0   0   0   0   0   0]\n",
            " [  0   0 206   0   0  43   0   1]\n",
            " [  0   0   0 242   0   0   4   4]\n",
            " [  0   0   1   0 247   1   0   1]\n",
            " [  0   0  43   0   2 205   0   0]\n",
            " [  2   1   0  12   3   0 224   8]\n",
            " [  0   0   0  12   1   0   5 232]]\n"
          ],
          "name": "stdout"
        }
      ]
    },
    {
      "cell_type": "markdown",
      "metadata": {
        "id": "66f05-NXyPAy"
      },
      "source": [
        "## 4 Other"
      ]
    },
    {
      "cell_type": "code",
      "metadata": {
        "id": "zBigm-tCuvJu"
      },
      "source": [
        "\"\"\"\n",
        "DISPLAY INCORRECTLY CLASSIFIED\n",
        "\"\"\"\n",
        "\n",
        "# reverse k, v => v, k\n",
        "class_indices = {v: k for k, v in test_generator.class_indices.items()}\n",
        "\n",
        "for i in range(0,2000):\n",
        "    filepath = test_generator.filepaths[i]\n",
        "    filename = test_generator.filenames[i]\n",
        "    label_index = test_generator.classes[i]\n",
        "    prediction = np.argmax(rn_predictions, axis=-1)[i]\n",
        "\n",
        "    true_label = class_indices[label_index]\n",
        "    pred_label = class_indices[prediction]\n",
        "\n",
        "    if label_index != prediction:\n",
        "        plt.figure(figsize=(8,6))\n",
        "        plt.axis(\"off\")\n",
        "        plt.title(f\"true: {true_label} / pred: {pred_label}\")\n",
        "        plt.imshow(cv2.cvtColor(cv2.imread(filepath), cv2.COLOR_BGR2RGB))\n",
        "        # plt.savefig(f\"/content/gdrive/My Drive/TDT4173/incorrect-{i}.png\")\n",
        "        plt.show()\n",
        "    else:\n",
        "        if i % 20 == 0:\n",
        "            plt.figure(figsize=(8,6))\n",
        "            plt.axis(\"off\")\n",
        "            plt.title(f\"true: {true_label} / pred: {pred_label}\")\n",
        "            plt.imshow(cv2.cvtColor(cv2.imread(filepath), cv2.COLOR_BGR2RGB))\n",
        "            # plt.savefig(f\"/content/gdrive/My Drive/TDT4173/correct-{i}.png\")\n",
        "            plt.show()\n"
      ],
      "execution_count": null,
      "outputs": []
    }
  ]
}